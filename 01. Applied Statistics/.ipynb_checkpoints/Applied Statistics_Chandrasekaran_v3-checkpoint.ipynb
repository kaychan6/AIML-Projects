{
 "cells": [
  {
   "cell_type": "markdown",
   "id": "4ff5201a",
   "metadata": {},
   "source": [
    "### Author: Chandrasekaran Krishna Mohan"
   ]
  },
  {
   "cell_type": "markdown",
   "id": "9bca3292",
   "metadata": {},
   "source": [
    "# Project 1: Applied Statistics"
   ]
  },
  {
   "cell_type": "markdown",
   "id": "0acb8953",
   "metadata": {},
   "source": [
    "This is the first project in the AIML course offered by Great Learning. The project is split into 3 parts covering probability \n",
    "basics, EDA, visualisation and inferential statistics."
   ]
  },
  {
   "cell_type": "markdown",
   "id": "daf81804",
   "metadata": {},
   "source": [
    "<b>Part 1:</b> Contains 6 questions on probabiity which require detailed answers including assumptions, explanations and calculations <br>\n",
    "<b>Part 2:</b> Contains a dataset from SPORTS domain on which EDA needs to be performed to arrive at a conclusion on performance <br>\n",
    "<b>Part 3:</b> Contains a dataset from STARTUP ECOSYSTEM from which statistical inferences need to be derived"
   ]
  },
  {
   "cell_type": "markdown",
   "id": "bf9de77f",
   "metadata": {},
   "source": [
    "Let us begin with <b>Part 1</b>"
   ]
  },
  {
   "cell_type": "markdown",
   "id": "94b00e80",
   "metadata": {},
   "source": [
    "## Part 1: Question Based"
   ]
  },
  {
   "cell_type": "markdown",
   "id": "bca64738",
   "metadata": {},
   "source": [
    "### Q1: Please refer the table below to answer below questions"
   ]
  },
  {
   "cell_type": "markdown",
   "id": "069cb9b1",
   "metadata": {},
   "source": [
    "<table align=\"center\">\n",
    "<th>Planned to purchase Product A</th>\n",
    "<th>Actually placed and order for Product A - Yes</th>\n",
    "<th>Actually placed and order for Product A - No</th>\n",
    "<th>Total</th>\n",
    "<tr>\n",
    "    <td>Yes</td>\n",
    "    <td>400</td>\n",
    "    <td>100</td>\n",
    "    <td>500</td>\n",
    "</tr>\n",
    "    <td>No</td>\n",
    "    <td>200</td>\n",
    "    <td>1300</td>\n",
    "    <td>1500</td>\n",
    "<tr>\n",
    "    <td>Total</td>\n",
    "    <td>600</td>\n",
    "    <td>1400</td>\n",
    "    <td>2000</td>\n",
    "</tr>\n",
    "</table>"
   ]
  },
  {
   "cell_type": "markdown",
   "id": "9e4ab3d4",
   "metadata": {},
   "source": [
    "<b>1.1</b> Refer to the above table and find the joint probability of the people who planned to purchase and actually\n",
    "placed an order."
   ]
  },
  {
   "cell_type": "markdown",
   "id": "f98ca842",
   "metadata": {},
   "source": [
    "This is a simple probability calculation where P(planned to purchase and actually placed order) is the proportion of people who planned to purchase and placed order (400) with respect to total number (2000)"
   ]
  },
  {
   "cell_type": "code",
   "execution_count": 1,
   "id": "fae8fc7f",
   "metadata": {},
   "outputs": [
    {
     "name": "stdout",
     "output_type": "stream",
     "text": [
      "P(planned to purchase and actually placed order)= 0.20\n"
     ]
    }
   ],
   "source": [
    "print(\"P(planned to purchase and actually placed order)= %.2f\"  %(400/2000))"
   ]
  },
  {
   "cell_type": "markdown",
   "id": "c45ae2ac",
   "metadata": {},
   "source": [
    "<b>1.2</b> Refer to the above table and find the joint probability of the people who planned to purchase and actually\n",
    "placed an order, given that people planned to purchase"
   ]
  },
  {
   "cell_type": "markdown",
   "id": "c673e185",
   "metadata": {},
   "source": [
    "This is a conditional probability where \n",
    "    P(planned to purchase and actually placed order given planned to purchase) = P(planned to purchase and actually placed order)/ P(planned to purchase)"
   ]
  },
  {
   "cell_type": "code",
   "execution_count": 2,
   "id": "36debea4",
   "metadata": {},
   "outputs": [
    {
     "name": "stdout",
     "output_type": "stream",
     "text": [
      "P(planned to purchase and actually placed order given planned to purchase) = P(planned to purchase and actually placed order)/ P(planned to purchase)\n",
      "P(planned to purchase and actually placed order given planned to purchase) = 0.80\n"
     ]
    }
   ],
   "source": [
    "print(\"P(planned to purchase and actually placed order given planned to purchase) = P(planned to purchase and actually placed order)/ P(planned to purchase)\")\n",
    "print(\"P(planned to purchase and actually placed order given planned to purchase) = %.2f\" %(400/500))"
   ]
  },
  {
   "cell_type": "markdown",
   "id": "26cdbe8c",
   "metadata": {},
   "source": [
    "### Q2: An electrical manufacturing company conducts quality checks at specified periods on the roducts it manufactures. Historically, the failure rate for the manufactured item is 5%. Suppose a random sample of 10 manufactured items is selected. Answer the following questions"
   ]
  },
  {
   "cell_type": "markdown",
   "id": "57cea479",
   "metadata": {},
   "source": [
    "<b>2.1</b> Probability that none of the items are defective?"
   ]
  },
  {
   "cell_type": "markdown",
   "id": "970c6bdb",
   "metadata": {},
   "source": [
    "This is an example of a binomial event where the products can either be defective or not defective. <br>\n",
    "<blockquote>\n",
    "p = P(sample is defective) = 5% = 0.05<br>\n",
    "n = Number of samples = 10 \n",
    "</blockquote>\n",
    "\n",
    "Hence the probability distribution for this can be obtained via the stats.binom.pmf or stats.binom.cdf functions with n=10 and p=0.05, depending on whether we need cumulative or point probability"
   ]
  },
  {
   "cell_type": "code",
   "execution_count": 3,
   "id": "384e0d74",
   "metadata": {},
   "outputs": [
    {
     "name": "stdout",
     "output_type": "stream",
     "text": [
      "Probability that none of the items are defective  = 0.599\n"
     ]
    }
   ],
   "source": [
    "import numpy as np\n",
    "import pandas as pd\n",
    "import matplotlib.pyplot as plt\n",
    "%matplotlib inline\n",
    "import seaborn as sns\n",
    "import scipy.stats as stats\n",
    "p = 0.05 # probability that sample is defective\n",
    "n = 10 # number of samples\n",
    "x= np.arange(0,11)\n",
    "prob_dist = stats.binom.pmf(x,n,p)\n",
    "print(\"Probability that none of the items are defective  = %.3f\" %(prob_dist[0]))"
   ]
  },
  {
   "cell_type": "markdown",
   "id": "4323350b",
   "metadata": {},
   "source": [
    "<b>2.2</b> Probability that exactly one of the items is defective?"
   ]
  },
  {
   "cell_type": "code",
   "execution_count": 4,
   "id": "ecb22450",
   "metadata": {},
   "outputs": [
    {
     "name": "stdout",
     "output_type": "stream",
     "text": [
      "Probability that one of the items is defective  = 0.315\n"
     ]
    }
   ],
   "source": [
    "print(\"Probability that one of the items is defective  = %.3f\" %prob_dist[1])"
   ]
  },
  {
   "cell_type": "markdown",
   "id": "dc998231",
   "metadata": {},
   "source": [
    "<b>2.3</b> Probability that two or fewer of the items are defective?"
   ]
  },
  {
   "cell_type": "markdown",
   "id": "beb97f23",
   "metadata": {},
   "source": [
    "<blockquote>Probability that two or fewer of the items is defective = Probability (0 defective or 1 defective or 2 defectives) </blockquote>\n",
    "Since, these are mutually exclusive events,\n",
    "<blockquote>Probability that two or fewer of the items is defective = Probability (0 defective) + Probability (1 defective) + Probability (2 defectives) </blockquote>\n"
   ]
  },
  {
   "cell_type": "code",
   "execution_count": 5,
   "id": "6006eba1",
   "metadata": {},
   "outputs": [
    {
     "name": "stdout",
     "output_type": "stream",
     "text": [
      "Probability that two or fewer items are defective  = 0.988\n"
     ]
    }
   ],
   "source": [
    "print(\"Probability that two or fewer items are defective  = %.3f\" %prob_dist[0:3].sum())"
   ]
  },
  {
   "cell_type": "markdown",
   "id": "1c6a2c4f",
   "metadata": {},
   "source": [
    "<b>2.4</b> Probability that three or more of the items are defective ?"
   ]
  },
  {
   "cell_type": "markdown",
   "id": "f179a4cd",
   "metadata": {},
   "source": [
    "Applying same additive rule as above: "
   ]
  },
  {
   "cell_type": "code",
   "execution_count": 6,
   "id": "d45ea768",
   "metadata": {},
   "outputs": [
    {
     "name": "stdout",
     "output_type": "stream",
     "text": [
      "Probability that three or more items are defective  = 0.012\n"
     ]
    }
   ],
   "source": [
    "print(\"Probability that three or more items are defective  = %.3f\" %prob_dist[3:11].sum())"
   ]
  },
  {
   "cell_type": "markdown",
   "id": "7716a893",
   "metadata": {},
   "source": [
    "### Q3: A car salesman sells on an average 3 cars per week."
   ]
  },
  {
   "cell_type": "markdown",
   "id": "4370b111",
   "metadata": {},
   "source": [
    "<b>3.1</b> Probability that in a given week he will sell some cars"
   ]
  },
  {
   "cell_type": "markdown",
   "id": "18a20efb",
   "metadata": {},
   "source": [
    "This experiment, with no restriction on the maximum number of \"trials/events\" can be described by Poisson Distribution.\n",
    "<blockquote> lambda = Average sales rate = 3 cars/week </blockquote>\n",
    "Hence the probability distribution for this can be obtained via the stats.poisson.pmf or stats.poissonm.cdf functions with lambda=3, depending on whether we need cumulative or point probability\n"
   ]
  },
  {
   "cell_type": "code",
   "execution_count": 7,
   "id": "965bb3f2",
   "metadata": {},
   "outputs": [
    {
     "name": "stdout",
     "output_type": "stream",
     "text": [
      "Probability that he sells some cars = 1- Probability that he sells no cars = 0.950\n"
     ]
    }
   ],
   "source": [
    "avg_rate = 3 # lambda\n",
    "x= np.arange(0,20)\n",
    "prob_dist = stats.poisson.pmf(x,avg_rate)\n",
    "print(\"Probability that he sells some cars = 1- Probability that he sells no cars = %.3f\" %(1-prob_dist[0]))"
   ]
  },
  {
   "cell_type": "markdown",
   "id": "ec7d6663",
   "metadata": {},
   "source": [
    "<b>3.2</b> Probability that in a given week he will sell 2 or more but less than 5 cars."
   ]
  },
  {
   "cell_type": "markdown",
   "id": "69b4ba21",
   "metadata": {},
   "source": [
    "Applying the addition rule, since selling 2 cars or 3 cars or 4 cars are all mutually exclusive events:"
   ]
  },
  {
   "cell_type": "code",
   "execution_count": 8,
   "id": "3ecee9f9",
   "metadata": {},
   "outputs": [
    {
     "name": "stdout",
     "output_type": "stream",
     "text": [
      "Probability that he sells 2 or more but less than 5 cars = 0.616\n"
     ]
    }
   ],
   "source": [
    "print(\"Probability that he sells 2 or more but less than 5 cars = %.3f\" %(prob_dist[2:5].sum()))"
   ]
  },
  {
   "cell_type": "markdown",
   "id": "69c314ce",
   "metadata": {},
   "source": [
    "<b>3.3</b> Plot the poisson distribution function for cumulative probability of cars sold per-week vs number of cars sold perweek."
   ]
  },
  {
   "cell_type": "code",
   "execution_count": 9,
   "id": "b2e5f3d9",
   "metadata": {},
   "outputs": [
    {
     "data": {
      "text/plain": [
       "Text(0, 0.5, 'Cumulative Probability')"
      ]
     },
     "execution_count": 9,
     "metadata": {},
     "output_type": "execute_result"
    },
    {
     "data": {
      "image/png": "[encoded data removed]",
      "text/plain": [
       "<Figure size 432x288 with 1 Axes>"
      ]
     },
     "metadata": {
      "needs_background": "light"
     },
     "output_type": "display_data"
    }
   ],
   "source": [
    "prob_dist_cum = stats.poisson.cdf(x,avg_rate) #calculate the cumulative probability distribution\n",
    "plt.plot(x, prob_dist_cum)\n",
    "plt.title(\"Cumulative Probability  Disttribution\")\n",
    "plt.xlabel(\"Cars Sold per Week\")\n",
    "plt.ylabel(\"Cumulative Probability\")"
   ]
  },
  {
   "cell_type": "markdown",
   "id": "b6403228",
   "metadata": {},
   "source": [
    "### Q4: Accuracy in understanding orders for a speech based bot at a restaurant is important for the Company X which has designed, marketed and launched the product for a contactless delivery due to the COVID-19 pandemic. Recognition accuracy that measures the percentage of orders that are taken correctly is 86.8%. Suppose that you place order with the bot and two friends of yours independently place orders with the same bot. Answer the following questions"
   ]
  },
  {
   "cell_type": "markdown",
   "id": "49322b24",
   "metadata": {},
   "source": [
    "<b>4.1</b> What is the probability that all three orders will be recognised correctly?"
   ]
  },
  {
   "cell_type": "markdown",
   "id": "408f1b20",
   "metadata": {},
   "source": [
    "This experiment is again a binomial distribution with <br>\n",
    "<blockquote>p = 0.868<br>\n",
    "n = 3</blockquote\n",
    "\n",
    "Hence the probability distribution for this can be obtained via the stats.binom.pmf or stats.binom.cdf functions with n=3 and p=0.868, depending on whether we need cumulative or point probability"
   ]
  },
  {
   "cell_type": "code",
   "execution_count": 10,
   "id": "538d80a0",
   "metadata": {},
   "outputs": [
    {
     "name": "stdout",
     "output_type": "stream",
     "text": [
      "Probability that all three orders will be recognised correctly = 0.654\n"
     ]
    }
   ],
   "source": [
    "x=np.arange(0,4)\n",
    "p=0.868\n",
    "n=3\n",
    "binom_dist = stats.binom.pmf(x,n,p)\n",
    "print(\"Probability that all three orders will be recognised correctly = %.3f\" %binom_dist[3])"
   ]
  },
  {
   "cell_type": "markdown",
   "id": "dbc126c2",
   "metadata": {},
   "source": [
    "<b>4.2</b> What is the probability that none of the three orders will be recognised correctly?"
   ]
  },
  {
   "cell_type": "code",
   "execution_count": 11,
   "id": "39bbacc7",
   "metadata": {},
   "outputs": [
    {
     "name": "stdout",
     "output_type": "stream",
     "text": [
      "Probability that none of the orders will be recognised correctly = 0.002\n"
     ]
    }
   ],
   "source": [
    "print(\"Probability that none of the orders will be recognised correctly = %.3f\" %binom_dist[0])"
   ]
  },
  {
   "cell_type": "markdown",
   "id": "b196f07f",
   "metadata": {},
   "source": [
    "<b>4.3</b> What is the probability that at least two of the three orders will be recognised correctly?"
   ]
  },
  {
   "cell_type": "markdown",
   "id": "23204ea3",
   "metadata": {},
   "source": [
    "Appying addition rule here since probability of getting atleast 2 orders right is same as sum of probability of 2 orders right and probability of 3 orders right"
   ]
  },
  {
   "cell_type": "code",
   "execution_count": 12,
   "id": "305ff4df",
   "metadata": {},
   "outputs": [
    {
     "name": "stdout",
     "output_type": "stream",
     "text": [
      "Probability that atleast 2 out of 3 orders will be recognised correctly = 0.952\n"
     ]
    }
   ],
   "source": [
    "print(\"Probability that atleast 2 out of 3 orders will be recognised correctly = %.3f\" %(binom_dist[2]+binom_dist[3]))"
   ]
  },
  {
   "cell_type": "markdown",
   "id": "7bfaa449",
   "metadata": {},
   "source": [
    "### Q5: A group of 300 professionals sat for a competitive exam. The results show the information of marks obtained by them have a mean of 60 and a standard deviation of 12. The pattern of marks follows a normal distribution. Answer the following questions"
   ]
  },
  {
   "cell_type": "markdown",
   "id": "3c611559",
   "metadata": {},
   "source": [
    "<b>5.1</b> What is the percentage of students who score more than 80."
   ]
  },
  {
   "cell_type": "markdown",
   "id": "347c6816",
   "metadata": {},
   "source": [
    "As mentioned in the question, this is a normal distribution with <br>\n",
    "<blockquote> loc = mean = 60<br>\n",
    "scale = standard deviation = 12</blockquote>\n",
    "\n",
    "Hence, the probability distribution can be obtained by using stats.norm.cdf function, as per the value mentioned\n"
   ]
  },
  {
   "cell_type": "code",
   "execution_count": 13,
   "id": "b577071f",
   "metadata": {},
   "outputs": [
    {
     "name": "stdout",
     "output_type": "stream",
     "text": [
      "Percentage of students scored > 80 = 4.78%\n"
     ]
    }
   ],
   "source": [
    "loc = 60\n",
    "scale =12\n",
    "print (\"Percentage of students scored > 80 = %0.2f%%\" %((1-stats.norm.cdf(80,loc,scale))*100))"
   ]
  },
  {
   "cell_type": "markdown",
   "id": "6c905c6a",
   "metadata": {},
   "source": [
    "<b>5.2</b> What is the percentage of students who score less than 50"
   ]
  },
  {
   "cell_type": "code",
   "execution_count": 14,
   "id": "618bae6e",
   "metadata": {},
   "outputs": [
    {
     "name": "stdout",
     "output_type": "stream",
     "text": [
      "Percentage of students scored < 50 = 20.23%\n"
     ]
    }
   ],
   "source": [
    "print (\"Percentage of students scored < 50 = %0.2f%%\" %(stats.norm.cdf(50,loc,scale)*100))"
   ]
  },
  {
   "cell_type": "markdown",
   "id": "d691bc48",
   "metadata": {},
   "source": [
    "<b>5.3</b> What should be the distinction mark if the highest 10% of students are to be awarded distinction?"
   ]
  },
  {
   "cell_type": "markdown",
   "id": "96c51af2",
   "metadata": {},
   "source": [
    "Highest 10% of students implies we need to find the z10 that will corresponding to P(z>z10)=10%. For this, we can use the inverse distribution function"
   ]
  },
  {
   "cell_type": "code",
   "execution_count": 15,
   "id": "4bd0fca1",
   "metadata": {},
   "outputs": [
    {
     "name": "stdout",
     "output_type": "stream",
     "text": [
      "z10 = 1.282\n",
      "The cut-off for distinction should be = 75.38%\n"
     ]
    }
   ],
   "source": [
    "p=0.1\n",
    "z10 = stats.norm.isf(0.1)\n",
    "print(\"z10 = %0.3f\" %z10)\n",
    "x = z10*scale + loc\n",
    "print(\"The cut-off for distinction should be = %0.2f%%\" %x)\n"
   ]
  },
  {
   "cell_type": "markdown",
   "id": "776d470e",
   "metadata": {},
   "source": [
    "### Q6: Explain 1 real life industry scenario [other than the ones mentioned above] where you can use the concepts learnt in this module of Applied statistics to get a data driven business solution."
   ]
  },
  {
   "cell_type": "markdown",
   "id": "9d6d6d26",
   "metadata": {},
   "source": [
    "The concept of Bayes Theorem can be very well applied to Spam Filters for e-mail. The filters fundamentally follow Bayes Theorem in detecting if a mail is spam or not basis the words contained in the e-mail. As per Bayes Theorem, the below probabilities will be available apriori basis sample data<br>\n",
    "<blockquote> \n",
    "P(Spam) = probability that a given e-mail is spam (based on hisotrical data) <br>\n",
    "P(Word/Spam) = probabiity that a given word occurs in a spam e-mail <br>\n",
    "P(Ham) = probability that a given e-mail is not spam (ham ; based on historical data) <br>\n",
    "P(Word/Ham) = probaility that a given word occurs in ham e-mail</blockquote>\n",
    "\n",
    "Hence,\n",
    "$$ P(Spam/Word) = \\frac{P(Word/Spam)*P(Spam)}{P(Word/Spam)*P(Spam)+P(Word/Ham)*P(Ham)}\\\\ $$\n"
   ]
  },
  {
   "cell_type": "markdown",
   "id": "73192b53",
   "metadata": {},
   "source": [
    "The data on the apriori probabilities can also be updated as we process more and more e-mails in the above system. "
   ]
  },
  {
   "cell_type": "markdown",
   "id": "21389b6b",
   "metadata": {},
   "source": [
    "## Part 2: Project Based"
   ]
  },
  {
   "cell_type": "markdown",
   "id": "65257474",
   "metadata": {},
   "source": [
    "<b>Domain:</b> Sports"
   ]
  },
  {
   "cell_type": "markdown",
   "id": "a95f48f6",
   "metadata": {},
   "source": [
    "<b>Context:</b> Company X manages the men's top professional basketball division of the American league system.\n",
    "The dataset contains information on all the teams that have participated in all the past tournaments. It has data\n",
    "about how many baskets each team scored, conceded, how many times they came within the first 2 positions,\n",
    "how many tournaments they have qualified, their best position in the past, etc."
   ]
  },
  {
   "cell_type": "markdown",
   "id": "58b6f26b",
   "metadata": {},
   "source": [
    "<b>Data Description:</b> Basketball.csv - The data set contains information on all the teams so far participated in\n",
    "all the past tournaments."
   ]
  },
  {
   "cell_type": "markdown",
   "id": "ff929538",
   "metadata": {},
   "source": [
    "**Attribute Information:** \n",
    "1. **Team:** Team's name\n",
    "2. **Tournament:** Number of played tournaments\n",
    "3. **Score:** Team's score so far\n",
    "4. **PlayedGames:** Games played by the team so far\n",
    "5. **WonGames:** Games won by the team so far\n",
    "6. **DrawnGames:** Games drawn by the team so far\n",
    "7. **LostGames:** Games lost by the team so far\n",
    "8. **BasketScored:** Basket scored by the team so far\n",
    "9. **BasketGiven:** Basket scored against the team so far\n",
    "10. **TournamentChampion:** How many times the team was a champion of the tournaments so far\n",
    "11. **Runner-up:** How many times the team was a runners-up of the tournaments so far\n",
    "12. **TeamLaunch:** Year the team was launched on professional basketball\n",
    "13. **HighestPositionHeld:** Highest position held by the team amongst all the tournaments played"
   ]
  },
  {
   "cell_type": "markdown",
   "id": "b5f632f8",
   "metadata": {},
   "source": [
    "**Project Objective:** Company’s management wants to invest on proposal on managing some of the best\n",
    "teams in the league. The analytics department has been assigned with a task of creating a report on the\n",
    "performance shown by the teams. Some of the older teams are already in contract with competitors. Hence\n",
    "Company X wants to understand which teams they can approach which will be a deal win for them."
   ]
  },
  {
   "cell_type": "code",
   "execution_count": 2,
   "id": "93308110",
   "metadata": {},
   "outputs": [],
   "source": [
    "# importing packages\n",
    "import numpy as np\n",
    "import pandas as pd\n",
    "import matplotlib.pyplot as plt\n",
    "import matplotlib.style as style; style.use('fivethirtyeight')\n",
    "%matplotlib inline\n",
    "import seaborn as sns\n",
    "import scipy.stats as stats\n",
    "from statsmodels.formula.api import ols\n",
    "import statsmodels.api as sm\n",
    "from scipy.stats import chi2\n",
    "from datetime import datetime, date"
   ]
  },
  {
   "cell_type": "code",
   "execution_count": 3,
   "id": "83a747e1",
   "metadata": {},
   "outputs": [
    {
     "data": {
      "text/html": [
       "<div>\n",
       "<style scoped>\n",
       "    .dataframe tbody tr th:only-of-type {\n",
       "        vertical-align: middle;\n",
       "    }\n",
       "\n",
       "    .dataframe tbody tr th {\n",
       "        vertical-align: top;\n",
       "    }\n",
       "\n",
       "    .dataframe thead th {\n",
       "        text-align: right;\n",
       "    }\n",
       "</style>\n",
       "<table border=\"1\" class=\"dataframe\">\n",
       "  <thead>\n",
       "    <tr style=\"text-align: right;\">\n",
       "      <th></th>\n",
       "      <th>Team</th>\n",
       "      <th>Tournament</th>\n",
       "      <th>Score</th>\n",
       "      <th>PlayedGames</th>\n",
       "      <th>WonGames</th>\n",
       "      <th>DrawnGames</th>\n",
       "      <th>LostGames</th>\n",
       "      <th>BasketScored</th>\n",
       "      <th>BasketGiven</th>\n",
       "      <th>TournamentChampion</th>\n",
       "      <th>Runner-up</th>\n",
       "      <th>TeamLaunch</th>\n",
       "      <th>HighestPositionHeld</th>\n",
       "    </tr>\n",
       "  </thead>\n",
       "  <tbody>\n",
       "    <tr>\n",
       "      <th>0</th>\n",
       "      <td>Team 1</td>\n",
       "      <td>86</td>\n",
       "      <td>4385</td>\n",
       "      <td>2762</td>\n",
       "      <td>1647</td>\n",
       "      <td>552</td>\n",
       "      <td>563</td>\n",
       "      <td>5947</td>\n",
       "      <td>3140</td>\n",
       "      <td>33</td>\n",
       "      <td>23</td>\n",
       "      <td>1929</td>\n",
       "      <td>1</td>\n",
       "    </tr>\n",
       "    <tr>\n",
       "      <th>1</th>\n",
       "      <td>Team 2</td>\n",
       "      <td>86</td>\n",
       "      <td>4262</td>\n",
       "      <td>2762</td>\n",
       "      <td>1581</td>\n",
       "      <td>573</td>\n",
       "      <td>608</td>\n",
       "      <td>5900</td>\n",
       "      <td>3114</td>\n",
       "      <td>25</td>\n",
       "      <td>25</td>\n",
       "      <td>1929</td>\n",
       "      <td>1</td>\n",
       "    </tr>\n",
       "    <tr>\n",
       "      <th>2</th>\n",
       "      <td>Team 3</td>\n",
       "      <td>80</td>\n",
       "      <td>3442</td>\n",
       "      <td>2614</td>\n",
       "      <td>1241</td>\n",
       "      <td>598</td>\n",
       "      <td>775</td>\n",
       "      <td>4534</td>\n",
       "      <td>3309</td>\n",
       "      <td>10</td>\n",
       "      <td>8</td>\n",
       "      <td>1929</td>\n",
       "      <td>1</td>\n",
       "    </tr>\n",
       "    <tr>\n",
       "      <th>3</th>\n",
       "      <td>Team 4</td>\n",
       "      <td>82</td>\n",
       "      <td>3386</td>\n",
       "      <td>2664</td>\n",
       "      <td>1187</td>\n",
       "      <td>616</td>\n",
       "      <td>861</td>\n",
       "      <td>4398</td>\n",
       "      <td>3469</td>\n",
       "      <td>6</td>\n",
       "      <td>6</td>\n",
       "      <td>1931to32</td>\n",
       "      <td>1</td>\n",
       "    </tr>\n",
       "    <tr>\n",
       "      <th>4</th>\n",
       "      <td>Team 5</td>\n",
       "      <td>86</td>\n",
       "      <td>3368</td>\n",
       "      <td>2762</td>\n",
       "      <td>1209</td>\n",
       "      <td>633</td>\n",
       "      <td>920</td>\n",
       "      <td>4631</td>\n",
       "      <td>3700</td>\n",
       "      <td>8</td>\n",
       "      <td>7</td>\n",
       "      <td>1929</td>\n",
       "      <td>1</td>\n",
       "    </tr>\n",
       "  </tbody>\n",
       "</table>\n",
       "</div>"
      ],
      "text/plain": [
       "     Team  Tournament Score PlayedGames WonGames DrawnGames LostGames  \\\n",
       "0  Team 1          86  4385        2762     1647        552       563   \n",
       "1  Team 2          86  4262        2762     1581        573       608   \n",
       "2  Team 3          80  3442        2614     1241        598       775   \n",
       "3  Team 4          82  3386        2664     1187        616       861   \n",
       "4  Team 5          86  3368        2762     1209        633       920   \n",
       "\n",
       "  BasketScored BasketGiven TournamentChampion Runner-up TeamLaunch  \\\n",
       "0         5947        3140                 33        23       1929   \n",
       "1         5900        3114                 25        25       1929   \n",
       "2         4534        3309                 10         8       1929   \n",
       "3         4398        3469                  6         6   1931to32   \n",
       "4         4631        3700                  8         7       1929   \n",
       "\n",
       "   HighestPositionHeld  \n",
       "0                    1  \n",
       "1                    1  \n",
       "2                    1  \n",
       "3                    1  \n",
       "4                    1  "
      ]
     },
     "execution_count": 3,
     "metadata": {},
     "output_type": "execute_result"
    }
   ],
   "source": [
    "# Read the data & check the first 5 rows\n",
    "df = pd.read_csv(\"DS - Part2 - Basketball.csv\")\n",
    "df.head(5)"
   ]
  },
  {
   "cell_type": "code",
   "execution_count": 4,
   "id": "6f46d767",
   "metadata": {},
   "outputs": [
    {
     "data": {
      "text/plain": [
       "(61, 13)"
      ]
     },
     "execution_count": 4,
     "metadata": {},
     "output_type": "execute_result"
    }
   ],
   "source": [
    "# number of entries in the dataset\n",
    "df.shape"
   ]
  },
  {
   "cell_type": "code",
   "execution_count": 5,
   "id": "eaf18205",
   "metadata": {},
   "outputs": [
    {
     "data": {
      "text/plain": [
       "Team                   object\n",
       "Tournament              int64\n",
       "Score                  object\n",
       "PlayedGames            object\n",
       "WonGames               object\n",
       "DrawnGames             object\n",
       "LostGames              object\n",
       "BasketScored           object\n",
       "BasketGiven            object\n",
       "TournamentChampion     object\n",
       "Runner-up              object\n",
       "TeamLaunch             object\n",
       "HighestPositionHeld     int64\n",
       "dtype: object"
      ]
     },
     "execution_count": 5,
     "metadata": {},
     "output_type": "execute_result"
    }
   ],
   "source": [
    "# check the data types of each attribute, followed by the non-zero entry count\n",
    "df.dtypes"
   ]
  },
  {
   "cell_type": "markdown",
   "id": "cd2fa5d4",
   "metadata": {},
   "source": [
    "We see that there are total of 61 entries in the dataset and 13 attributes. Of these 13 attributes, there are only 2 attributes that are numeric whie the rest are of type object. This means we will have to check if there are any odd entries in these columns"
   ]
  },
  {
   "cell_type": "code",
   "execution_count": 6,
   "id": "6efac5ea",
   "metadata": {},
   "outputs": [
    {
     "name": "stdout",
     "output_type": "stream",
     "text": [
      "<class 'pandas.core.frame.DataFrame'>\n",
      "RangeIndex: 61 entries, 0 to 60\n",
      "Data columns (total 13 columns):\n",
      " #   Column               Non-Null Count  Dtype \n",
      "---  ------               --------------  ----- \n",
      " 0   Team                 61 non-null     object\n",
      " 1   Tournament           61 non-null     int64 \n",
      " 2   Score                61 non-null     object\n",
      " 3   PlayedGames          61 non-null     object\n",
      " 4   WonGames             61 non-null     object\n",
      " 5   DrawnGames           61 non-null     object\n",
      " 6   LostGames            61 non-null     object\n",
      " 7   BasketScored         61 non-null     object\n",
      " 8   BasketGiven          61 non-null     object\n",
      " 9   TournamentChampion   61 non-null     object\n",
      " 10  Runner-up            61 non-null     object\n",
      " 11  TeamLaunch           61 non-null     object\n",
      " 12  HighestPositionHeld  61 non-null     int64 \n",
      "dtypes: int64(2), object(11)\n",
      "memory usage: 6.3+ KB\n"
     ]
    }
   ],
   "source": [
    "df.info()"
   ]
  },
  {
   "cell_type": "markdown",
   "id": "caeb1c6e",
   "metadata": {},
   "source": [
    "All columns have non-null entries throughout."
   ]
  },
  {
   "cell_type": "code",
   "execution_count": 7,
   "id": "8d46af50",
   "metadata": {},
   "outputs": [
    {
     "data": {
      "text/html": [
       "<div>\n",
       "<style scoped>\n",
       "    .dataframe tbody tr th:only-of-type {\n",
       "        vertical-align: middle;\n",
       "    }\n",
       "\n",
       "    .dataframe tbody tr th {\n",
       "        vertical-align: top;\n",
       "    }\n",
       "\n",
       "    .dataframe thead th {\n",
       "        text-align: right;\n",
       "    }\n",
       "</style>\n",
       "<table border=\"1\" class=\"dataframe\">\n",
       "  <thead>\n",
       "    <tr style=\"text-align: right;\">\n",
       "      <th></th>\n",
       "      <th>count</th>\n",
       "      <th>unique</th>\n",
       "      <th>top</th>\n",
       "      <th>freq</th>\n",
       "      <th>mean</th>\n",
       "      <th>std</th>\n",
       "      <th>min</th>\n",
       "      <th>25%</th>\n",
       "      <th>50%</th>\n",
       "      <th>75%</th>\n",
       "      <th>max</th>\n",
       "    </tr>\n",
       "  </thead>\n",
       "  <tbody>\n",
       "    <tr>\n",
       "      <th>Team</th>\n",
       "      <td>61</td>\n",
       "      <td>61</td>\n",
       "      <td>Team 20</td>\n",
       "      <td>1</td>\n",
       "      <td>NaN</td>\n",
       "      <td>NaN</td>\n",
       "      <td>NaN</td>\n",
       "      <td>NaN</td>\n",
       "      <td>NaN</td>\n",
       "      <td>NaN</td>\n",
       "      <td>NaN</td>\n",
       "    </tr>\n",
       "    <tr>\n",
       "      <th>Tournament</th>\n",
       "      <td>61.0</td>\n",
       "      <td>NaN</td>\n",
       "      <td>NaN</td>\n",
       "      <td>NaN</td>\n",
       "      <td>24.0</td>\n",
       "      <td>26.827225</td>\n",
       "      <td>1.0</td>\n",
       "      <td>4.0</td>\n",
       "      <td>12.0</td>\n",
       "      <td>38.0</td>\n",
       "      <td>86.0</td>\n",
       "    </tr>\n",
       "    <tr>\n",
       "      <th>Score</th>\n",
       "      <td>61</td>\n",
       "      <td>61</td>\n",
       "      <td>1471</td>\n",
       "      <td>1</td>\n",
       "      <td>NaN</td>\n",
       "      <td>NaN</td>\n",
       "      <td>NaN</td>\n",
       "      <td>NaN</td>\n",
       "      <td>NaN</td>\n",
       "      <td>NaN</td>\n",
       "      <td>NaN</td>\n",
       "    </tr>\n",
       "    <tr>\n",
       "      <th>PlayedGames</th>\n",
       "      <td>61</td>\n",
       "      <td>53</td>\n",
       "      <td>30</td>\n",
       "      <td>3</td>\n",
       "      <td>NaN</td>\n",
       "      <td>NaN</td>\n",
       "      <td>NaN</td>\n",
       "      <td>NaN</td>\n",
       "      <td>NaN</td>\n",
       "      <td>NaN</td>\n",
       "      <td>NaN</td>\n",
       "    </tr>\n",
       "    <tr>\n",
       "      <th>WonGames</th>\n",
       "      <td>61</td>\n",
       "      <td>59</td>\n",
       "      <td>8</td>\n",
       "      <td>2</td>\n",
       "      <td>NaN</td>\n",
       "      <td>NaN</td>\n",
       "      <td>NaN</td>\n",
       "      <td>NaN</td>\n",
       "      <td>NaN</td>\n",
       "      <td>NaN</td>\n",
       "      <td>NaN</td>\n",
       "    </tr>\n",
       "    <tr>\n",
       "      <th>DrawnGames</th>\n",
       "      <td>61</td>\n",
       "      <td>57</td>\n",
       "      <td>16</td>\n",
       "      <td>2</td>\n",
       "      <td>NaN</td>\n",
       "      <td>NaN</td>\n",
       "      <td>NaN</td>\n",
       "      <td>NaN</td>\n",
       "      <td>NaN</td>\n",
       "      <td>NaN</td>\n",
       "      <td>NaN</td>\n",
       "    </tr>\n",
       "    <tr>\n",
       "      <th>LostGames</th>\n",
       "      <td>61</td>\n",
       "      <td>56</td>\n",
       "      <td>37</td>\n",
       "      <td>3</td>\n",
       "      <td>NaN</td>\n",
       "      <td>NaN</td>\n",
       "      <td>NaN</td>\n",
       "      <td>NaN</td>\n",
       "      <td>NaN</td>\n",
       "      <td>NaN</td>\n",
       "      <td>NaN</td>\n",
       "    </tr>\n",
       "    <tr>\n",
       "      <th>BasketScored</th>\n",
       "      <td>61</td>\n",
       "      <td>60</td>\n",
       "      <td>70</td>\n",
       "      <td>2</td>\n",
       "      <td>NaN</td>\n",
       "      <td>NaN</td>\n",
       "      <td>NaN</td>\n",
       "      <td>NaN</td>\n",
       "      <td>NaN</td>\n",
       "      <td>NaN</td>\n",
       "      <td>NaN</td>\n",
       "    </tr>\n",
       "    <tr>\n",
       "      <th>BasketGiven</th>\n",
       "      <td>61</td>\n",
       "      <td>61</td>\n",
       "      <td>295</td>\n",
       "      <td>1</td>\n",
       "      <td>NaN</td>\n",
       "      <td>NaN</td>\n",
       "      <td>NaN</td>\n",
       "      <td>NaN</td>\n",
       "      <td>NaN</td>\n",
       "      <td>NaN</td>\n",
       "      <td>NaN</td>\n",
       "    </tr>\n",
       "    <tr>\n",
       "      <th>TournamentChampion</th>\n",
       "      <td>61</td>\n",
       "      <td>8</td>\n",
       "      <td>-</td>\n",
       "      <td>52</td>\n",
       "      <td>NaN</td>\n",
       "      <td>NaN</td>\n",
       "      <td>NaN</td>\n",
       "      <td>NaN</td>\n",
       "      <td>NaN</td>\n",
       "      <td>NaN</td>\n",
       "      <td>NaN</td>\n",
       "    </tr>\n",
       "    <tr>\n",
       "      <th>Runner-up</th>\n",
       "      <td>61</td>\n",
       "      <td>10</td>\n",
       "      <td>-</td>\n",
       "      <td>48</td>\n",
       "      <td>NaN</td>\n",
       "      <td>NaN</td>\n",
       "      <td>NaN</td>\n",
       "      <td>NaN</td>\n",
       "      <td>NaN</td>\n",
       "      <td>NaN</td>\n",
       "      <td>NaN</td>\n",
       "    </tr>\n",
       "    <tr>\n",
       "      <th>TeamLaunch</th>\n",
       "      <td>61</td>\n",
       "      <td>47</td>\n",
       "      <td>1929</td>\n",
       "      <td>10</td>\n",
       "      <td>NaN</td>\n",
       "      <td>NaN</td>\n",
       "      <td>NaN</td>\n",
       "      <td>NaN</td>\n",
       "      <td>NaN</td>\n",
       "      <td>NaN</td>\n",
       "      <td>NaN</td>\n",
       "    </tr>\n",
       "    <tr>\n",
       "      <th>HighestPositionHeld</th>\n",
       "      <td>61.0</td>\n",
       "      <td>NaN</td>\n",
       "      <td>NaN</td>\n",
       "      <td>NaN</td>\n",
       "      <td>7.081967</td>\n",
       "      <td>5.276663</td>\n",
       "      <td>1.0</td>\n",
       "      <td>3.0</td>\n",
       "      <td>6.0</td>\n",
       "      <td>10.0</td>\n",
       "      <td>20.0</td>\n",
       "    </tr>\n",
       "  </tbody>\n",
       "</table>\n",
       "</div>"
      ],
      "text/plain": [
       "                    count unique      top freq      mean        std  min  25%  \\\n",
       "Team                   61     61  Team 20    1       NaN        NaN  NaN  NaN   \n",
       "Tournament           61.0    NaN      NaN  NaN      24.0  26.827225  1.0  4.0   \n",
       "Score                  61     61     1471    1       NaN        NaN  NaN  NaN   \n",
       "PlayedGames            61     53       30    3       NaN        NaN  NaN  NaN   \n",
       "WonGames               61     59        8    2       NaN        NaN  NaN  NaN   \n",
       "DrawnGames             61     57       16    2       NaN        NaN  NaN  NaN   \n",
       "LostGames              61     56       37    3       NaN        NaN  NaN  NaN   \n",
       "BasketScored           61     60       70    2       NaN        NaN  NaN  NaN   \n",
       "BasketGiven            61     61      295    1       NaN        NaN  NaN  NaN   \n",
       "TournamentChampion     61      8        -   52       NaN        NaN  NaN  NaN   \n",
       "Runner-up              61     10        -   48       NaN        NaN  NaN  NaN   \n",
       "TeamLaunch             61     47     1929   10       NaN        NaN  NaN  NaN   \n",
       "HighestPositionHeld  61.0    NaN      NaN  NaN  7.081967   5.276663  1.0  3.0   \n",
       "\n",
       "                      50%   75%   max  \n",
       "Team                  NaN   NaN   NaN  \n",
       "Tournament           12.0  38.0  86.0  \n",
       "Score                 NaN   NaN   NaN  \n",
       "PlayedGames           NaN   NaN   NaN  \n",
       "WonGames              NaN   NaN   NaN  \n",
       "DrawnGames            NaN   NaN   NaN  \n",
       "LostGames             NaN   NaN   NaN  \n",
       "BasketScored          NaN   NaN   NaN  \n",
       "BasketGiven           NaN   NaN   NaN  \n",
       "TournamentChampion    NaN   NaN   NaN  \n",
       "Runner-up             NaN   NaN   NaN  \n",
       "TeamLaunch            NaN   NaN   NaN  \n",
       "HighestPositionHeld   6.0  10.0  20.0  "
      ]
     },
     "execution_count": 7,
     "metadata": {},
     "output_type": "execute_result"
    }
   ],
   "source": [
    "# data summary for all attributes\n",
    "df.describe(include='all').T"
   ]
  },
  {
   "cell_type": "code",
   "execution_count": 8,
   "id": "043f0d25",
   "metadata": {},
   "outputs": [
    {
     "data": {
      "text/html": [
       "<div>\n",
       "<style scoped>\n",
       "    .dataframe tbody tr th:only-of-type {\n",
       "        vertical-align: middle;\n",
       "    }\n",
       "\n",
       "    .dataframe tbody tr th {\n",
       "        vertical-align: top;\n",
       "    }\n",
       "\n",
       "    .dataframe thead th {\n",
       "        text-align: right;\n",
       "    }\n",
       "</style>\n",
       "<table border=\"1\" class=\"dataframe\">\n",
       "  <thead>\n",
       "    <tr style=\"text-align: right;\">\n",
       "      <th></th>\n",
       "      <th>Team</th>\n",
       "      <th>Tournament</th>\n",
       "      <th>Score</th>\n",
       "      <th>PlayedGames</th>\n",
       "      <th>WonGames</th>\n",
       "      <th>DrawnGames</th>\n",
       "      <th>LostGames</th>\n",
       "      <th>BasketScored</th>\n",
       "      <th>BasketGiven</th>\n",
       "      <th>TournamentChampion</th>\n",
       "      <th>Runner-up</th>\n",
       "      <th>TeamLaunch</th>\n",
       "      <th>HighestPositionHeld</th>\n",
       "    </tr>\n",
       "  </thead>\n",
       "  <tbody>\n",
       "    <tr>\n",
       "      <th>56</th>\n",
       "      <td>Team 57</td>\n",
       "      <td>1</td>\n",
       "      <td>34</td>\n",
       "      <td>38</td>\n",
       "      <td>8</td>\n",
       "      <td>10</td>\n",
       "      <td>20</td>\n",
       "      <td>38</td>\n",
       "      <td>66</td>\n",
       "      <td>-</td>\n",
       "      <td>-</td>\n",
       "      <td>2009-10</td>\n",
       "      <td>20</td>\n",
       "    </tr>\n",
       "    <tr>\n",
       "      <th>57</th>\n",
       "      <td>Team 58</td>\n",
       "      <td>1</td>\n",
       "      <td>22</td>\n",
       "      <td>30</td>\n",
       "      <td>7</td>\n",
       "      <td>8</td>\n",
       "      <td>15</td>\n",
       "      <td>37</td>\n",
       "      <td>57</td>\n",
       "      <td>-</td>\n",
       "      <td>-</td>\n",
       "      <td>1956-57</td>\n",
       "      <td>16</td>\n",
       "    </tr>\n",
       "    <tr>\n",
       "      <th>58</th>\n",
       "      <td>Team 59</td>\n",
       "      <td>1</td>\n",
       "      <td>19</td>\n",
       "      <td>30</td>\n",
       "      <td>7</td>\n",
       "      <td>5</td>\n",
       "      <td>18</td>\n",
       "      <td>51</td>\n",
       "      <td>85</td>\n",
       "      <td>-</td>\n",
       "      <td>-</td>\n",
       "      <td>1951~52</td>\n",
       "      <td>16</td>\n",
       "    </tr>\n",
       "    <tr>\n",
       "      <th>59</th>\n",
       "      <td>Team 60</td>\n",
       "      <td>1</td>\n",
       "      <td>14</td>\n",
       "      <td>30</td>\n",
       "      <td>5</td>\n",
       "      <td>4</td>\n",
       "      <td>21</td>\n",
       "      <td>34</td>\n",
       "      <td>65</td>\n",
       "      <td>-</td>\n",
       "      <td>-</td>\n",
       "      <td>1955-56</td>\n",
       "      <td>15</td>\n",
       "    </tr>\n",
       "    <tr>\n",
       "      <th>60</th>\n",
       "      <td>Team 61</td>\n",
       "      <td>1</td>\n",
       "      <td>-</td>\n",
       "      <td>-</td>\n",
       "      <td>-</td>\n",
       "      <td>-</td>\n",
       "      <td>-</td>\n",
       "      <td>-</td>\n",
       "      <td>-</td>\n",
       "      <td>-</td>\n",
       "      <td>-</td>\n",
       "      <td>2017~18</td>\n",
       "      <td>9</td>\n",
       "    </tr>\n",
       "  </tbody>\n",
       "</table>\n",
       "</div>"
      ],
      "text/plain": [
       "       Team  Tournament Score PlayedGames WonGames DrawnGames LostGames  \\\n",
       "56  Team 57           1    34          38        8         10        20   \n",
       "57  Team 58           1    22          30        7          8        15   \n",
       "58  Team 59           1    19          30        7          5        18   \n",
       "59  Team 60           1    14          30        5          4        21   \n",
       "60  Team 61           1     -           -        -          -         -   \n",
       "\n",
       "   BasketScored BasketGiven TournamentChampion Runner-up TeamLaunch  \\\n",
       "56           38          66                  -         -    2009-10   \n",
       "57           37          57                  -         -    1956-57   \n",
       "58           51          85                  -         -    1951~52   \n",
       "59           34          65                  -         -    1955-56   \n",
       "60            -           -                  -         -    2017~18   \n",
       "\n",
       "    HighestPositionHeld  \n",
       "56                   20  \n",
       "57                   16  \n",
       "58                   16  \n",
       "59                   15  \n",
       "60                    9  "
      ]
     },
     "execution_count": 8,
     "metadata": {},
     "output_type": "execute_result"
    }
   ],
   "source": [
    "# check the last 5 entries in the dataset\n",
    "df.tail(5)"
   ]
  },
  {
   "cell_type": "code",
   "execution_count": 9,
   "id": "ec14c1e1",
   "metadata": {},
   "outputs": [],
   "source": [
    "# creating a deep copy of the dataframe \n",
    "df1 = df.copy(deep=True)"
   ]
  },
  {
   "cell_type": "markdown",
   "id": "d36ceed1",
   "metadata": {},
   "source": [
    "Now we replace all \"-\" entries with 0. "
   ]
  },
  {
   "cell_type": "code",
   "execution_count": 10,
   "id": "c184be15",
   "metadata": {},
   "outputs": [],
   "source": [
    "df1.replace('-',np.nan, inplace = True)\n",
    "df1 = df1.fillna(0)"
   ]
  },
  {
   "cell_type": "code",
   "execution_count": 11,
   "id": "55819db0",
   "metadata": {},
   "outputs": [
    {
     "name": "stdout",
     "output_type": "stream",
     "text": [
      "<class 'pandas.core.frame.DataFrame'>\n",
      "RangeIndex: 61 entries, 0 to 60\n",
      "Data columns (total 13 columns):\n",
      " #   Column               Non-Null Count  Dtype \n",
      "---  ------               --------------  ----- \n",
      " 0   Team                 61 non-null     object\n",
      " 1   Tournament           61 non-null     int64 \n",
      " 2   Score                61 non-null     object\n",
      " 3   PlayedGames          61 non-null     object\n",
      " 4   WonGames             61 non-null     object\n",
      " 5   DrawnGames           61 non-null     object\n",
      " 6   LostGames            61 non-null     object\n",
      " 7   BasketScored         61 non-null     object\n",
      " 8   BasketGiven          61 non-null     object\n",
      " 9   TournamentChampion   61 non-null     object\n",
      " 10  Runner-up            61 non-null     object\n",
      " 11  TeamLaunch           61 non-null     object\n",
      " 12  HighestPositionHeld  61 non-null     int64 \n",
      "dtypes: int64(2), object(11)\n",
      "memory usage: 6.3+ KB\n"
     ]
    }
   ],
   "source": [
    "df1.info()"
   ]
  },
  {
   "cell_type": "code",
   "execution_count": 12,
   "id": "7af74fe3",
   "metadata": {},
   "outputs": [],
   "source": [
    "# convert object dtype attributes to int\n",
    "df1= df1.astype({\"Score\": np.int64, \"PlayedGames\": np.int64, \"WonGames\": np.int64, \n",
    "                 \"DrawnGames\": np.int64, \"LostGames\": np.int64, \"BasketScored\": np.int64,\n",
    "                \"BasketGiven\": np.int64,\"TournamentChampion\": np.int64, \"Runner-up\": np.int64})\n"
   ]
  },
  {
   "cell_type": "code",
   "execution_count": 13,
   "id": "76fb373a",
   "metadata": {},
   "outputs": [
    {
     "name": "stdout",
     "output_type": "stream",
     "text": [
      "<class 'pandas.core.frame.DataFrame'>\n",
      "RangeIndex: 61 entries, 0 to 60\n",
      "Data columns (total 13 columns):\n",
      " #   Column               Non-Null Count  Dtype \n",
      "---  ------               --------------  ----- \n",
      " 0   Team                 61 non-null     object\n",
      " 1   Tournament           61 non-null     int64 \n",
      " 2   Score                61 non-null     int64 \n",
      " 3   PlayedGames          61 non-null     int64 \n",
      " 4   WonGames             61 non-null     int64 \n",
      " 5   DrawnGames           61 non-null     int64 \n",
      " 6   LostGames            61 non-null     int64 \n",
      " 7   BasketScored         61 non-null     int64 \n",
      " 8   BasketGiven          61 non-null     int64 \n",
      " 9   TournamentChampion   61 non-null     int64 \n",
      " 10  Runner-up            61 non-null     int64 \n",
      " 11  TeamLaunch           61 non-null     object\n",
      " 12  HighestPositionHeld  61 non-null     int64 \n",
      "dtypes: int64(11), object(2)\n",
      "memory usage: 6.3+ KB\n"
     ]
    }
   ],
   "source": [
    "df1.info()"
   ]
  },
  {
   "cell_type": "markdown",
   "id": "9a6cbc73",
   "metadata": {},
   "source": [
    "Now, we have converted all the numeric columns into integer datatypes. <br> We move to the TeamLaunch attribute. This has multiple typesof anomalous data as mentioned below:\n",
    "* xxxxtoyy\n",
    "* xxxx-yy\n",
    "* xxxx~yy\n",
    "* xxxx_yy\n",
    "\n",
    "We will now remove these using a lambda function and retain only the first year (in a combined year entry) in a separate column called YearLaunch and create a column called Age which contains the age of the team in years"
   ]
  },
  {
   "cell_type": "code",
   "execution_count": 14,
   "id": "394bb90c",
   "metadata": {},
   "outputs": [],
   "source": [
    "def comb2single(x):\n",
    "    if 'to' in x:\n",
    "        return x.split('to')[0]\n",
    "    elif '-' in x:\n",
    "        return x.split('-')[0]\n",
    "    elif '~' in x:\n",
    "        return x.split('~')[0]\n",
    "    elif '_' in x:\n",
    "        return x.split('_')[0]\n",
    "    else:\n",
    "        return x\n",
    "\n",
    "df1[\"YearLaunch\"] = df1[\"TeamLaunch\"].apply(comb2single)\n",
    "df1 = df1.astype({\"YearLaunch\": np.int64}) # convert YearLaunch to datatype int\n",
    "today = date.today()\n",
    "df1[\"Age\"] = df1[\"YearLaunch\"].apply(lambda x: today.year-x) # subtract YearLaunch from current year to get team age"
   ]
  },
  {
   "cell_type": "code",
   "execution_count": 15,
   "id": "9068e28a",
   "metadata": {},
   "outputs": [
    {
     "data": {
      "text/html": [
       "<div>\n",
       "<style scoped>\n",
       "    .dataframe tbody tr th:only-of-type {\n",
       "        vertical-align: middle;\n",
       "    }\n",
       "\n",
       "    .dataframe tbody tr th {\n",
       "        vertical-align: top;\n",
       "    }\n",
       "\n",
       "    .dataframe thead th {\n",
       "        text-align: right;\n",
       "    }\n",
       "</style>\n",
       "<table border=\"1\" class=\"dataframe\">\n",
       "  <thead>\n",
       "    <tr style=\"text-align: right;\">\n",
       "      <th></th>\n",
       "      <th>Team</th>\n",
       "      <th>Tournament</th>\n",
       "      <th>Score</th>\n",
       "      <th>PlayedGames</th>\n",
       "      <th>WonGames</th>\n",
       "      <th>DrawnGames</th>\n",
       "      <th>LostGames</th>\n",
       "      <th>BasketScored</th>\n",
       "      <th>BasketGiven</th>\n",
       "      <th>TournamentChampion</th>\n",
       "      <th>Runner-up</th>\n",
       "      <th>TeamLaunch</th>\n",
       "      <th>HighestPositionHeld</th>\n",
       "      <th>YearLaunch</th>\n",
       "      <th>Age</th>\n",
       "    </tr>\n",
       "  </thead>\n",
       "  <tbody>\n",
       "    <tr>\n",
       "      <th>0</th>\n",
       "      <td>Team 1</td>\n",
       "      <td>86</td>\n",
       "      <td>4385</td>\n",
       "      <td>2762</td>\n",
       "      <td>1647</td>\n",
       "      <td>552</td>\n",
       "      <td>563</td>\n",
       "      <td>5947</td>\n",
       "      <td>3140</td>\n",
       "      <td>33</td>\n",
       "      <td>23</td>\n",
       "      <td>1929</td>\n",
       "      <td>1</td>\n",
       "      <td>1929</td>\n",
       "      <td>92</td>\n",
       "    </tr>\n",
       "    <tr>\n",
       "      <th>1</th>\n",
       "      <td>Team 2</td>\n",
       "      <td>86</td>\n",
       "      <td>4262</td>\n",
       "      <td>2762</td>\n",
       "      <td>1581</td>\n",
       "      <td>573</td>\n",
       "      <td>608</td>\n",
       "      <td>5900</td>\n",
       "      <td>3114</td>\n",
       "      <td>25</td>\n",
       "      <td>25</td>\n",
       "      <td>1929</td>\n",
       "      <td>1</td>\n",
       "      <td>1929</td>\n",
       "      <td>92</td>\n",
       "    </tr>\n",
       "    <tr>\n",
       "      <th>2</th>\n",
       "      <td>Team 3</td>\n",
       "      <td>80</td>\n",
       "      <td>3442</td>\n",
       "      <td>2614</td>\n",
       "      <td>1241</td>\n",
       "      <td>598</td>\n",
       "      <td>775</td>\n",
       "      <td>4534</td>\n",
       "      <td>3309</td>\n",
       "      <td>10</td>\n",
       "      <td>8</td>\n",
       "      <td>1929</td>\n",
       "      <td>1</td>\n",
       "      <td>1929</td>\n",
       "      <td>92</td>\n",
       "    </tr>\n",
       "    <tr>\n",
       "      <th>3</th>\n",
       "      <td>Team 4</td>\n",
       "      <td>82</td>\n",
       "      <td>3386</td>\n",
       "      <td>2664</td>\n",
       "      <td>1187</td>\n",
       "      <td>616</td>\n",
       "      <td>861</td>\n",
       "      <td>4398</td>\n",
       "      <td>3469</td>\n",
       "      <td>6</td>\n",
       "      <td>6</td>\n",
       "      <td>1931to32</td>\n",
       "      <td>1</td>\n",
       "      <td>1931</td>\n",
       "      <td>90</td>\n",
       "    </tr>\n",
       "    <tr>\n",
       "      <th>4</th>\n",
       "      <td>Team 5</td>\n",
       "      <td>86</td>\n",
       "      <td>3368</td>\n",
       "      <td>2762</td>\n",
       "      <td>1209</td>\n",
       "      <td>633</td>\n",
       "      <td>920</td>\n",
       "      <td>4631</td>\n",
       "      <td>3700</td>\n",
       "      <td>8</td>\n",
       "      <td>7</td>\n",
       "      <td>1929</td>\n",
       "      <td>1</td>\n",
       "      <td>1929</td>\n",
       "      <td>92</td>\n",
       "    </tr>\n",
       "  </tbody>\n",
       "</table>\n",
       "</div>"
      ],
      "text/plain": [
       "     Team  Tournament  Score  PlayedGames  WonGames  DrawnGames  LostGames  \\\n",
       "0  Team 1          86   4385         2762      1647         552        563   \n",
       "1  Team 2          86   4262         2762      1581         573        608   \n",
       "2  Team 3          80   3442         2614      1241         598        775   \n",
       "3  Team 4          82   3386         2664      1187         616        861   \n",
       "4  Team 5          86   3368         2762      1209         633        920   \n",
       "\n",
       "   BasketScored  BasketGiven  TournamentChampion  Runner-up TeamLaunch  \\\n",
       "0          5947         3140                  33         23       1929   \n",
       "1          5900         3114                  25         25       1929   \n",
       "2          4534         3309                  10          8       1929   \n",
       "3          4398         3469                   6          6   1931to32   \n",
       "4          4631         3700                   8          7       1929   \n",
       "\n",
       "   HighestPositionHeld  YearLaunch  Age  \n",
       "0                    1        1929   92  \n",
       "1                    1        1929   92  \n",
       "2                    1        1929   92  \n",
       "3                    1        1931   90  \n",
       "4                    1        1929   92  "
      ]
     },
     "execution_count": 15,
     "metadata": {},
     "output_type": "execute_result"
    }
   ],
   "source": [
    "df1.head()"
   ]
  },
  {
   "cell_type": "code",
   "execution_count": 16,
   "id": "b0050f87",
   "metadata": {},
   "outputs": [
    {
     "name": "stdout",
     "output_type": "stream",
     "text": [
      "<class 'pandas.core.frame.DataFrame'>\n",
      "RangeIndex: 61 entries, 0 to 60\n",
      "Data columns (total 14 columns):\n",
      " #   Column               Non-Null Count  Dtype \n",
      "---  ------               --------------  ----- \n",
      " 0   Team                 61 non-null     object\n",
      " 1   Tournament           61 non-null     int64 \n",
      " 2   Score                61 non-null     int64 \n",
      " 3   PlayedGames          61 non-null     int64 \n",
      " 4   WonGames             61 non-null     int64 \n",
      " 5   DrawnGames           61 non-null     int64 \n",
      " 6   LostGames            61 non-null     int64 \n",
      " 7   BasketScored         61 non-null     int64 \n",
      " 8   BasketGiven          61 non-null     int64 \n",
      " 9   TournamentChampion   61 non-null     int64 \n",
      " 10  Runner-up            61 non-null     int64 \n",
      " 11  HighestPositionHeld  61 non-null     int64 \n",
      " 12  YearLaunch           61 non-null     int64 \n",
      " 13  Age                  61 non-null     int64 \n",
      "dtypes: int64(13), object(1)\n",
      "memory usage: 6.8+ KB\n"
     ]
    }
   ],
   "source": [
    "# Dropping TeamLaunch and proceeding\n",
    "df1.drop('TeamLaunch',axis=1,inplace=True)\n",
    "df1.info()"
   ]
  },
  {
   "cell_type": "markdown",
   "id": "dfe03097",
   "metadata": {},
   "source": [
    "Now we have the data ready for analysis purposes!"
   ]
  },
  {
   "cell_type": "markdown",
   "id": "303e984d",
   "metadata": {},
   "source": [
    "We introduce 3 new metrices\n",
    "- **BasketDiff** - Difference between 'BasketScored' & 'BasketGiven' per 'PlayedGames'\n",
    "- **Win_Percent** - Percentage of 'WonGames' over 'PlayedGames'\n",
    "- **Podium_Fin** - Percentage of Podium Finishes ('TournamentChampion'+'Runner-up') over 'Tournament'"
   ]
  },
  {
   "cell_type": "code",
   "execution_count": 17,
   "id": "c3ce79f1",
   "metadata": {},
   "outputs": [],
   "source": [
    "df1['BasketDiff'] = (df1['BasketScored'] - df1['BasketGiven'])/df1['PlayedGames']\n",
    "df1['Win_Percent'] = df1['WonGames']/df1['PlayedGames']*100\n",
    "df1['Podium_Fin'] = (df1['TournamentChampion']+df1['Runner-up'])/df1['Tournament']*100\n",
    "df1['Win_Percent']=df1['Win_Percent'].fillna(value=0)"
   ]
  },
  {
   "cell_type": "code",
   "execution_count": 18,
   "id": "a3b8b471",
   "metadata": {},
   "outputs": [
    {
     "data": {
      "text/html": [
       "<div>\n",
       "<style scoped>\n",
       "    .dataframe tbody tr th:only-of-type {\n",
       "        vertical-align: middle;\n",
       "    }\n",
       "\n",
       "    .dataframe tbody tr th {\n",
       "        vertical-align: top;\n",
       "    }\n",
       "\n",
       "    .dataframe thead th {\n",
       "        text-align: right;\n",
       "    }\n",
       "</style>\n",
       "<table border=\"1\" class=\"dataframe\">\n",
       "  <thead>\n",
       "    <tr style=\"text-align: right;\">\n",
       "      <th></th>\n",
       "      <th>Team</th>\n",
       "      <th>Tournament</th>\n",
       "      <th>Score</th>\n",
       "      <th>PlayedGames</th>\n",
       "      <th>WonGames</th>\n",
       "      <th>DrawnGames</th>\n",
       "      <th>LostGames</th>\n",
       "      <th>BasketScored</th>\n",
       "      <th>BasketGiven</th>\n",
       "      <th>TournamentChampion</th>\n",
       "      <th>Runner-up</th>\n",
       "      <th>HighestPositionHeld</th>\n",
       "      <th>YearLaunch</th>\n",
       "      <th>Age</th>\n",
       "      <th>BasketDiff</th>\n",
       "      <th>Win_Percent</th>\n",
       "      <th>Podium_Fin</th>\n",
       "    </tr>\n",
       "  </thead>\n",
       "  <tbody>\n",
       "    <tr>\n",
       "      <th>0</th>\n",
       "      <td>Team 1</td>\n",
       "      <td>86</td>\n",
       "      <td>4385</td>\n",
       "      <td>2762</td>\n",
       "      <td>1647</td>\n",
       "      <td>552</td>\n",
       "      <td>563</td>\n",
       "      <td>5947</td>\n",
       "      <td>3140</td>\n",
       "      <td>33</td>\n",
       "      <td>23</td>\n",
       "      <td>1</td>\n",
       "      <td>1929</td>\n",
       "      <td>92</td>\n",
       "      <td>1.016293</td>\n",
       "      <td>59.630702</td>\n",
       "      <td>65.116279</td>\n",
       "    </tr>\n",
       "    <tr>\n",
       "      <th>1</th>\n",
       "      <td>Team 2</td>\n",
       "      <td>86</td>\n",
       "      <td>4262</td>\n",
       "      <td>2762</td>\n",
       "      <td>1581</td>\n",
       "      <td>573</td>\n",
       "      <td>608</td>\n",
       "      <td>5900</td>\n",
       "      <td>3114</td>\n",
       "      <td>25</td>\n",
       "      <td>25</td>\n",
       "      <td>1</td>\n",
       "      <td>1929</td>\n",
       "      <td>92</td>\n",
       "      <td>1.008689</td>\n",
       "      <td>57.241130</td>\n",
       "      <td>58.139535</td>\n",
       "    </tr>\n",
       "    <tr>\n",
       "      <th>2</th>\n",
       "      <td>Team 3</td>\n",
       "      <td>80</td>\n",
       "      <td>3442</td>\n",
       "      <td>2614</td>\n",
       "      <td>1241</td>\n",
       "      <td>598</td>\n",
       "      <td>775</td>\n",
       "      <td>4534</td>\n",
       "      <td>3309</td>\n",
       "      <td>10</td>\n",
       "      <td>8</td>\n",
       "      <td>1</td>\n",
       "      <td>1929</td>\n",
       "      <td>92</td>\n",
       "      <td>0.468630</td>\n",
       "      <td>47.475134</td>\n",
       "      <td>22.500000</td>\n",
       "    </tr>\n",
       "    <tr>\n",
       "      <th>3</th>\n",
       "      <td>Team 4</td>\n",
       "      <td>82</td>\n",
       "      <td>3386</td>\n",
       "      <td>2664</td>\n",
       "      <td>1187</td>\n",
       "      <td>616</td>\n",
       "      <td>861</td>\n",
       "      <td>4398</td>\n",
       "      <td>3469</td>\n",
       "      <td>6</td>\n",
       "      <td>6</td>\n",
       "      <td>1</td>\n",
       "      <td>1931</td>\n",
       "      <td>90</td>\n",
       "      <td>0.348724</td>\n",
       "      <td>44.557057</td>\n",
       "      <td>14.634146</td>\n",
       "    </tr>\n",
       "    <tr>\n",
       "      <th>4</th>\n",
       "      <td>Team 5</td>\n",
       "      <td>86</td>\n",
       "      <td>3368</td>\n",
       "      <td>2762</td>\n",
       "      <td>1209</td>\n",
       "      <td>633</td>\n",
       "      <td>920</td>\n",
       "      <td>4631</td>\n",
       "      <td>3700</td>\n",
       "      <td>8</td>\n",
       "      <td>7</td>\n",
       "      <td>1</td>\n",
       "      <td>1929</td>\n",
       "      <td>92</td>\n",
       "      <td>0.337075</td>\n",
       "      <td>43.772629</td>\n",
       "      <td>17.441860</td>\n",
       "    </tr>\n",
       "  </tbody>\n",
       "</table>\n",
       "</div>"
      ],
      "text/plain": [
       "     Team  Tournament  Score  PlayedGames  WonGames  DrawnGames  LostGames  \\\n",
       "0  Team 1          86   4385         2762      1647         552        563   \n",
       "1  Team 2          86   4262         2762      1581         573        608   \n",
       "2  Team 3          80   3442         2614      1241         598        775   \n",
       "3  Team 4          82   3386         2664      1187         616        861   \n",
       "4  Team 5          86   3368         2762      1209         633        920   \n",
       "\n",
       "   BasketScored  BasketGiven  TournamentChampion  Runner-up  \\\n",
       "0          5947         3140                  33         23   \n",
       "1          5900         3114                  25         25   \n",
       "2          4534         3309                  10          8   \n",
       "3          4398         3469                   6          6   \n",
       "4          4631         3700                   8          7   \n",
       "\n",
       "   HighestPositionHeld  YearLaunch  Age  BasketDiff  Win_Percent  Podium_Fin  \n",
       "0                    1        1929   92    1.016293    59.630702   65.116279  \n",
       "1                    1        1929   92    1.008689    57.241130   58.139535  \n",
       "2                    1        1929   92    0.468630    47.475134   22.500000  \n",
       "3                    1        1931   90    0.348724    44.557057   14.634146  \n",
       "4                    1        1929   92    0.337075    43.772629   17.441860  "
      ]
     },
     "execution_count": 18,
     "metadata": {},
     "output_type": "execute_result"
    }
   ],
   "source": [
    "df1.head(5)"
   ]
  },
  {
   "cell_type": "markdown",
   "id": "b298b615",
   "metadata": {},
   "source": [
    "### Exploratory Data Analysis"
   ]
  },
  {
   "cell_type": "code",
   "execution_count": 19,
   "id": "fa04349a",
   "metadata": {},
   "outputs": [
    {
     "data": {
      "text/html": [
       "<div>\n",
       "<style scoped>\n",
       "    .dataframe tbody tr th:only-of-type {\n",
       "        vertical-align: middle;\n",
       "    }\n",
       "\n",
       "    .dataframe tbody tr th {\n",
       "        vertical-align: top;\n",
       "    }\n",
       "\n",
       "    .dataframe thead th {\n",
       "        text-align: right;\n",
       "    }\n",
       "</style>\n",
       "<table border=\"1\" class=\"dataframe\">\n",
       "  <thead>\n",
       "    <tr style=\"text-align: right;\">\n",
       "      <th></th>\n",
       "      <th>Tournament</th>\n",
       "      <th>Score</th>\n",
       "      <th>PlayedGames</th>\n",
       "      <th>HighestPositionHeld</th>\n",
       "      <th>YearLaunch</th>\n",
       "      <th>Age</th>\n",
       "      <th>BasketDiff</th>\n",
       "      <th>Win_Percent</th>\n",
       "      <th>Podium_Fin</th>\n",
       "    </tr>\n",
       "  </thead>\n",
       "  <tbody>\n",
       "    <tr>\n",
       "      <th>count</th>\n",
       "      <td>61.000000</td>\n",
       "      <td>61.000000</td>\n",
       "      <td>61.000000</td>\n",
       "      <td>61.000000</td>\n",
       "      <td>61.000000</td>\n",
       "      <td>61.000000</td>\n",
       "      <td>60.000000</td>\n",
       "      <td>61.000000</td>\n",
       "      <td>61.000000</td>\n",
       "    </tr>\n",
       "    <tr>\n",
       "      <th>mean</th>\n",
       "      <td>24.000000</td>\n",
       "      <td>901.426230</td>\n",
       "      <td>796.819672</td>\n",
       "      <td>7.081967</td>\n",
       "      <td>1958.918033</td>\n",
       "      <td>62.081967</td>\n",
       "      <td>-0.369488</td>\n",
       "      <td>30.850613</td>\n",
       "      <td>3.645135</td>\n",
       "    </tr>\n",
       "    <tr>\n",
       "      <th>std</th>\n",
       "      <td>26.827225</td>\n",
       "      <td>1134.899121</td>\n",
       "      <td>876.282765</td>\n",
       "      <td>5.276663</td>\n",
       "      <td>27.484114</td>\n",
       "      <td>27.484114</td>\n",
       "      <td>0.435745</td>\n",
       "      <td>8.742574</td>\n",
       "      <td>11.670006</td>\n",
       "    </tr>\n",
       "    <tr>\n",
       "      <th>min</th>\n",
       "      <td>1.000000</td>\n",
       "      <td>0.000000</td>\n",
       "      <td>0.000000</td>\n",
       "      <td>1.000000</td>\n",
       "      <td>1929.000000</td>\n",
       "      <td>4.000000</td>\n",
       "      <td>-1.647059</td>\n",
       "      <td>0.000000</td>\n",
       "      <td>0.000000</td>\n",
       "    </tr>\n",
       "    <tr>\n",
       "      <th>25%</th>\n",
       "      <td>4.000000</td>\n",
       "      <td>96.000000</td>\n",
       "      <td>114.000000</td>\n",
       "      <td>3.000000</td>\n",
       "      <td>1935.000000</td>\n",
       "      <td>43.000000</td>\n",
       "      <td>-0.579302</td>\n",
       "      <td>27.192982</td>\n",
       "      <td>0.000000</td>\n",
       "    </tr>\n",
       "    <tr>\n",
       "      <th>50%</th>\n",
       "      <td>12.000000</td>\n",
       "      <td>375.000000</td>\n",
       "      <td>423.000000</td>\n",
       "      <td>6.000000</td>\n",
       "      <td>1951.000000</td>\n",
       "      <td>70.000000</td>\n",
       "      <td>-0.415868</td>\n",
       "      <td>30.281690</td>\n",
       "      <td>0.000000</td>\n",
       "    </tr>\n",
       "    <tr>\n",
       "      <th>75%</th>\n",
       "      <td>38.000000</td>\n",
       "      <td>1351.000000</td>\n",
       "      <td>1318.000000</td>\n",
       "      <td>10.000000</td>\n",
       "      <td>1978.000000</td>\n",
       "      <td>86.000000</td>\n",
       "      <td>-0.247259</td>\n",
       "      <td>33.485401</td>\n",
       "      <td>0.000000</td>\n",
       "    </tr>\n",
       "    <tr>\n",
       "      <th>max</th>\n",
       "      <td>86.000000</td>\n",
       "      <td>4385.000000</td>\n",
       "      <td>2762.000000</td>\n",
       "      <td>20.000000</td>\n",
       "      <td>2017.000000</td>\n",
       "      <td>92.000000</td>\n",
       "      <td>1.016293</td>\n",
       "      <td>59.630702</td>\n",
       "      <td>65.116279</td>\n",
       "    </tr>\n",
       "  </tbody>\n",
       "</table>\n",
       "</div>"
      ],
      "text/plain": [
       "       Tournament        Score  PlayedGames  HighestPositionHeld   YearLaunch  \\\n",
       "count   61.000000    61.000000    61.000000            61.000000    61.000000   \n",
       "mean    24.000000   901.426230   796.819672             7.081967  1958.918033   \n",
       "std     26.827225  1134.899121   876.282765             5.276663    27.484114   \n",
       "min      1.000000     0.000000     0.000000             1.000000  1929.000000   \n",
       "25%      4.000000    96.000000   114.000000             3.000000  1935.000000   \n",
       "50%     12.000000   375.000000   423.000000             6.000000  1951.000000   \n",
       "75%     38.000000  1351.000000  1318.000000            10.000000  1978.000000   \n",
       "max     86.000000  4385.000000  2762.000000            20.000000  2017.000000   \n",
       "\n",
       "             Age  BasketDiff  Win_Percent  Podium_Fin  \n",
       "count  61.000000   60.000000    61.000000   61.000000  \n",
       "mean   62.081967   -0.369488    30.850613    3.645135  \n",
       "std    27.484114    0.435745     8.742574   11.670006  \n",
       "min     4.000000   -1.647059     0.000000    0.000000  \n",
       "25%    43.000000   -0.579302    27.192982    0.000000  \n",
       "50%    70.000000   -0.415868    30.281690    0.000000  \n",
       "75%    86.000000   -0.247259    33.485401    0.000000  \n",
       "max    92.000000    1.016293    59.630702   65.116279  "
      ]
     },
     "execution_count": 19,
     "metadata": {},
     "output_type": "execute_result"
    }
   ],
   "source": [
    "#Dropping unncessary columns\n",
    "df1.drop(['BasketScored','BasketGiven','WonGames','DrawnGames','LostGames','TournamentChampion','Runner-up'],inplace=True,axis=1)\n",
    "df1.describe()"
   ]
  },
  {
   "cell_type": "markdown",
   "id": "31b2d54d",
   "metadata": {},
   "source": [
    "We see that 50% of the teams were launched in the last 70 years. The oldest team was launched in 1929 and there were 10 such teams."
   ]
  },
  {
   "cell_type": "markdown",
   "id": "51654122",
   "metadata": {},
   "source": [
    "Coming to the problem:\n",
    "\n",
    "1. The company wants to know a list of probable candidate teams where they can invest for good returns. We will target 4-5 teams as a recommendation\n",
    "2. We know that some of the older teams already have sponsorships with competitors. Hence, we will focus on more recently established teams"
   ]
  },
  {
   "cell_type": "code",
   "execution_count": 20,
   "id": "3ddf6f42",
   "metadata": {},
   "outputs": [
    {
     "name": "stderr",
     "output_type": "stream",
     "text": [
      "C:\\Program Files\\Anaconda3\\lib\\site-packages\\seaborn\\_decorators.py:36: FutureWarning: Pass the following variable as a keyword arg: x. From version 0.12, the only valid positional argument will be `data`, and passing other arguments without an explicit keyword will result in an error or misinterpretation.\n",
      "  warnings.warn(\n",
      "No handles with labels found to put in legend.\n"
     ]
    },
    {
     "data": {
      "text/plain": [
       "<matplotlib.legend.Legend at 0x23dc3e30700>"
      ]
     },
     "execution_count": 20,
     "metadata": {},
     "output_type": "execute_result"
    },
    {
     "data": {
      "image/png": "[encoded data removed]",
      "text/plain": [
       "<Figure size 432x288 with 1 Axes>"
      ]
     },
     "metadata": {
      "needs_background": "light"
     },
     "output_type": "display_data"
    }
   ],
   "source": [
    "# Plotting the distribution of HighestPositionHeld\n",
    "sns.countplot('HighestPositionHeld',data=df1)\n",
    "plt.legend()"
   ]
  },
  {
   "cell_type": "code",
   "execution_count": 21,
   "id": "146936b7",
   "metadata": {},
   "outputs": [
    {
     "data": {
      "text/plain": [
       "<AxesSubplot:xlabel='Team', ylabel='Podium_Fin'>"
      ]
     },
     "execution_count": 21,
     "metadata": {},
     "output_type": "execute_result"
    },
    {
     "data": {
      "image/png": "[encoded data removed]",
      "text/plain": [
       "<Figure size 864x216 with 1 Axes>"
      ]
     },
     "metadata": {
      "needs_background": "light"
     },
     "output_type": "display_data"
    }
   ],
   "source": [
    "# Plot of teams against Podium_Fin\n",
    "plt.figure(figsize=(12,3))\n",
    "df_temp=df1[df1['Podium_Fin']>0]\n",
    "sns.barplot(x=df_temp['Team'],y=df_temp['Podium_Fin'],palette ='viridis')"
   ]
  },
  {
   "cell_type": "markdown",
   "id": "e2e26dc9",
   "metadata": {},
   "source": [
    "Only 14 teams have ever finished as Champion or Runner-up. Teams 1 and 2 are most successful with Podium Finishes in > 50% of the Tournaments"
   ]
  },
  {
   "cell_type": "code",
   "execution_count": 22,
   "id": "d2f7e120",
   "metadata": {},
   "outputs": [
    {
     "data": {
      "text/plain": [
       "<AxesSubplot:xlabel='HighestPositionHeld', ylabel='Win_Percent'>"
      ]
     },
     "execution_count": 22,
     "metadata": {},
     "output_type": "execute_result"
    },
    {
     "data": {
      "image/png": "[encoded data removed]",
      "text/plain": [
       "<Figure size 864x216 with 1 Axes>"
      ]
     },
     "metadata": {
      "needs_background": "light"
     },
     "output_type": "display_data"
    }
   ],
   "source": [
    "# Plot of HighestPositionHeld against Win_Percent\n",
    "plt.figure(figsize=(12,3))\n",
    "df_temp=df1[df1['Win_Percent']>0]\n",
    "sns.scatterplot(x=df_temp['HighestPositionHeld'],y=df_temp['Win_Percent'],palette ='viridis')"
   ]
  },
  {
   "cell_type": "markdown",
   "id": "08a29f23",
   "metadata": {},
   "source": [
    "Teams with Best Positions < 5 tend to have Win_Percent > 30%"
   ]
  },
  {
   "cell_type": "code",
   "execution_count": 23,
   "id": "4f6fbd92",
   "metadata": {},
   "outputs": [],
   "source": [
    "# Defining a set to capture Potential Investment Candidates as derived through our analysis\n",
    "candidates =set()"
   ]
  },
  {
   "cell_type": "code",
   "execution_count": 24,
   "id": "dda51fd4",
   "metadata": {},
   "outputs": [
    {
     "data": {
      "text/html": [
       "<div>\n",
       "<style scoped>\n",
       "    .dataframe tbody tr th:only-of-type {\n",
       "        vertical-align: middle;\n",
       "    }\n",
       "\n",
       "    .dataframe tbody tr th {\n",
       "        vertical-align: top;\n",
       "    }\n",
       "\n",
       "    .dataframe thead th {\n",
       "        text-align: right;\n",
       "    }\n",
       "</style>\n",
       "<table border=\"1\" class=\"dataframe\">\n",
       "  <thead>\n",
       "    <tr style=\"text-align: right;\">\n",
       "      <th></th>\n",
       "      <th>Team</th>\n",
       "      <th>Tournament</th>\n",
       "      <th>Score</th>\n",
       "      <th>PlayedGames</th>\n",
       "      <th>HighestPositionHeld</th>\n",
       "      <th>YearLaunch</th>\n",
       "      <th>Age</th>\n",
       "      <th>BasketDiff</th>\n",
       "      <th>Win_Percent</th>\n",
       "      <th>Podium_Fin</th>\n",
       "    </tr>\n",
       "  </thead>\n",
       "  <tbody>\n",
       "    <tr>\n",
       "      <th>0</th>\n",
       "      <td>Team 1</td>\n",
       "      <td>86</td>\n",
       "      <td>4385</td>\n",
       "      <td>2762</td>\n",
       "      <td>1</td>\n",
       "      <td>1929</td>\n",
       "      <td>92</td>\n",
       "      <td>1.016293</td>\n",
       "      <td>59.630702</td>\n",
       "      <td>65.116279</td>\n",
       "    </tr>\n",
       "    <tr>\n",
       "      <th>1</th>\n",
       "      <td>Team 2</td>\n",
       "      <td>86</td>\n",
       "      <td>4262</td>\n",
       "      <td>2762</td>\n",
       "      <td>1</td>\n",
       "      <td>1929</td>\n",
       "      <td>92</td>\n",
       "      <td>1.008689</td>\n",
       "      <td>57.241130</td>\n",
       "      <td>58.139535</td>\n",
       "    </tr>\n",
       "    <tr>\n",
       "      <th>2</th>\n",
       "      <td>Team 3</td>\n",
       "      <td>80</td>\n",
       "      <td>3442</td>\n",
       "      <td>2614</td>\n",
       "      <td>1</td>\n",
       "      <td>1929</td>\n",
       "      <td>92</td>\n",
       "      <td>0.468630</td>\n",
       "      <td>47.475134</td>\n",
       "      <td>22.500000</td>\n",
       "    </tr>\n",
       "    <tr>\n",
       "      <th>3</th>\n",
       "      <td>Team 4</td>\n",
       "      <td>82</td>\n",
       "      <td>3386</td>\n",
       "      <td>2664</td>\n",
       "      <td>1</td>\n",
       "      <td>1931</td>\n",
       "      <td>90</td>\n",
       "      <td>0.348724</td>\n",
       "      <td>44.557057</td>\n",
       "      <td>14.634146</td>\n",
       "    </tr>\n",
       "    <tr>\n",
       "      <th>4</th>\n",
       "      <td>Team 5</td>\n",
       "      <td>86</td>\n",
       "      <td>3368</td>\n",
       "      <td>2762</td>\n",
       "      <td>1</td>\n",
       "      <td>1929</td>\n",
       "      <td>92</td>\n",
       "      <td>0.337075</td>\n",
       "      <td>43.772629</td>\n",
       "      <td>17.441860</td>\n",
       "    </tr>\n",
       "  </tbody>\n",
       "</table>\n",
       "</div>"
      ],
      "text/plain": [
       "     Team  Tournament  Score  PlayedGames  HighestPositionHeld  YearLaunch  \\\n",
       "0  Team 1          86   4385         2762                    1        1929   \n",
       "1  Team 2          86   4262         2762                    1        1929   \n",
       "2  Team 3          80   3442         2614                    1        1929   \n",
       "3  Team 4          82   3386         2664                    1        1931   \n",
       "4  Team 5          86   3368         2762                    1        1929   \n",
       "\n",
       "   Age  BasketDiff  Win_Percent  Podium_Fin  \n",
       "0   92    1.016293    59.630702   65.116279  \n",
       "1   92    1.008689    57.241130   58.139535  \n",
       "2   92    0.468630    47.475134   22.500000  \n",
       "3   90    0.348724    44.557057   14.634146  \n",
       "4   92    0.337075    43.772629   17.441860  "
      ]
     },
     "execution_count": 24,
     "metadata": {},
     "output_type": "execute_result"
    }
   ],
   "source": [
    "# Identifying Top 5 scoring teams\n",
    "df1.sort_values('Score',ascending=False).head()"
   ]
  },
  {
   "cell_type": "code",
   "execution_count": 25,
   "id": "b0a4e328",
   "metadata": {},
   "outputs": [
    {
     "data": {
      "text/plain": [
       "{'Team 1', 'Team 2', 'Team 3', 'Team 4', 'Team 5'}"
      ]
     },
     "execution_count": 25,
     "metadata": {},
     "output_type": "execute_result"
    }
   ],
   "source": [
    "# Add these to candidates\n",
    "candidates.update(df1.sort_values('Score',ascending=False).head()['Team'].unique())\n",
    "candidates"
   ]
  },
  {
   "cell_type": "code",
   "execution_count": 26,
   "id": "bf7df732",
   "metadata": {},
   "outputs": [
    {
     "data": {
      "text/html": [
       "<div>\n",
       "<style scoped>\n",
       "    .dataframe tbody tr th:only-of-type {\n",
       "        vertical-align: middle;\n",
       "    }\n",
       "\n",
       "    .dataframe tbody tr th {\n",
       "        vertical-align: top;\n",
       "    }\n",
       "\n",
       "    .dataframe thead th {\n",
       "        text-align: right;\n",
       "    }\n",
       "</style>\n",
       "<table border=\"1\" class=\"dataframe\">\n",
       "  <thead>\n",
       "    <tr style=\"text-align: right;\">\n",
       "      <th></th>\n",
       "      <th>Team</th>\n",
       "      <th>Tournament</th>\n",
       "      <th>Score</th>\n",
       "      <th>PlayedGames</th>\n",
       "      <th>HighestPositionHeld</th>\n",
       "      <th>YearLaunch</th>\n",
       "      <th>Age</th>\n",
       "      <th>BasketDiff</th>\n",
       "      <th>Win_Percent</th>\n",
       "      <th>Podium_Fin</th>\n",
       "    </tr>\n",
       "  </thead>\n",
       "  <tbody>\n",
       "    <tr>\n",
       "      <th>56</th>\n",
       "      <td>Team 57</td>\n",
       "      <td>1</td>\n",
       "      <td>34</td>\n",
       "      <td>38</td>\n",
       "      <td>20</td>\n",
       "      <td>2009</td>\n",
       "      <td>12</td>\n",
       "      <td>-0.736842</td>\n",
       "      <td>21.052632</td>\n",
       "      <td>0.0</td>\n",
       "    </tr>\n",
       "    <tr>\n",
       "      <th>57</th>\n",
       "      <td>Team 58</td>\n",
       "      <td>1</td>\n",
       "      <td>22</td>\n",
       "      <td>30</td>\n",
       "      <td>16</td>\n",
       "      <td>1956</td>\n",
       "      <td>65</td>\n",
       "      <td>-0.666667</td>\n",
       "      <td>23.333333</td>\n",
       "      <td>0.0</td>\n",
       "    </tr>\n",
       "    <tr>\n",
       "      <th>58</th>\n",
       "      <td>Team 59</td>\n",
       "      <td>1</td>\n",
       "      <td>19</td>\n",
       "      <td>30</td>\n",
       "      <td>16</td>\n",
       "      <td>1951</td>\n",
       "      <td>70</td>\n",
       "      <td>-1.133333</td>\n",
       "      <td>23.333333</td>\n",
       "      <td>0.0</td>\n",
       "    </tr>\n",
       "    <tr>\n",
       "      <th>59</th>\n",
       "      <td>Team 60</td>\n",
       "      <td>1</td>\n",
       "      <td>14</td>\n",
       "      <td>30</td>\n",
       "      <td>15</td>\n",
       "      <td>1955</td>\n",
       "      <td>66</td>\n",
       "      <td>-1.033333</td>\n",
       "      <td>16.666667</td>\n",
       "      <td>0.0</td>\n",
       "    </tr>\n",
       "    <tr>\n",
       "      <th>60</th>\n",
       "      <td>Team 61</td>\n",
       "      <td>1</td>\n",
       "      <td>0</td>\n",
       "      <td>0</td>\n",
       "      <td>9</td>\n",
       "      <td>2017</td>\n",
       "      <td>4</td>\n",
       "      <td>NaN</td>\n",
       "      <td>0.000000</td>\n",
       "      <td>0.0</td>\n",
       "    </tr>\n",
       "  </tbody>\n",
       "</table>\n",
       "</div>"
      ],
      "text/plain": [
       "       Team  Tournament  Score  PlayedGames  HighestPositionHeld  YearLaunch  \\\n",
       "56  Team 57           1     34           38                   20        2009   \n",
       "57  Team 58           1     22           30                   16        1956   \n",
       "58  Team 59           1     19           30                   16        1951   \n",
       "59  Team 60           1     14           30                   15        1955   \n",
       "60  Team 61           1      0            0                    9        2017   \n",
       "\n",
       "    Age  BasketDiff  Win_Percent  Podium_Fin  \n",
       "56   12   -0.736842    21.052632         0.0  \n",
       "57   65   -0.666667    23.333333         0.0  \n",
       "58   70   -1.133333    23.333333         0.0  \n",
       "59   66   -1.033333    16.666667         0.0  \n",
       "60    4         NaN     0.000000         0.0  "
      ]
     },
     "execution_count": 26,
     "metadata": {},
     "output_type": "execute_result"
    }
   ],
   "source": [
    "# Similarly checking the lowest ranked teams by Score\n",
    "df1.sort_values('Score',ascending=False).tail()"
   ]
  },
  {
   "cell_type": "markdown",
   "id": "ad5c7611",
   "metadata": {},
   "source": [
    "Next let us identify the teams with maximum BasketDiff"
   ]
  },
  {
   "cell_type": "code",
   "execution_count": 27,
   "id": "9ebad647",
   "metadata": {},
   "outputs": [
    {
     "data": {
      "text/html": [
       "<div>\n",
       "<style scoped>\n",
       "    .dataframe tbody tr th:only-of-type {\n",
       "        vertical-align: middle;\n",
       "    }\n",
       "\n",
       "    .dataframe tbody tr th {\n",
       "        vertical-align: top;\n",
       "    }\n",
       "\n",
       "    .dataframe thead th {\n",
       "        text-align: right;\n",
       "    }\n",
       "</style>\n",
       "<table border=\"1\" class=\"dataframe\">\n",
       "  <thead>\n",
       "    <tr style=\"text-align: right;\">\n",
       "      <th></th>\n",
       "      <th>Team</th>\n",
       "      <th>Tournament</th>\n",
       "      <th>Score</th>\n",
       "      <th>PlayedGames</th>\n",
       "      <th>HighestPositionHeld</th>\n",
       "      <th>YearLaunch</th>\n",
       "      <th>Age</th>\n",
       "      <th>BasketDiff</th>\n",
       "      <th>Win_Percent</th>\n",
       "      <th>Podium_Fin</th>\n",
       "    </tr>\n",
       "  </thead>\n",
       "  <tbody>\n",
       "    <tr>\n",
       "      <th>0</th>\n",
       "      <td>Team 1</td>\n",
       "      <td>86</td>\n",
       "      <td>4385</td>\n",
       "      <td>2762</td>\n",
       "      <td>1</td>\n",
       "      <td>1929</td>\n",
       "      <td>92</td>\n",
       "      <td>1.016293</td>\n",
       "      <td>59.630702</td>\n",
       "      <td>65.116279</td>\n",
       "    </tr>\n",
       "    <tr>\n",
       "      <th>1</th>\n",
       "      <td>Team 2</td>\n",
       "      <td>86</td>\n",
       "      <td>4262</td>\n",
       "      <td>2762</td>\n",
       "      <td>1</td>\n",
       "      <td>1929</td>\n",
       "      <td>92</td>\n",
       "      <td>1.008689</td>\n",
       "      <td>57.241130</td>\n",
       "      <td>58.139535</td>\n",
       "    </tr>\n",
       "    <tr>\n",
       "      <th>2</th>\n",
       "      <td>Team 3</td>\n",
       "      <td>80</td>\n",
       "      <td>3442</td>\n",
       "      <td>2614</td>\n",
       "      <td>1</td>\n",
       "      <td>1929</td>\n",
       "      <td>92</td>\n",
       "      <td>0.468630</td>\n",
       "      <td>47.475134</td>\n",
       "      <td>22.500000</td>\n",
       "    </tr>\n",
       "    <tr>\n",
       "      <th>3</th>\n",
       "      <td>Team 4</td>\n",
       "      <td>82</td>\n",
       "      <td>3386</td>\n",
       "      <td>2664</td>\n",
       "      <td>1</td>\n",
       "      <td>1931</td>\n",
       "      <td>90</td>\n",
       "      <td>0.348724</td>\n",
       "      <td>44.557057</td>\n",
       "      <td>14.634146</td>\n",
       "    </tr>\n",
       "    <tr>\n",
       "      <th>4</th>\n",
       "      <td>Team 5</td>\n",
       "      <td>86</td>\n",
       "      <td>3368</td>\n",
       "      <td>2762</td>\n",
       "      <td>1</td>\n",
       "      <td>1929</td>\n",
       "      <td>92</td>\n",
       "      <td>0.337075</td>\n",
       "      <td>43.772629</td>\n",
       "      <td>17.441860</td>\n",
       "    </tr>\n",
       "  </tbody>\n",
       "</table>\n",
       "</div>"
      ],
      "text/plain": [
       "     Team  Tournament  Score  PlayedGames  HighestPositionHeld  YearLaunch  \\\n",
       "0  Team 1          86   4385         2762                    1        1929   \n",
       "1  Team 2          86   4262         2762                    1        1929   \n",
       "2  Team 3          80   3442         2614                    1        1929   \n",
       "3  Team 4          82   3386         2664                    1        1931   \n",
       "4  Team 5          86   3368         2762                    1        1929   \n",
       "\n",
       "   Age  BasketDiff  Win_Percent  Podium_Fin  \n",
       "0   92    1.016293    59.630702   65.116279  \n",
       "1   92    1.008689    57.241130   58.139535  \n",
       "2   92    0.468630    47.475134   22.500000  \n",
       "3   90    0.348724    44.557057   14.634146  \n",
       "4   92    0.337075    43.772629   17.441860  "
      ]
     },
     "execution_count": 27,
     "metadata": {},
     "output_type": "execute_result"
    }
   ],
   "source": [
    "# Identifying Top 5 teams by greatest BasketDiff\n",
    "df1.sort_values('BasketDiff',ascending=False).head()"
   ]
  },
  {
   "cell_type": "code",
   "execution_count": 28,
   "id": "1de4c883",
   "metadata": {},
   "outputs": [
    {
     "data": {
      "text/html": [
       "<div>\n",
       "<style scoped>\n",
       "    .dataframe tbody tr th:only-of-type {\n",
       "        vertical-align: middle;\n",
       "    }\n",
       "\n",
       "    .dataframe tbody tr th {\n",
       "        vertical-align: top;\n",
       "    }\n",
       "\n",
       "    .dataframe thead th {\n",
       "        text-align: right;\n",
       "    }\n",
       "</style>\n",
       "<table border=\"1\" class=\"dataframe\">\n",
       "  <thead>\n",
       "    <tr style=\"text-align: right;\">\n",
       "      <th></th>\n",
       "      <th>Team</th>\n",
       "      <th>Tournament</th>\n",
       "      <th>Score</th>\n",
       "      <th>PlayedGames</th>\n",
       "      <th>HighestPositionHeld</th>\n",
       "      <th>YearLaunch</th>\n",
       "      <th>Age</th>\n",
       "      <th>BasketDiff</th>\n",
       "      <th>Win_Percent</th>\n",
       "      <th>Podium_Fin</th>\n",
       "    </tr>\n",
       "  </thead>\n",
       "  <tbody>\n",
       "    <tr>\n",
       "      <th>49</th>\n",
       "      <td>Team 50</td>\n",
       "      <td>4</td>\n",
       "      <td>76</td>\n",
       "      <td>108</td>\n",
       "      <td>10</td>\n",
       "      <td>1945</td>\n",
       "      <td>76</td>\n",
       "      <td>-0.990741</td>\n",
       "      <td>27.777778</td>\n",
       "      <td>0.0</td>\n",
       "    </tr>\n",
       "    <tr>\n",
       "      <th>59</th>\n",
       "      <td>Team 60</td>\n",
       "      <td>1</td>\n",
       "      <td>14</td>\n",
       "      <td>30</td>\n",
       "      <td>15</td>\n",
       "      <td>1955</td>\n",
       "      <td>66</td>\n",
       "      <td>-1.033333</td>\n",
       "      <td>16.666667</td>\n",
       "      <td>0.0</td>\n",
       "    </tr>\n",
       "    <tr>\n",
       "      <th>58</th>\n",
       "      <td>Team 59</td>\n",
       "      <td>1</td>\n",
       "      <td>19</td>\n",
       "      <td>30</td>\n",
       "      <td>16</td>\n",
       "      <td>1951</td>\n",
       "      <td>70</td>\n",
       "      <td>-1.133333</td>\n",
       "      <td>23.333333</td>\n",
       "      <td>0.0</td>\n",
       "    </tr>\n",
       "    <tr>\n",
       "      <th>54</th>\n",
       "      <td>Team 55</td>\n",
       "      <td>2</td>\n",
       "      <td>40</td>\n",
       "      <td>68</td>\n",
       "      <td>16</td>\n",
       "      <td>1950</td>\n",
       "      <td>71</td>\n",
       "      <td>-1.647059</td>\n",
       "      <td>19.117647</td>\n",
       "      <td>0.0</td>\n",
       "    </tr>\n",
       "    <tr>\n",
       "      <th>60</th>\n",
       "      <td>Team 61</td>\n",
       "      <td>1</td>\n",
       "      <td>0</td>\n",
       "      <td>0</td>\n",
       "      <td>9</td>\n",
       "      <td>2017</td>\n",
       "      <td>4</td>\n",
       "      <td>NaN</td>\n",
       "      <td>0.000000</td>\n",
       "      <td>0.0</td>\n",
       "    </tr>\n",
       "  </tbody>\n",
       "</table>\n",
       "</div>"
      ],
      "text/plain": [
       "       Team  Tournament  Score  PlayedGames  HighestPositionHeld  YearLaunch  \\\n",
       "49  Team 50           4     76          108                   10        1945   \n",
       "59  Team 60           1     14           30                   15        1955   \n",
       "58  Team 59           1     19           30                   16        1951   \n",
       "54  Team 55           2     40           68                   16        1950   \n",
       "60  Team 61           1      0            0                    9        2017   \n",
       "\n",
       "    Age  BasketDiff  Win_Percent  Podium_Fin  \n",
       "49   76   -0.990741    27.777778         0.0  \n",
       "59   66   -1.033333    16.666667         0.0  \n",
       "58   70   -1.133333    23.333333         0.0  \n",
       "54   71   -1.647059    19.117647         0.0  \n",
       "60    4         NaN     0.000000         0.0  "
      ]
     },
     "execution_count": 28,
     "metadata": {},
     "output_type": "execute_result"
    }
   ],
   "source": [
    "# Similarly checking the lowest ranked teams by BasketDiff\n",
    "df1.sort_values('BasketDiff',ascending=False).tail()"
   ]
  },
  {
   "cell_type": "markdown",
   "id": "59199f2b",
   "metadata": {},
   "source": [
    "This list is essentially the same as the Top 5 scorers and hence no new candidate added to the list. Now, let us look at the Win_Percent and see which teams have won the most amount of matches they have played"
   ]
  },
  {
   "cell_type": "code",
   "execution_count": 29,
   "id": "911b1bdb",
   "metadata": {},
   "outputs": [
    {
     "data": {
      "text/html": [
       "<div>\n",
       "<style scoped>\n",
       "    .dataframe tbody tr th:only-of-type {\n",
       "        vertical-align: middle;\n",
       "    }\n",
       "\n",
       "    .dataframe tbody tr th {\n",
       "        vertical-align: top;\n",
       "    }\n",
       "\n",
       "    .dataframe thead th {\n",
       "        text-align: right;\n",
       "    }\n",
       "</style>\n",
       "<table border=\"1\" class=\"dataframe\">\n",
       "  <thead>\n",
       "    <tr style=\"text-align: right;\">\n",
       "      <th></th>\n",
       "      <th>Team</th>\n",
       "      <th>Tournament</th>\n",
       "      <th>Score</th>\n",
       "      <th>PlayedGames</th>\n",
       "      <th>HighestPositionHeld</th>\n",
       "      <th>YearLaunch</th>\n",
       "      <th>Age</th>\n",
       "      <th>BasketDiff</th>\n",
       "      <th>Win_Percent</th>\n",
       "      <th>Podium_Fin</th>\n",
       "    </tr>\n",
       "  </thead>\n",
       "  <tbody>\n",
       "    <tr>\n",
       "      <th>0</th>\n",
       "      <td>Team 1</td>\n",
       "      <td>86</td>\n",
       "      <td>4385</td>\n",
       "      <td>2762</td>\n",
       "      <td>1</td>\n",
       "      <td>1929</td>\n",
       "      <td>92</td>\n",
       "      <td>1.016293</td>\n",
       "      <td>59.630702</td>\n",
       "      <td>65.116279</td>\n",
       "    </tr>\n",
       "    <tr>\n",
       "      <th>1</th>\n",
       "      <td>Team 2</td>\n",
       "      <td>86</td>\n",
       "      <td>4262</td>\n",
       "      <td>2762</td>\n",
       "      <td>1</td>\n",
       "      <td>1929</td>\n",
       "      <td>92</td>\n",
       "      <td>1.008689</td>\n",
       "      <td>57.241130</td>\n",
       "      <td>58.139535</td>\n",
       "    </tr>\n",
       "    <tr>\n",
       "      <th>2</th>\n",
       "      <td>Team 3</td>\n",
       "      <td>80</td>\n",
       "      <td>3442</td>\n",
       "      <td>2614</td>\n",
       "      <td>1</td>\n",
       "      <td>1929</td>\n",
       "      <td>92</td>\n",
       "      <td>0.468630</td>\n",
       "      <td>47.475134</td>\n",
       "      <td>22.500000</td>\n",
       "    </tr>\n",
       "    <tr>\n",
       "      <th>3</th>\n",
       "      <td>Team 4</td>\n",
       "      <td>82</td>\n",
       "      <td>3386</td>\n",
       "      <td>2664</td>\n",
       "      <td>1</td>\n",
       "      <td>1931</td>\n",
       "      <td>90</td>\n",
       "      <td>0.348724</td>\n",
       "      <td>44.557057</td>\n",
       "      <td>14.634146</td>\n",
       "    </tr>\n",
       "    <tr>\n",
       "      <th>4</th>\n",
       "      <td>Team 5</td>\n",
       "      <td>86</td>\n",
       "      <td>3368</td>\n",
       "      <td>2762</td>\n",
       "      <td>1</td>\n",
       "      <td>1929</td>\n",
       "      <td>92</td>\n",
       "      <td>0.337075</td>\n",
       "      <td>43.772629</td>\n",
       "      <td>17.441860</td>\n",
       "    </tr>\n",
       "  </tbody>\n",
       "</table>\n",
       "</div>"
      ],
      "text/plain": [
       "     Team  Tournament  Score  PlayedGames  HighestPositionHeld  YearLaunch  \\\n",
       "0  Team 1          86   4385         2762                    1        1929   \n",
       "1  Team 2          86   4262         2762                    1        1929   \n",
       "2  Team 3          80   3442         2614                    1        1929   \n",
       "3  Team 4          82   3386         2664                    1        1931   \n",
       "4  Team 5          86   3368         2762                    1        1929   \n",
       "\n",
       "   Age  BasketDiff  Win_Percent  Podium_Fin  \n",
       "0   92    1.016293    59.630702   65.116279  \n",
       "1   92    1.008689    57.241130   58.139535  \n",
       "2   92    0.468630    47.475134   22.500000  \n",
       "3   90    0.348724    44.557057   14.634146  \n",
       "4   92    0.337075    43.772629   17.441860  "
      ]
     },
     "execution_count": 29,
     "metadata": {},
     "output_type": "execute_result"
    }
   ],
   "source": [
    "#Identifying Top 5 teams by greatest Win_Percent\n",
    "df1.sort_values('Win_Percent',ascending=False).head()"
   ]
  },
  {
   "cell_type": "code",
   "execution_count": 30,
   "id": "3ba454d1",
   "metadata": {},
   "outputs": [
    {
     "data": {
      "text/html": [
       "<div>\n",
       "<style scoped>\n",
       "    .dataframe tbody tr th:only-of-type {\n",
       "        vertical-align: middle;\n",
       "    }\n",
       "\n",
       "    .dataframe tbody tr th {\n",
       "        vertical-align: top;\n",
       "    }\n",
       "\n",
       "    .dataframe thead th {\n",
       "        text-align: right;\n",
       "    }\n",
       "</style>\n",
       "<table border=\"1\" class=\"dataframe\">\n",
       "  <thead>\n",
       "    <tr style=\"text-align: right;\">\n",
       "      <th></th>\n",
       "      <th>Team</th>\n",
       "      <th>Tournament</th>\n",
       "      <th>Score</th>\n",
       "      <th>PlayedGames</th>\n",
       "      <th>HighestPositionHeld</th>\n",
       "      <th>YearLaunch</th>\n",
       "      <th>Age</th>\n",
       "      <th>BasketDiff</th>\n",
       "      <th>Win_Percent</th>\n",
       "      <th>Podium_Fin</th>\n",
       "    </tr>\n",
       "  </thead>\n",
       "  <tbody>\n",
       "    <tr>\n",
       "      <th>0</th>\n",
       "      <td>Team 1</td>\n",
       "      <td>86</td>\n",
       "      <td>4385</td>\n",
       "      <td>2762</td>\n",
       "      <td>1</td>\n",
       "      <td>1929</td>\n",
       "      <td>92</td>\n",
       "      <td>1.016293</td>\n",
       "      <td>59.630702</td>\n",
       "      <td>65.116279</td>\n",
       "    </tr>\n",
       "    <tr>\n",
       "      <th>1</th>\n",
       "      <td>Team 2</td>\n",
       "      <td>86</td>\n",
       "      <td>4262</td>\n",
       "      <td>2762</td>\n",
       "      <td>1</td>\n",
       "      <td>1929</td>\n",
       "      <td>92</td>\n",
       "      <td>1.008689</td>\n",
       "      <td>57.241130</td>\n",
       "      <td>58.139535</td>\n",
       "    </tr>\n",
       "    <tr>\n",
       "      <th>2</th>\n",
       "      <td>Team 3</td>\n",
       "      <td>80</td>\n",
       "      <td>3442</td>\n",
       "      <td>2614</td>\n",
       "      <td>1</td>\n",
       "      <td>1929</td>\n",
       "      <td>92</td>\n",
       "      <td>0.468630</td>\n",
       "      <td>47.475134</td>\n",
       "      <td>22.500000</td>\n",
       "    </tr>\n",
       "    <tr>\n",
       "      <th>3</th>\n",
       "      <td>Team 4</td>\n",
       "      <td>82</td>\n",
       "      <td>3386</td>\n",
       "      <td>2664</td>\n",
       "      <td>1</td>\n",
       "      <td>1931</td>\n",
       "      <td>90</td>\n",
       "      <td>0.348724</td>\n",
       "      <td>44.557057</td>\n",
       "      <td>14.634146</td>\n",
       "    </tr>\n",
       "    <tr>\n",
       "      <th>4</th>\n",
       "      <td>Team 5</td>\n",
       "      <td>86</td>\n",
       "      <td>3368</td>\n",
       "      <td>2762</td>\n",
       "      <td>1</td>\n",
       "      <td>1929</td>\n",
       "      <td>92</td>\n",
       "      <td>0.337075</td>\n",
       "      <td>43.772629</td>\n",
       "      <td>17.441860</td>\n",
       "    </tr>\n",
       "  </tbody>\n",
       "</table>\n",
       "</div>"
      ],
      "text/plain": [
       "     Team  Tournament  Score  PlayedGames  HighestPositionHeld  YearLaunch  \\\n",
       "0  Team 1          86   4385         2762                    1        1929   \n",
       "1  Team 2          86   4262         2762                    1        1929   \n",
       "2  Team 3          80   3442         2614                    1        1929   \n",
       "3  Team 4          82   3386         2664                    1        1931   \n",
       "4  Team 5          86   3368         2762                    1        1929   \n",
       "\n",
       "   Age  BasketDiff  Win_Percent  Podium_Fin  \n",
       "0   92    1.016293    59.630702   65.116279  \n",
       "1   92    1.008689    57.241130   58.139535  \n",
       "2   92    0.468630    47.475134   22.500000  \n",
       "3   90    0.348724    44.557057   14.634146  \n",
       "4   92    0.337075    43.772629   17.441860  "
      ]
     },
     "execution_count": 30,
     "metadata": {},
     "output_type": "execute_result"
    }
   ],
   "source": [
    "# Similarly checking the lowest ranked teams by Win_Percent\n",
    "df1.sort_values('Win_Percent',ascending=False).head()"
   ]
  },
  {
   "cell_type": "markdown",
   "id": "17a86f82",
   "metadata": {},
   "source": [
    "This list too is the same as the Top5 scorers and hence no new candidates are added. Next, let us analyse the Podium_Fin variable"
   ]
  },
  {
   "cell_type": "code",
   "execution_count": 31,
   "id": "49be8c0f",
   "metadata": {},
   "outputs": [
    {
     "data": {
      "text/html": [
       "<div>\n",
       "<style scoped>\n",
       "    .dataframe tbody tr th:only-of-type {\n",
       "        vertical-align: middle;\n",
       "    }\n",
       "\n",
       "    .dataframe tbody tr th {\n",
       "        vertical-align: top;\n",
       "    }\n",
       "\n",
       "    .dataframe thead th {\n",
       "        text-align: right;\n",
       "    }\n",
       "</style>\n",
       "<table border=\"1\" class=\"dataframe\">\n",
       "  <thead>\n",
       "    <tr style=\"text-align: right;\">\n",
       "      <th></th>\n",
       "      <th>Team</th>\n",
       "      <th>Tournament</th>\n",
       "      <th>Score</th>\n",
       "      <th>PlayedGames</th>\n",
       "      <th>HighestPositionHeld</th>\n",
       "      <th>YearLaunch</th>\n",
       "      <th>Age</th>\n",
       "      <th>BasketDiff</th>\n",
       "      <th>Win_Percent</th>\n",
       "      <th>Podium_Fin</th>\n",
       "    </tr>\n",
       "  </thead>\n",
       "  <tbody>\n",
       "    <tr>\n",
       "      <th>0</th>\n",
       "      <td>Team 1</td>\n",
       "      <td>86</td>\n",
       "      <td>4385</td>\n",
       "      <td>2762</td>\n",
       "      <td>1</td>\n",
       "      <td>1929</td>\n",
       "      <td>92</td>\n",
       "      <td>1.016293</td>\n",
       "      <td>59.630702</td>\n",
       "      <td>65.116279</td>\n",
       "    </tr>\n",
       "    <tr>\n",
       "      <th>1</th>\n",
       "      <td>Team 2</td>\n",
       "      <td>86</td>\n",
       "      <td>4262</td>\n",
       "      <td>2762</td>\n",
       "      <td>1</td>\n",
       "      <td>1929</td>\n",
       "      <td>92</td>\n",
       "      <td>1.008689</td>\n",
       "      <td>57.241130</td>\n",
       "      <td>58.139535</td>\n",
       "    </tr>\n",
       "    <tr>\n",
       "      <th>2</th>\n",
       "      <td>Team 3</td>\n",
       "      <td>80</td>\n",
       "      <td>3442</td>\n",
       "      <td>2614</td>\n",
       "      <td>1</td>\n",
       "      <td>1929</td>\n",
       "      <td>92</td>\n",
       "      <td>0.468630</td>\n",
       "      <td>47.475134</td>\n",
       "      <td>22.500000</td>\n",
       "    </tr>\n",
       "    <tr>\n",
       "      <th>4</th>\n",
       "      <td>Team 5</td>\n",
       "      <td>86</td>\n",
       "      <td>3368</td>\n",
       "      <td>2762</td>\n",
       "      <td>1</td>\n",
       "      <td>1929</td>\n",
       "      <td>92</td>\n",
       "      <td>0.337075</td>\n",
       "      <td>43.772629</td>\n",
       "      <td>17.441860</td>\n",
       "    </tr>\n",
       "    <tr>\n",
       "      <th>3</th>\n",
       "      <td>Team 4</td>\n",
       "      <td>82</td>\n",
       "      <td>3386</td>\n",
       "      <td>2664</td>\n",
       "      <td>1</td>\n",
       "      <td>1931</td>\n",
       "      <td>90</td>\n",
       "      <td>0.348724</td>\n",
       "      <td>44.557057</td>\n",
       "      <td>14.634146</td>\n",
       "    </tr>\n",
       "  </tbody>\n",
       "</table>\n",
       "</div>"
      ],
      "text/plain": [
       "     Team  Tournament  Score  PlayedGames  HighestPositionHeld  YearLaunch  \\\n",
       "0  Team 1          86   4385         2762                    1        1929   \n",
       "1  Team 2          86   4262         2762                    1        1929   \n",
       "2  Team 3          80   3442         2614                    1        1929   \n",
       "4  Team 5          86   3368         2762                    1        1929   \n",
       "3  Team 4          82   3386         2664                    1        1931   \n",
       "\n",
       "   Age  BasketDiff  Win_Percent  Podium_Fin  \n",
       "0   92    1.016293    59.630702   65.116279  \n",
       "1   92    1.008689    57.241130   58.139535  \n",
       "2   92    0.468630    47.475134   22.500000  \n",
       "4   92    0.337075    43.772629   17.441860  \n",
       "3   90    0.348724    44.557057   14.634146  "
      ]
     },
     "execution_count": 31,
     "metadata": {},
     "output_type": "execute_result"
    }
   ],
   "source": [
    "#Identifying Top 5 teams by greatest Podium_Fin\n",
    "df1.sort_values('Podium_Fin',ascending=False).head()"
   ]
  },
  {
   "cell_type": "markdown",
   "id": "d9fd8703",
   "metadata": {},
   "source": [
    "Alas! This list too is the same as top 5 scorersand hance no new candidates."
   ]
  },
  {
   "cell_type": "code",
   "execution_count": 32,
   "id": "8ea2c3f7",
   "metadata": {},
   "outputs": [
    {
     "data": {
      "text/html": [
       "<div>\n",
       "<style scoped>\n",
       "    .dataframe tbody tr th:only-of-type {\n",
       "        vertical-align: middle;\n",
       "    }\n",
       "\n",
       "    .dataframe tbody tr th {\n",
       "        vertical-align: top;\n",
       "    }\n",
       "\n",
       "    .dataframe thead th {\n",
       "        text-align: right;\n",
       "    }\n",
       "</style>\n",
       "<table border=\"1\" class=\"dataframe\">\n",
       "  <thead>\n",
       "    <tr style=\"text-align: right;\">\n",
       "      <th></th>\n",
       "      <th>Team</th>\n",
       "      <th>Tournament</th>\n",
       "      <th>Score</th>\n",
       "      <th>PlayedGames</th>\n",
       "      <th>HighestPositionHeld</th>\n",
       "      <th>YearLaunch</th>\n",
       "      <th>Age</th>\n",
       "      <th>BasketDiff</th>\n",
       "      <th>Win_Percent</th>\n",
       "      <th>Podium_Fin</th>\n",
       "    </tr>\n",
       "  </thead>\n",
       "  <tbody>\n",
       "    <tr>\n",
       "      <th>31</th>\n",
       "      <td>Team 32</td>\n",
       "      <td>14</td>\n",
       "      <td>353</td>\n",
       "      <td>426</td>\n",
       "      <td>4</td>\n",
       "      <td>1943</td>\n",
       "      <td>78</td>\n",
       "      <td>-0.535211</td>\n",
       "      <td>30.281690</td>\n",
       "      <td>0.0</td>\n",
       "    </tr>\n",
       "    <tr>\n",
       "      <th>32</th>\n",
       "      <td>Team 33</td>\n",
       "      <td>12</td>\n",
       "      <td>343</td>\n",
       "      <td>448</td>\n",
       "      <td>12</td>\n",
       "      <td>1977</td>\n",
       "      <td>44</td>\n",
       "      <td>-0.600446</td>\n",
       "      <td>23.214286</td>\n",
       "      <td>0.0</td>\n",
       "    </tr>\n",
       "    <tr>\n",
       "      <th>33</th>\n",
       "      <td>Team 34</td>\n",
       "      <td>9</td>\n",
       "      <td>293</td>\n",
       "      <td>346</td>\n",
       "      <td>7</td>\n",
       "      <td>1987</td>\n",
       "      <td>34</td>\n",
       "      <td>-0.572254</td>\n",
       "      <td>27.745665</td>\n",
       "      <td>0.0</td>\n",
       "    </tr>\n",
       "    <tr>\n",
       "      <th>34</th>\n",
       "      <td>Team 35</td>\n",
       "      <td>11</td>\n",
       "      <td>285</td>\n",
       "      <td>334</td>\n",
       "      <td>4</td>\n",
       "      <td>1941</td>\n",
       "      <td>80</td>\n",
       "      <td>-0.505988</td>\n",
       "      <td>30.838323</td>\n",
       "      <td>0.0</td>\n",
       "    </tr>\n",
       "    <tr>\n",
       "      <th>60</th>\n",
       "      <td>Team 61</td>\n",
       "      <td>1</td>\n",
       "      <td>0</td>\n",
       "      <td>0</td>\n",
       "      <td>9</td>\n",
       "      <td>2017</td>\n",
       "      <td>4</td>\n",
       "      <td>NaN</td>\n",
       "      <td>0.000000</td>\n",
       "      <td>0.0</td>\n",
       "    </tr>\n",
       "  </tbody>\n",
       "</table>\n",
       "</div>"
      ],
      "text/plain": [
       "       Team  Tournament  Score  PlayedGames  HighestPositionHeld  YearLaunch  \\\n",
       "31  Team 32          14    353          426                    4        1943   \n",
       "32  Team 33          12    343          448                   12        1977   \n",
       "33  Team 34           9    293          346                    7        1987   \n",
       "34  Team 35          11    285          334                    4        1941   \n",
       "60  Team 61           1      0            0                    9        2017   \n",
       "\n",
       "    Age  BasketDiff  Win_Percent  Podium_Fin  \n",
       "31   78   -0.535211    30.281690         0.0  \n",
       "32   44   -0.600446    23.214286         0.0  \n",
       "33   34   -0.572254    27.745665         0.0  \n",
       "34   80   -0.505988    30.838323         0.0  \n",
       "60    4         NaN     0.000000         0.0  "
      ]
     },
     "execution_count": 32,
     "metadata": {},
     "output_type": "execute_result"
    }
   ],
   "source": [
    "# Similarly checking the lowest ranked teams by Podium_Fin\n",
    "df1.sort_values('Podium_Fin',ascending=False).tail()"
   ]
  },
  {
   "cell_type": "markdown",
   "id": "ef392b18",
   "metadata": {},
   "source": [
    "Next, let us look at the prevailing correlations between the data and see if any parameter correlates to Podium_Fin or TournamentChampion or Highest Position "
   ]
  },
  {
   "cell_type": "code",
   "execution_count": 33,
   "id": "cdbad8a0",
   "metadata": {},
   "outputs": [
    {
     "data": {
      "text/plain": [
       "<AxesSubplot:>"
      ]
     },
     "execution_count": 33,
     "metadata": {},
     "output_type": "execute_result"
    },
    {
     "data": {
      "image/png": "[encoded data removed]",
      "text/plain": [
       "<Figure size 360x360 with 2 Axes>"
      ]
     },
     "metadata": {
      "needs_background": "light"
     },
     "output_type": "display_data"
    }
   ],
   "source": [
    "plt.figure(figsize=(5,5))\n",
    "sns.heatmap(df1.corr())"
   ]
  },
  {
   "cell_type": "code",
   "execution_count": 34,
   "id": "05096bea",
   "metadata": {},
   "outputs": [],
   "source": [
    "# Creating a temporary dataframe for easier plotting\n",
    "df1_temp=df1[['Team','Tournament','Score','PlayedGames',\"BasketDiff\",\n",
    "              'Age','Win_Percent','Podium_Fin','HighestPositionHeld']]"
   ]
  },
  {
   "cell_type": "code",
   "execution_count": 35,
   "id": "004c3024",
   "metadata": {},
   "outputs": [
    {
     "data": {
      "text/plain": [
       "<seaborn.axisgrid.PairGrid at 0x23dc43f97c0>"
      ]
     },
     "execution_count": 35,
     "metadata": {},
     "output_type": "execute_result"
    },
    {
     "data": {
      "image/png": "[encoded data removed]",
      "text/plain": [
       "<Figure size 1440x1440 with 72 Axes>"
      ]
     },
     "metadata": {
      "needs_background": "light"
     },
     "output_type": "display_data"
    }
   ],
   "source": [
    "sns.pairplot(df1_temp)"
   ]
  },
  {
   "cell_type": "markdown",
   "id": "43010bd4",
   "metadata": {},
   "source": [
    "We note the following from this graph:\n",
    "\n",
    "1. Teams aged older than 40 are the ones that have achieved Highest Positions < 5(except one). They also have the best Win_Percent and Podium_Fin and played most tournaments\n",
    "2. Teams that have played > 10 tournaments are the ones that have achieved Highest Positions < 5 (except one)\n",
    "3. As teams play more games (PlayedGames/Tournament) the chances of success (HighestPositionHed/Podium_Fin) also increase, which is understandable as the teams will get better and adapt to the tournament better with exposure\n",
    "4. BasketDiff is >0 for teams that have held high positions or finished on the podium atleast once. It is also positively correlated with Win_Percent and inversely with HighestPositionHeld\n",
    "5. Win_Percent is high (>30%) for teams which have held high positions or finished on the podium atleast once\n",
    "6. There are very few teams that have finsihed on the podium ever (Podium_Fin) "
   ]
  },
  {
   "cell_type": "markdown",
   "id": "b49eda93",
   "metadata": {},
   "source": [
    "Older teams have been most successful, but some of them already are having sponsorship deals with competitors. Hence, we should focus on other teams, apart from the oldest ones. Also, we see that chancesof success increase with more games. Hence, we should define a cut-off for the games "
   ]
  },
  {
   "cell_type": "code",
   "execution_count": 36,
   "id": "000b21fd",
   "metadata": {},
   "outputs": [
    {
     "name": "stderr",
     "output_type": "stream",
     "text": [
      "C:\\Program Files\\Anaconda3\\lib\\site-packages\\seaborn\\_decorators.py:36: FutureWarning: Pass the following variable as a keyword arg: x. From version 0.12, the only valid positional argument will be `data`, and passing other arguments without an explicit keyword will result in an error or misinterpretation.\n",
      "  warnings.warn(\n",
      "C:\\Program Files\\Anaconda3\\lib\\site-packages\\seaborn\\_decorators.py:36: FutureWarning: Pass the following variable as a keyword arg: x. From version 0.12, the only valid positional argument will be `data`, and passing other arguments without an explicit keyword will result in an error or misinterpretation.\n",
      "  warnings.warn(\n"
     ]
    },
    {
     "data": {
      "text/plain": [
       "<AxesSubplot:xlabel='Tournament'>"
      ]
     },
     "execution_count": 36,
     "metadata": {},
     "output_type": "execute_result"
    },
    {
     "data": {
      "image/png": "[encoded data removed]",
      "text/plain": [
       "<Figure size 720x360 with 2 Axes>"
      ]
     },
     "metadata": {
      "needs_background": "light"
     },
     "output_type": "display_data"
    }
   ],
   "source": [
    "#Checking the box plot for Age & PlayedGames\n",
    "fig,ax = plt.subplots(1,2)\n",
    "\n",
    "fig.set_figheight(5)\n",
    "fig.set_figwidth(10)\n",
    "\n",
    "sns.boxplot(df1['Age'],ax=ax[0])\n",
    "sns.boxplot(df1['Tournament'],ax=ax[1])"
   ]
  },
  {
   "cell_type": "code",
   "execution_count": 37,
   "id": "776a46e4",
   "metadata": {},
   "outputs": [
    {
     "data": {
      "text/plain": [
       "<AxesSubplot:xlabel='Age', ylabel='Tournament'>"
      ]
     },
     "execution_count": 37,
     "metadata": {},
     "output_type": "execute_result"
    },
    {
     "data": {
      "image/png": "[encoded data removed]",
      "text/plain": [
       "<Figure size 432x288 with 1 Axes>"
      ]
     },
     "metadata": {
      "needs_background": "light"
     },
     "output_type": "display_data"
    }
   ],
   "source": [
    "sns.scatterplot(x=df1['Age'],y=df1['Tournament'])"
   ]
  },
  {
   "cell_type": "code",
   "execution_count": 38,
   "id": "13aff661",
   "metadata": {},
   "outputs": [
    {
     "data": {
      "text/plain": [
       "<AxesSubplot:ylabel='Frequency'>"
      ]
     },
     "execution_count": 38,
     "metadata": {},
     "output_type": "execute_result"
    },
    {
     "data": {
      "image/png": "[encoded data removed]",
      "text/plain": [
       "<Figure size 720x360 with 1 Axes>"
      ]
     },
     "metadata": {
      "needs_background": "light"
     },
     "output_type": "display_data"
    }
   ],
   "source": [
    "#plotting a distribution of Team Age\n",
    "plt.figure(figsize=(10,5))\n",
    "df1['Age'].plot.hist(bins=100)"
   ]
  },
  {
   "cell_type": "code",
   "execution_count": 39,
   "id": "7eeddf57",
   "metadata": {},
   "outputs": [
    {
     "data": {
      "text/html": [
       "<div>\n",
       "<style scoped>\n",
       "    .dataframe tbody tr th:only-of-type {\n",
       "        vertical-align: middle;\n",
       "    }\n",
       "\n",
       "    .dataframe tbody tr th {\n",
       "        vertical-align: top;\n",
       "    }\n",
       "\n",
       "    .dataframe thead th {\n",
       "        text-align: right;\n",
       "    }\n",
       "</style>\n",
       "<table border=\"1\" class=\"dataframe\">\n",
       "  <thead>\n",
       "    <tr style=\"text-align: right;\">\n",
       "      <th></th>\n",
       "      <th>Team</th>\n",
       "      <th>Tournament</th>\n",
       "      <th>Score</th>\n",
       "      <th>PlayedGames</th>\n",
       "      <th>HighestPositionHeld</th>\n",
       "      <th>YearLaunch</th>\n",
       "      <th>Age</th>\n",
       "      <th>BasketDiff</th>\n",
       "      <th>Win_Percent</th>\n",
       "      <th>Podium_Fin</th>\n",
       "    </tr>\n",
       "  </thead>\n",
       "  <tbody>\n",
       "    <tr>\n",
       "      <th>0</th>\n",
       "      <td>Team 1</td>\n",
       "      <td>86</td>\n",
       "      <td>4385</td>\n",
       "      <td>2762</td>\n",
       "      <td>1</td>\n",
       "      <td>1929</td>\n",
       "      <td>92</td>\n",
       "      <td>1.016293</td>\n",
       "      <td>59.630702</td>\n",
       "      <td>65.116279</td>\n",
       "    </tr>\n",
       "    <tr>\n",
       "      <th>1</th>\n",
       "      <td>Team 2</td>\n",
       "      <td>86</td>\n",
       "      <td>4262</td>\n",
       "      <td>2762</td>\n",
       "      <td>1</td>\n",
       "      <td>1929</td>\n",
       "      <td>92</td>\n",
       "      <td>1.008689</td>\n",
       "      <td>57.241130</td>\n",
       "      <td>58.139535</td>\n",
       "    </tr>\n",
       "    <tr>\n",
       "      <th>2</th>\n",
       "      <td>Team 3</td>\n",
       "      <td>80</td>\n",
       "      <td>3442</td>\n",
       "      <td>2614</td>\n",
       "      <td>1</td>\n",
       "      <td>1929</td>\n",
       "      <td>92</td>\n",
       "      <td>0.468630</td>\n",
       "      <td>47.475134</td>\n",
       "      <td>22.500000</td>\n",
       "    </tr>\n",
       "    <tr>\n",
       "      <th>4</th>\n",
       "      <td>Team 5</td>\n",
       "      <td>86</td>\n",
       "      <td>3368</td>\n",
       "      <td>2762</td>\n",
       "      <td>1</td>\n",
       "      <td>1929</td>\n",
       "      <td>92</td>\n",
       "      <td>0.337075</td>\n",
       "      <td>43.772629</td>\n",
       "      <td>17.441860</td>\n",
       "    </tr>\n",
       "    <tr>\n",
       "      <th>6</th>\n",
       "      <td>Team 7</td>\n",
       "      <td>82</td>\n",
       "      <td>2792</td>\n",
       "      <td>2626</td>\n",
       "      <td>3</td>\n",
       "      <td>1929</td>\n",
       "      <td>92</td>\n",
       "      <td>-0.106626</td>\n",
       "      <td>36.100533</td>\n",
       "      <td>0.000000</td>\n",
       "    </tr>\n",
       "    <tr>\n",
       "      <th>7</th>\n",
       "      <td>Team 8</td>\n",
       "      <td>70</td>\n",
       "      <td>2573</td>\n",
       "      <td>2302</td>\n",
       "      <td>1</td>\n",
       "      <td>1929</td>\n",
       "      <td>92</td>\n",
       "      <td>-0.000869</td>\n",
       "      <td>37.532580</td>\n",
       "      <td>7.142857</td>\n",
       "    </tr>\n",
       "    <tr>\n",
       "      <th>13</th>\n",
       "      <td>Team 14</td>\n",
       "      <td>44</td>\n",
       "      <td>1416</td>\n",
       "      <td>1428</td>\n",
       "      <td>2</td>\n",
       "      <td>1929</td>\n",
       "      <td>92</td>\n",
       "      <td>-0.367647</td>\n",
       "      <td>31.722689</td>\n",
       "      <td>2.272727</td>\n",
       "    </tr>\n",
       "    <tr>\n",
       "      <th>44</th>\n",
       "      <td>Team 45</td>\n",
       "      <td>7</td>\n",
       "      <td>107</td>\n",
       "      <td>130</td>\n",
       "      <td>3</td>\n",
       "      <td>1929</td>\n",
       "      <td>92</td>\n",
       "      <td>-0.623077</td>\n",
       "      <td>33.076923</td>\n",
       "      <td>0.000000</td>\n",
       "    </tr>\n",
       "    <tr>\n",
       "      <th>51</th>\n",
       "      <td>Team 52</td>\n",
       "      <td>4</td>\n",
       "      <td>56</td>\n",
       "      <td>72</td>\n",
       "      <td>6</td>\n",
       "      <td>1929</td>\n",
       "      <td>92</td>\n",
       "      <td>-0.430556</td>\n",
       "      <td>29.166667</td>\n",
       "      <td>0.000000</td>\n",
       "    </tr>\n",
       "    <tr>\n",
       "      <th>53</th>\n",
       "      <td>Team 54</td>\n",
       "      <td>3</td>\n",
       "      <td>42</td>\n",
       "      <td>54</td>\n",
       "      <td>8</td>\n",
       "      <td>1929</td>\n",
       "      <td>92</td>\n",
       "      <td>-0.629630</td>\n",
       "      <td>33.333333</td>\n",
       "      <td>0.000000</td>\n",
       "    </tr>\n",
       "  </tbody>\n",
       "</table>\n",
       "</div>"
      ],
      "text/plain": [
       "       Team  Tournament  Score  PlayedGames  HighestPositionHeld  YearLaunch  \\\n",
       "0    Team 1          86   4385         2762                    1        1929   \n",
       "1    Team 2          86   4262         2762                    1        1929   \n",
       "2    Team 3          80   3442         2614                    1        1929   \n",
       "4    Team 5          86   3368         2762                    1        1929   \n",
       "6    Team 7          82   2792         2626                    3        1929   \n",
       "7    Team 8          70   2573         2302                    1        1929   \n",
       "13  Team 14          44   1416         1428                    2        1929   \n",
       "44  Team 45           7    107          130                    3        1929   \n",
       "51  Team 52           4     56           72                    6        1929   \n",
       "53  Team 54           3     42           54                    8        1929   \n",
       "\n",
       "    Age  BasketDiff  Win_Percent  Podium_Fin  \n",
       "0    92    1.016293    59.630702   65.116279  \n",
       "1    92    1.008689    57.241130   58.139535  \n",
       "2    92    0.468630    47.475134   22.500000  \n",
       "4    92    0.337075    43.772629   17.441860  \n",
       "6    92   -0.106626    36.100533    0.000000  \n",
       "7    92   -0.000869    37.532580    7.142857  \n",
       "13   92   -0.367647    31.722689    2.272727  \n",
       "44   92   -0.623077    33.076923    0.000000  \n",
       "51   92   -0.430556    29.166667    0.000000  \n",
       "53   92   -0.629630    33.333333    0.000000  "
      ]
     },
     "execution_count": 39,
     "metadata": {},
     "output_type": "execute_result"
    }
   ],
   "source": [
    "#print out the oldest teams\n",
    "df1[df1['Age']==df1['Age'].max()]"
   ]
  },
  {
   "cell_type": "markdown",
   "id": "71d04d1a",
   "metadata": {},
   "source": [
    "Hence, we can set the below cut-offs:"
   ]
  },
  {
   "cell_type": "markdown",
   "id": "7d32a1a9",
   "metadata": {},
   "source": [
    "<blockquote>Maximum Age = Q3 = 86.0 <i>  from distplot</i><br>\n",
    "            Minimum Age = 43.0 <i>  from boxplot</i><br>\n",
    "            Minimum Tournament = Q1 = 17 <i>  from boxplot</i>\n",
    "</blockquote>\n",
    "\n",
    "With this we will create a subset of our dataset and proceed with further analysis"
   ]
  },
  {
   "cell_type": "code",
   "execution_count": 40,
   "id": "f62277fb",
   "metadata": {},
   "outputs": [
    {
     "data": {
      "text/plain": [
       "<matplotlib.lines.Line2D at 0x23dc7c0f6a0>"
      ]
     },
     "execution_count": 40,
     "metadata": {},
     "output_type": "execute_result"
    },
    {
     "data": {
      "image/png": "[encoded data removed]",
      "text/plain": [
       "<Figure size 432x288 with 1 Axes>"
      ]
     },
     "metadata": {
      "needs_background": "light"
     },
     "output_type": "display_data"
    }
   ],
   "source": [
    "sns.scatterplot(x=df1['Age'],y=df1['Tournament'])\n",
    "plt.axhline(17,linewidth = 1, color='red') #Tournament cut-off\n",
    "plt.axvline(86,linewidth=1,color='red') #Age upper cut-off\n",
    "plt.axvline(43,linewidth=1,color='red') #Age lower cut-off"
   ]
  },
  {
   "cell_type": "code",
   "execution_count": 41,
   "id": "628fd324",
   "metadata": {},
   "outputs": [
    {
     "data": {
      "text/html": [
       "<div>\n",
       "<style scoped>\n",
       "    .dataframe tbody tr th:only-of-type {\n",
       "        vertical-align: middle;\n",
       "    }\n",
       "\n",
       "    .dataframe tbody tr th {\n",
       "        vertical-align: top;\n",
       "    }\n",
       "\n",
       "    .dataframe thead th {\n",
       "        text-align: right;\n",
       "    }\n",
       "</style>\n",
       "<table border=\"1\" class=\"dataframe\">\n",
       "  <thead>\n",
       "    <tr style=\"text-align: right;\">\n",
       "      <th></th>\n",
       "      <th>Team</th>\n",
       "      <th>Tournament</th>\n",
       "      <th>Score</th>\n",
       "      <th>PlayedGames</th>\n",
       "      <th>HighestPositionHeld</th>\n",
       "      <th>YearLaunch</th>\n",
       "      <th>Age</th>\n",
       "      <th>BasketDiff</th>\n",
       "      <th>Win_Percent</th>\n",
       "      <th>Podium_Fin</th>\n",
       "    </tr>\n",
       "  </thead>\n",
       "  <tbody>\n",
       "    <tr>\n",
       "      <th>8</th>\n",
       "      <td>Team 9</td>\n",
       "      <td>58</td>\n",
       "      <td>2109</td>\n",
       "      <td>1986</td>\n",
       "      <td>2</td>\n",
       "      <td>1939</td>\n",
       "      <td>82</td>\n",
       "      <td>-0.082578</td>\n",
       "      <td>35.146022</td>\n",
       "      <td>1.724138</td>\n",
       "    </tr>\n",
       "    <tr>\n",
       "      <th>10</th>\n",
       "      <td>Team 11</td>\n",
       "      <td>45</td>\n",
       "      <td>1814</td>\n",
       "      <td>1530</td>\n",
       "      <td>1</td>\n",
       "      <td>1941</td>\n",
       "      <td>80</td>\n",
       "      <td>-0.088889</td>\n",
       "      <td>36.797386</td>\n",
       "      <td>13.333333</td>\n",
       "    </tr>\n",
       "    <tr>\n",
       "      <th>11</th>\n",
       "      <td>Team 12</td>\n",
       "      <td>51</td>\n",
       "      <td>1789</td>\n",
       "      <td>1698</td>\n",
       "      <td>4</td>\n",
       "      <td>1939</td>\n",
       "      <td>82</td>\n",
       "      <td>-0.203769</td>\n",
       "      <td>34.511190</td>\n",
       "      <td>0.000000</td>\n",
       "    </tr>\n",
       "    <tr>\n",
       "      <th>12</th>\n",
       "      <td>Team 13</td>\n",
       "      <td>42</td>\n",
       "      <td>1471</td>\n",
       "      <td>1466</td>\n",
       "      <td>4</td>\n",
       "      <td>1948</td>\n",
       "      <td>73</td>\n",
       "      <td>-0.281719</td>\n",
       "      <td>31.582538</td>\n",
       "      <td>0.000000</td>\n",
       "    </tr>\n",
       "    <tr>\n",
       "      <th>14</th>\n",
       "      <td>Team 15</td>\n",
       "      <td>43</td>\n",
       "      <td>1389</td>\n",
       "      <td>1458</td>\n",
       "      <td>2</td>\n",
       "      <td>1944</td>\n",
       "      <td>77</td>\n",
       "      <td>-0.273663</td>\n",
       "      <td>32.304527</td>\n",
       "      <td>2.325581</td>\n",
       "    </tr>\n",
       "  </tbody>\n",
       "</table>\n",
       "</div>"
      ],
      "text/plain": [
       "       Team  Tournament  Score  PlayedGames  HighestPositionHeld  YearLaunch  \\\n",
       "8    Team 9          58   2109         1986                    2        1939   \n",
       "10  Team 11          45   1814         1530                    1        1941   \n",
       "11  Team 12          51   1789         1698                    4        1939   \n",
       "12  Team 13          42   1471         1466                    4        1948   \n",
       "14  Team 15          43   1389         1458                    2        1944   \n",
       "\n",
       "    Age  BasketDiff  Win_Percent  Podium_Fin  \n",
       "8    82   -0.082578    35.146022    1.724138  \n",
       "10   80   -0.088889    36.797386   13.333333  \n",
       "11   82   -0.203769    34.511190    0.000000  \n",
       "12   73   -0.281719    31.582538    0.000000  \n",
       "14   77   -0.273663    32.304527    2.325581  "
      ]
     },
     "execution_count": 41,
     "metadata": {},
     "output_type": "execute_result"
    }
   ],
   "source": [
    "# Creating a subset of our dataset\n",
    "#df2= df1[(df1['YearLaunch'] >1929)& (df1['YearLaunch']<1981) ]\n",
    "df2 = df1[(df1['Age']<86) & (df1['Age']>43) & (df1['Tournament']> 17)]\n",
    "df2.head()"
   ]
  },
  {
   "cell_type": "markdown",
   "id": "28a8fb9d",
   "metadata": {},
   "source": [
    "Let us check if we missed any outliers when we applied the cut-offs above by checking if any Top 5 HighestPositionHeld teams were left out"
   ]
  },
  {
   "cell_type": "code",
   "execution_count": 42,
   "id": "1716cd86",
   "metadata": {},
   "outputs": [
    {
     "data": {
      "text/html": [
       "<div>\n",
       "<style scoped>\n",
       "    .dataframe tbody tr th:only-of-type {\n",
       "        vertical-align: middle;\n",
       "    }\n",
       "\n",
       "    .dataframe tbody tr th {\n",
       "        vertical-align: top;\n",
       "    }\n",
       "\n",
       "    .dataframe thead th {\n",
       "        text-align: right;\n",
       "    }\n",
       "</style>\n",
       "<table border=\"1\" class=\"dataframe\">\n",
       "  <thead>\n",
       "    <tr style=\"text-align: right;\">\n",
       "      <th></th>\n",
       "      <th>Team</th>\n",
       "      <th>Tournament</th>\n",
       "      <th>Score</th>\n",
       "      <th>PlayedGames</th>\n",
       "      <th>HighestPositionHeld</th>\n",
       "      <th>YearLaunch</th>\n",
       "      <th>Age</th>\n",
       "      <th>BasketDiff</th>\n",
       "      <th>Win_Percent</th>\n",
       "      <th>Podium_Fin</th>\n",
       "    </tr>\n",
       "  </thead>\n",
       "  <tbody>\n",
       "    <tr>\n",
       "      <th>20</th>\n",
       "      <td>Team 21</td>\n",
       "      <td>17</td>\n",
       "      <td>970</td>\n",
       "      <td>646</td>\n",
       "      <td>2</td>\n",
       "      <td>1998</td>\n",
       "      <td>23</td>\n",
       "      <td>0.159443</td>\n",
       "      <td>41.176471</td>\n",
       "      <td>5.882353</td>\n",
       "    </tr>\n",
       "  </tbody>\n",
       "</table>\n",
       "</div>"
      ],
      "text/plain": [
       "       Team  Tournament  Score  PlayedGames  HighestPositionHeld  YearLaunch  \\\n",
       "20  Team 21          17    970          646                    2        1998   \n",
       "\n",
       "    Age  BasketDiff  Win_Percent  Podium_Fin  \n",
       "20   23    0.159443    41.176471    5.882353  "
      ]
     },
     "execution_count": 42,
     "metadata": {},
     "output_type": "execute_result"
    }
   ],
   "source": [
    "#Age cut-off \n",
    "df1[(df1['Age']<=43)&(df1['HighestPositionHeld']<=5)]"
   ]
  },
  {
   "cell_type": "code",
   "execution_count": 43,
   "id": "29c1ec56",
   "metadata": {},
   "outputs": [
    {
     "data": {
      "text/html": [
       "<div>\n",
       "<style scoped>\n",
       "    .dataframe tbody tr th:only-of-type {\n",
       "        vertical-align: middle;\n",
       "    }\n",
       "\n",
       "    .dataframe tbody tr th {\n",
       "        vertical-align: top;\n",
       "    }\n",
       "\n",
       "    .dataframe thead th {\n",
       "        text-align: right;\n",
       "    }\n",
       "</style>\n",
       "<table border=\"1\" class=\"dataframe\">\n",
       "  <thead>\n",
       "    <tr style=\"text-align: right;\">\n",
       "      <th></th>\n",
       "      <th>Team</th>\n",
       "      <th>Tournament</th>\n",
       "      <th>Score</th>\n",
       "      <th>PlayedGames</th>\n",
       "      <th>HighestPositionHeld</th>\n",
       "      <th>YearLaunch</th>\n",
       "      <th>Age</th>\n",
       "      <th>BasketDiff</th>\n",
       "      <th>Win_Percent</th>\n",
       "      <th>Podium_Fin</th>\n",
       "    </tr>\n",
       "  </thead>\n",
       "  <tbody>\n",
       "    <tr>\n",
       "      <th>20</th>\n",
       "      <td>Team 21</td>\n",
       "      <td>17</td>\n",
       "      <td>970</td>\n",
       "      <td>646</td>\n",
       "      <td>2</td>\n",
       "      <td>1998</td>\n",
       "      <td>23</td>\n",
       "      <td>0.159443</td>\n",
       "      <td>41.176471</td>\n",
       "      <td>5.882353</td>\n",
       "    </tr>\n",
       "    <tr>\n",
       "      <th>26</th>\n",
       "      <td>Team 27</td>\n",
       "      <td>13</td>\n",
       "      <td>510</td>\n",
       "      <td>494</td>\n",
       "      <td>5</td>\n",
       "      <td>1961</td>\n",
       "      <td>60</td>\n",
       "      <td>-0.253036</td>\n",
       "      <td>31.376518</td>\n",
       "      <td>0.000000</td>\n",
       "    </tr>\n",
       "    <tr>\n",
       "      <th>31</th>\n",
       "      <td>Team 32</td>\n",
       "      <td>14</td>\n",
       "      <td>353</td>\n",
       "      <td>426</td>\n",
       "      <td>4</td>\n",
       "      <td>1943</td>\n",
       "      <td>78</td>\n",
       "      <td>-0.535211</td>\n",
       "      <td>30.281690</td>\n",
       "      <td>0.000000</td>\n",
       "    </tr>\n",
       "    <tr>\n",
       "      <th>34</th>\n",
       "      <td>Team 35</td>\n",
       "      <td>11</td>\n",
       "      <td>285</td>\n",
       "      <td>334</td>\n",
       "      <td>4</td>\n",
       "      <td>1941</td>\n",
       "      <td>80</td>\n",
       "      <td>-0.505988</td>\n",
       "      <td>30.838323</td>\n",
       "      <td>0.000000</td>\n",
       "    </tr>\n",
       "    <tr>\n",
       "      <th>37</th>\n",
       "      <td>Team 38</td>\n",
       "      <td>9</td>\n",
       "      <td>230</td>\n",
       "      <td>282</td>\n",
       "      <td>5</td>\n",
       "      <td>1962</td>\n",
       "      <td>59</td>\n",
       "      <td>-0.514184</td>\n",
       "      <td>29.078014</td>\n",
       "      <td>0.000000</td>\n",
       "    </tr>\n",
       "    <tr>\n",
       "      <th>44</th>\n",
       "      <td>Team 45</td>\n",
       "      <td>7</td>\n",
       "      <td>107</td>\n",
       "      <td>130</td>\n",
       "      <td>3</td>\n",
       "      <td>1929</td>\n",
       "      <td>92</td>\n",
       "      <td>-0.623077</td>\n",
       "      <td>33.076923</td>\n",
       "      <td>0.000000</td>\n",
       "    </tr>\n",
       "  </tbody>\n",
       "</table>\n",
       "</div>"
      ],
      "text/plain": [
       "       Team  Tournament  Score  PlayedGames  HighestPositionHeld  YearLaunch  \\\n",
       "20  Team 21          17    970          646                    2        1998   \n",
       "26  Team 27          13    510          494                    5        1961   \n",
       "31  Team 32          14    353          426                    4        1943   \n",
       "34  Team 35          11    285          334                    4        1941   \n",
       "37  Team 38           9    230          282                    5        1962   \n",
       "44  Team 45           7    107          130                    3        1929   \n",
       "\n",
       "    Age  BasketDiff  Win_Percent  Podium_Fin  \n",
       "20   23    0.159443    41.176471    5.882353  \n",
       "26   60   -0.253036    31.376518    0.000000  \n",
       "31   78   -0.535211    30.281690    0.000000  \n",
       "34   80   -0.505988    30.838323    0.000000  \n",
       "37   59   -0.514184    29.078014    0.000000  \n",
       "44   92   -0.623077    33.076923    0.000000  "
      ]
     },
     "execution_count": 43,
     "metadata": {},
     "output_type": "execute_result"
    }
   ],
   "source": [
    "#Tournament cut-off\n",
    "df1[(df1['Tournament']<=17)&(df1['HighestPositionHeld']<=5)]"
   ]
  },
  {
   "cell_type": "markdown",
   "id": "03ea07ed",
   "metadata": {},
   "source": [
    "We see that Team 21 is a potential candidate since it has  BasketDiff >0, Win_Percent >30% and Podium_Fin >0. Let us include that in our dataframe"
   ]
  },
  {
   "cell_type": "code",
   "execution_count": 44,
   "id": "6dd46ae3",
   "metadata": {},
   "outputs": [
    {
     "data": {
      "text/html": [
       "<div>\n",
       "<style scoped>\n",
       "    .dataframe tbody tr th:only-of-type {\n",
       "        vertical-align: middle;\n",
       "    }\n",
       "\n",
       "    .dataframe tbody tr th {\n",
       "        vertical-align: top;\n",
       "    }\n",
       "\n",
       "    .dataframe thead th {\n",
       "        text-align: right;\n",
       "    }\n",
       "</style>\n",
       "<table border=\"1\" class=\"dataframe\">\n",
       "  <thead>\n",
       "    <tr style=\"text-align: right;\">\n",
       "      <th></th>\n",
       "      <th>Team</th>\n",
       "      <th>Tournament</th>\n",
       "      <th>Score</th>\n",
       "      <th>PlayedGames</th>\n",
       "      <th>HighestPositionHeld</th>\n",
       "      <th>YearLaunch</th>\n",
       "      <th>Age</th>\n",
       "      <th>BasketDiff</th>\n",
       "      <th>Win_Percent</th>\n",
       "      <th>Podium_Fin</th>\n",
       "    </tr>\n",
       "  </thead>\n",
       "  <tbody>\n",
       "    <tr>\n",
       "      <th>8</th>\n",
       "      <td>Team 9</td>\n",
       "      <td>58</td>\n",
       "      <td>2109</td>\n",
       "      <td>1986</td>\n",
       "      <td>2</td>\n",
       "      <td>1939</td>\n",
       "      <td>82</td>\n",
       "      <td>-0.082578</td>\n",
       "      <td>35.146022</td>\n",
       "      <td>1.724138</td>\n",
       "    </tr>\n",
       "    <tr>\n",
       "      <th>10</th>\n",
       "      <td>Team 11</td>\n",
       "      <td>45</td>\n",
       "      <td>1814</td>\n",
       "      <td>1530</td>\n",
       "      <td>1</td>\n",
       "      <td>1941</td>\n",
       "      <td>80</td>\n",
       "      <td>-0.088889</td>\n",
       "      <td>36.797386</td>\n",
       "      <td>13.333333</td>\n",
       "    </tr>\n",
       "    <tr>\n",
       "      <th>11</th>\n",
       "      <td>Team 12</td>\n",
       "      <td>51</td>\n",
       "      <td>1789</td>\n",
       "      <td>1698</td>\n",
       "      <td>4</td>\n",
       "      <td>1939</td>\n",
       "      <td>82</td>\n",
       "      <td>-0.203769</td>\n",
       "      <td>34.511190</td>\n",
       "      <td>0.000000</td>\n",
       "    </tr>\n",
       "    <tr>\n",
       "      <th>12</th>\n",
       "      <td>Team 13</td>\n",
       "      <td>42</td>\n",
       "      <td>1471</td>\n",
       "      <td>1466</td>\n",
       "      <td>4</td>\n",
       "      <td>1948</td>\n",
       "      <td>73</td>\n",
       "      <td>-0.281719</td>\n",
       "      <td>31.582538</td>\n",
       "      <td>0.000000</td>\n",
       "    </tr>\n",
       "    <tr>\n",
       "      <th>14</th>\n",
       "      <td>Team 15</td>\n",
       "      <td>43</td>\n",
       "      <td>1389</td>\n",
       "      <td>1458</td>\n",
       "      <td>2</td>\n",
       "      <td>1944</td>\n",
       "      <td>77</td>\n",
       "      <td>-0.273663</td>\n",
       "      <td>32.304527</td>\n",
       "      <td>2.325581</td>\n",
       "    </tr>\n",
       "    <tr>\n",
       "      <th>16</th>\n",
       "      <td>Team 17</td>\n",
       "      <td>36</td>\n",
       "      <td>1314</td>\n",
       "      <td>1255</td>\n",
       "      <td>4</td>\n",
       "      <td>1949</td>\n",
       "      <td>72</td>\n",
       "      <td>-0.272510</td>\n",
       "      <td>31.075697</td>\n",
       "      <td>0.000000</td>\n",
       "    </tr>\n",
       "    <tr>\n",
       "      <th>18</th>\n",
       "      <td>Team 19</td>\n",
       "      <td>27</td>\n",
       "      <td>1148</td>\n",
       "      <td>988</td>\n",
       "      <td>3</td>\n",
       "      <td>1960</td>\n",
       "      <td>61</td>\n",
       "      <td>-0.191296</td>\n",
       "      <td>33.704453</td>\n",
       "      <td>0.000000</td>\n",
       "    </tr>\n",
       "    <tr>\n",
       "      <th>19</th>\n",
       "      <td>Team 20</td>\n",
       "      <td>33</td>\n",
       "      <td>1020</td>\n",
       "      <td>1096</td>\n",
       "      <td>2</td>\n",
       "      <td>1951</td>\n",
       "      <td>70</td>\n",
       "      <td>-0.364051</td>\n",
       "      <td>33.485401</td>\n",
       "      <td>3.030303</td>\n",
       "    </tr>\n",
       "    <tr>\n",
       "      <th>20</th>\n",
       "      <td>Team 21</td>\n",
       "      <td>17</td>\n",
       "      <td>970</td>\n",
       "      <td>646</td>\n",
       "      <td>2</td>\n",
       "      <td>1998</td>\n",
       "      <td>23</td>\n",
       "      <td>0.159443</td>\n",
       "      <td>41.176471</td>\n",
       "      <td>5.882353</td>\n",
       "    </tr>\n",
       "    <tr>\n",
       "      <th>21</th>\n",
       "      <td>Team 22</td>\n",
       "      <td>23</td>\n",
       "      <td>667</td>\n",
       "      <td>742</td>\n",
       "      <td>6</td>\n",
       "      <td>1941</td>\n",
       "      <td>80</td>\n",
       "      <td>-0.455526</td>\n",
       "      <td>29.380054</td>\n",
       "      <td>0.000000</td>\n",
       "    </tr>\n",
       "    <tr>\n",
       "      <th>23</th>\n",
       "      <td>Team 24</td>\n",
       "      <td>21</td>\n",
       "      <td>606</td>\n",
       "      <td>678</td>\n",
       "      <td>5</td>\n",
       "      <td>1959</td>\n",
       "      <td>62</td>\n",
       "      <td>-0.401180</td>\n",
       "      <td>29.941003</td>\n",
       "      <td>0.000000</td>\n",
       "    </tr>\n",
       "    <tr>\n",
       "      <th>27</th>\n",
       "      <td>Team 28</td>\n",
       "      <td>18</td>\n",
       "      <td>445</td>\n",
       "      <td>586</td>\n",
       "      <td>11</td>\n",
       "      <td>1940</td>\n",
       "      <td>81</td>\n",
       "      <td>-0.656997</td>\n",
       "      <td>24.744027</td>\n",
       "      <td>0.000000</td>\n",
       "    </tr>\n",
       "  </tbody>\n",
       "</table>\n",
       "</div>"
      ],
      "text/plain": [
       "       Team  Tournament  Score  PlayedGames  HighestPositionHeld  YearLaunch  \\\n",
       "8    Team 9          58   2109         1986                    2        1939   \n",
       "10  Team 11          45   1814         1530                    1        1941   \n",
       "11  Team 12          51   1789         1698                    4        1939   \n",
       "12  Team 13          42   1471         1466                    4        1948   \n",
       "14  Team 15          43   1389         1458                    2        1944   \n",
       "16  Team 17          36   1314         1255                    4        1949   \n",
       "18  Team 19          27   1148          988                    3        1960   \n",
       "19  Team 20          33   1020         1096                    2        1951   \n",
       "20  Team 21          17    970          646                    2        1998   \n",
       "21  Team 22          23    667          742                    6        1941   \n",
       "23  Team 24          21    606          678                    5        1959   \n",
       "27  Team 28          18    445          586                   11        1940   \n",
       "\n",
       "    Age  BasketDiff  Win_Percent  Podium_Fin  \n",
       "8    82   -0.082578    35.146022    1.724138  \n",
       "10   80   -0.088889    36.797386   13.333333  \n",
       "11   82   -0.203769    34.511190    0.000000  \n",
       "12   73   -0.281719    31.582538    0.000000  \n",
       "14   77   -0.273663    32.304527    2.325581  \n",
       "16   72   -0.272510    31.075697    0.000000  \n",
       "18   61   -0.191296    33.704453    0.000000  \n",
       "19   70   -0.364051    33.485401    3.030303  \n",
       "20   23    0.159443    41.176471    5.882353  \n",
       "21   80   -0.455526    29.380054    0.000000  \n",
       "23   62   -0.401180    29.941003    0.000000  \n",
       "27   81   -0.656997    24.744027    0.000000  "
      ]
     },
     "execution_count": 44,
     "metadata": {},
     "output_type": "execute_result"
    }
   ],
   "source": [
    "#include Team 21 entry into dataframe\n",
    "df2=df2.append(df1.iloc[20]).sort_index()\n",
    "df2"
   ]
  },
  {
   "cell_type": "markdown",
   "id": "4000d605",
   "metadata": {},
   "source": [
    "Let us go back to our candidates list and see if they pass the criteria set above"
   ]
  },
  {
   "cell_type": "code",
   "execution_count": 45,
   "id": "14c0b069",
   "metadata": {},
   "outputs": [
    {
     "data": {
      "text/html": [
       "<div>\n",
       "<style scoped>\n",
       "    .dataframe tbody tr th:only-of-type {\n",
       "        vertical-align: middle;\n",
       "    }\n",
       "\n",
       "    .dataframe tbody tr th {\n",
       "        vertical-align: top;\n",
       "    }\n",
       "\n",
       "    .dataframe thead th {\n",
       "        text-align: right;\n",
       "    }\n",
       "</style>\n",
       "<table border=\"1\" class=\"dataframe\">\n",
       "  <thead>\n",
       "    <tr style=\"text-align: right;\">\n",
       "      <th></th>\n",
       "      <th>Team</th>\n",
       "      <th>Tournament</th>\n",
       "      <th>Score</th>\n",
       "      <th>PlayedGames</th>\n",
       "      <th>HighestPositionHeld</th>\n",
       "      <th>YearLaunch</th>\n",
       "      <th>Age</th>\n",
       "      <th>BasketDiff</th>\n",
       "      <th>Win_Percent</th>\n",
       "      <th>Podium_Fin</th>\n",
       "    </tr>\n",
       "  </thead>\n",
       "  <tbody>\n",
       "  </tbody>\n",
       "</table>\n",
       "</div>"
      ],
      "text/plain": [
       "Empty DataFrame\n",
       "Columns: [Team, Tournament, Score, PlayedGames, HighestPositionHeld, YearLaunch, Age, BasketDiff, Win_Percent, Podium_Fin]\n",
       "Index: []"
      ]
     },
     "execution_count": 45,
     "metadata": {},
     "output_type": "execute_result"
    }
   ],
   "source": [
    "# Check if candidates identified earlier meet the criteria\n",
    "df2[df2['Team'].isin(candidates)]"
   ]
  },
  {
   "cell_type": "markdown",
   "id": "aab57990",
   "metadata": {},
   "source": [
    "Only Team 4 meets the criteria and we can retain it and remove the rest"
   ]
  },
  {
   "cell_type": "code",
   "execution_count": 46,
   "id": "867feb44",
   "metadata": {},
   "outputs": [],
   "source": [
    "candidates={'Team 4'}"
   ]
  },
  {
   "cell_type": "code",
   "execution_count": 47,
   "id": "5dbe6b4c",
   "metadata": {},
   "outputs": [
    {
     "data": {
      "text/html": [
       "<div>\n",
       "<style scoped>\n",
       "    .dataframe tbody tr th:only-of-type {\n",
       "        vertical-align: middle;\n",
       "    }\n",
       "\n",
       "    .dataframe tbody tr th {\n",
       "        vertical-align: top;\n",
       "    }\n",
       "\n",
       "    .dataframe thead th {\n",
       "        text-align: right;\n",
       "    }\n",
       "</style>\n",
       "<table border=\"1\" class=\"dataframe\">\n",
       "  <thead>\n",
       "    <tr style=\"text-align: right;\">\n",
       "      <th></th>\n",
       "      <th>Team</th>\n",
       "      <th>Tournament</th>\n",
       "      <th>Score</th>\n",
       "      <th>PlayedGames</th>\n",
       "      <th>HighestPositionHeld</th>\n",
       "      <th>YearLaunch</th>\n",
       "      <th>Age</th>\n",
       "      <th>BasketDiff</th>\n",
       "      <th>Win_Percent</th>\n",
       "      <th>Podium_Fin</th>\n",
       "    </tr>\n",
       "  </thead>\n",
       "  <tbody>\n",
       "    <tr>\n",
       "      <th>8</th>\n",
       "      <td>Team 9</td>\n",
       "      <td>58</td>\n",
       "      <td>2109</td>\n",
       "      <td>1986</td>\n",
       "      <td>2</td>\n",
       "      <td>1939</td>\n",
       "      <td>82</td>\n",
       "      <td>-0.082578</td>\n",
       "      <td>35.146022</td>\n",
       "      <td>1.724138</td>\n",
       "    </tr>\n",
       "    <tr>\n",
       "      <th>10</th>\n",
       "      <td>Team 11</td>\n",
       "      <td>45</td>\n",
       "      <td>1814</td>\n",
       "      <td>1530</td>\n",
       "      <td>1</td>\n",
       "      <td>1941</td>\n",
       "      <td>80</td>\n",
       "      <td>-0.088889</td>\n",
       "      <td>36.797386</td>\n",
       "      <td>13.333333</td>\n",
       "    </tr>\n",
       "    <tr>\n",
       "      <th>11</th>\n",
       "      <td>Team 12</td>\n",
       "      <td>51</td>\n",
       "      <td>1789</td>\n",
       "      <td>1698</td>\n",
       "      <td>4</td>\n",
       "      <td>1939</td>\n",
       "      <td>82</td>\n",
       "      <td>-0.203769</td>\n",
       "      <td>34.511190</td>\n",
       "      <td>0.000000</td>\n",
       "    </tr>\n",
       "    <tr>\n",
       "      <th>12</th>\n",
       "      <td>Team 13</td>\n",
       "      <td>42</td>\n",
       "      <td>1471</td>\n",
       "      <td>1466</td>\n",
       "      <td>4</td>\n",
       "      <td>1948</td>\n",
       "      <td>73</td>\n",
       "      <td>-0.281719</td>\n",
       "      <td>31.582538</td>\n",
       "      <td>0.000000</td>\n",
       "    </tr>\n",
       "    <tr>\n",
       "      <th>14</th>\n",
       "      <td>Team 15</td>\n",
       "      <td>43</td>\n",
       "      <td>1389</td>\n",
       "      <td>1458</td>\n",
       "      <td>2</td>\n",
       "      <td>1944</td>\n",
       "      <td>77</td>\n",
       "      <td>-0.273663</td>\n",
       "      <td>32.304527</td>\n",
       "      <td>2.325581</td>\n",
       "    </tr>\n",
       "  </tbody>\n",
       "</table>\n",
       "</div>"
      ],
      "text/plain": [
       "       Team  Tournament  Score  PlayedGames  HighestPositionHeld  YearLaunch  \\\n",
       "8    Team 9          58   2109         1986                    2        1939   \n",
       "10  Team 11          45   1814         1530                    1        1941   \n",
       "11  Team 12          51   1789         1698                    4        1939   \n",
       "12  Team 13          42   1471         1466                    4        1948   \n",
       "14  Team 15          43   1389         1458                    2        1944   \n",
       "\n",
       "    Age  BasketDiff  Win_Percent  Podium_Fin  \n",
       "8    82   -0.082578    35.146022    1.724138  \n",
       "10   80   -0.088889    36.797386   13.333333  \n",
       "11   82   -0.203769    34.511190    0.000000  \n",
       "12   73   -0.281719    31.582538    0.000000  \n",
       "14   77   -0.273663    32.304527    2.325581  "
      ]
     },
     "execution_count": 47,
     "metadata": {},
     "output_type": "execute_result"
    }
   ],
   "source": [
    "# Identifying top scoring teams & updating candidates\n",
    "df2.sort_values(by='Score',ascending=False).head()"
   ]
  },
  {
   "cell_type": "code",
   "execution_count": 48,
   "id": "2b90e77f",
   "metadata": {},
   "outputs": [],
   "source": [
    "candidates.update(df2.sort_values(by='Score',ascending=False).head()['Team'])"
   ]
  },
  {
   "cell_type": "code",
   "execution_count": 49,
   "id": "dd17bb51",
   "metadata": {},
   "outputs": [],
   "source": [
    "#Identifying highest Win_Percent, BasketDiff & Podium_Fin teams & updating candidates"
   ]
  },
  {
   "cell_type": "code",
   "execution_count": 50,
   "id": "3b67d8e6",
   "metadata": {},
   "outputs": [
    {
     "data": {
      "text/html": [
       "<div>\n",
       "<style scoped>\n",
       "    .dataframe tbody tr th:only-of-type {\n",
       "        vertical-align: middle;\n",
       "    }\n",
       "\n",
       "    .dataframe tbody tr th {\n",
       "        vertical-align: top;\n",
       "    }\n",
       "\n",
       "    .dataframe thead th {\n",
       "        text-align: right;\n",
       "    }\n",
       "</style>\n",
       "<table border=\"1\" class=\"dataframe\">\n",
       "  <thead>\n",
       "    <tr style=\"text-align: right;\">\n",
       "      <th></th>\n",
       "      <th>Team</th>\n",
       "      <th>Tournament</th>\n",
       "      <th>Score</th>\n",
       "      <th>PlayedGames</th>\n",
       "      <th>HighestPositionHeld</th>\n",
       "      <th>YearLaunch</th>\n",
       "      <th>Age</th>\n",
       "      <th>BasketDiff</th>\n",
       "      <th>Win_Percent</th>\n",
       "      <th>Podium_Fin</th>\n",
       "    </tr>\n",
       "  </thead>\n",
       "  <tbody>\n",
       "    <tr>\n",
       "      <th>20</th>\n",
       "      <td>Team 21</td>\n",
       "      <td>17</td>\n",
       "      <td>970</td>\n",
       "      <td>646</td>\n",
       "      <td>2</td>\n",
       "      <td>1998</td>\n",
       "      <td>23</td>\n",
       "      <td>0.159443</td>\n",
       "      <td>41.176471</td>\n",
       "      <td>5.882353</td>\n",
       "    </tr>\n",
       "    <tr>\n",
       "      <th>10</th>\n",
       "      <td>Team 11</td>\n",
       "      <td>45</td>\n",
       "      <td>1814</td>\n",
       "      <td>1530</td>\n",
       "      <td>1</td>\n",
       "      <td>1941</td>\n",
       "      <td>80</td>\n",
       "      <td>-0.088889</td>\n",
       "      <td>36.797386</td>\n",
       "      <td>13.333333</td>\n",
       "    </tr>\n",
       "    <tr>\n",
       "      <th>8</th>\n",
       "      <td>Team 9</td>\n",
       "      <td>58</td>\n",
       "      <td>2109</td>\n",
       "      <td>1986</td>\n",
       "      <td>2</td>\n",
       "      <td>1939</td>\n",
       "      <td>82</td>\n",
       "      <td>-0.082578</td>\n",
       "      <td>35.146022</td>\n",
       "      <td>1.724138</td>\n",
       "    </tr>\n",
       "    <tr>\n",
       "      <th>11</th>\n",
       "      <td>Team 12</td>\n",
       "      <td>51</td>\n",
       "      <td>1789</td>\n",
       "      <td>1698</td>\n",
       "      <td>4</td>\n",
       "      <td>1939</td>\n",
       "      <td>82</td>\n",
       "      <td>-0.203769</td>\n",
       "      <td>34.511190</td>\n",
       "      <td>0.000000</td>\n",
       "    </tr>\n",
       "    <tr>\n",
       "      <th>18</th>\n",
       "      <td>Team 19</td>\n",
       "      <td>27</td>\n",
       "      <td>1148</td>\n",
       "      <td>988</td>\n",
       "      <td>3</td>\n",
       "      <td>1960</td>\n",
       "      <td>61</td>\n",
       "      <td>-0.191296</td>\n",
       "      <td>33.704453</td>\n",
       "      <td>0.000000</td>\n",
       "    </tr>\n",
       "  </tbody>\n",
       "</table>\n",
       "</div>"
      ],
      "text/plain": [
       "       Team  Tournament  Score  PlayedGames  HighestPositionHeld  YearLaunch  \\\n",
       "20  Team 21          17    970          646                    2        1998   \n",
       "10  Team 11          45   1814         1530                    1        1941   \n",
       "8    Team 9          58   2109         1986                    2        1939   \n",
       "11  Team 12          51   1789         1698                    4        1939   \n",
       "18  Team 19          27   1148          988                    3        1960   \n",
       "\n",
       "    Age  BasketDiff  Win_Percent  Podium_Fin  \n",
       "20   23    0.159443    41.176471    5.882353  \n",
       "10   80   -0.088889    36.797386   13.333333  \n",
       "8    82   -0.082578    35.146022    1.724138  \n",
       "11   82   -0.203769    34.511190    0.000000  \n",
       "18   61   -0.191296    33.704453    0.000000  "
      ]
     },
     "execution_count": 50,
     "metadata": {},
     "output_type": "execute_result"
    }
   ],
   "source": [
    "df2.sort_values(by='Win_Percent',ascending=False).head()"
   ]
  },
  {
   "cell_type": "code",
   "execution_count": 51,
   "id": "d6de2aee",
   "metadata": {},
   "outputs": [],
   "source": [
    "candidates.update(df2.sort_values(by='Win_Percent',ascending=False).head()['Team'])"
   ]
  },
  {
   "cell_type": "code",
   "execution_count": 52,
   "id": "2c44439b",
   "metadata": {},
   "outputs": [
    {
     "data": {
      "text/html": [
       "<div>\n",
       "<style scoped>\n",
       "    .dataframe tbody tr th:only-of-type {\n",
       "        vertical-align: middle;\n",
       "    }\n",
       "\n",
       "    .dataframe tbody tr th {\n",
       "        vertical-align: top;\n",
       "    }\n",
       "\n",
       "    .dataframe thead th {\n",
       "        text-align: right;\n",
       "    }\n",
       "</style>\n",
       "<table border=\"1\" class=\"dataframe\">\n",
       "  <thead>\n",
       "    <tr style=\"text-align: right;\">\n",
       "      <th></th>\n",
       "      <th>Team</th>\n",
       "      <th>Tournament</th>\n",
       "      <th>Score</th>\n",
       "      <th>PlayedGames</th>\n",
       "      <th>HighestPositionHeld</th>\n",
       "      <th>YearLaunch</th>\n",
       "      <th>Age</th>\n",
       "      <th>BasketDiff</th>\n",
       "      <th>Win_Percent</th>\n",
       "      <th>Podium_Fin</th>\n",
       "    </tr>\n",
       "  </thead>\n",
       "  <tbody>\n",
       "    <tr>\n",
       "      <th>20</th>\n",
       "      <td>Team 21</td>\n",
       "      <td>17</td>\n",
       "      <td>970</td>\n",
       "      <td>646</td>\n",
       "      <td>2</td>\n",
       "      <td>1998</td>\n",
       "      <td>23</td>\n",
       "      <td>0.159443</td>\n",
       "      <td>41.176471</td>\n",
       "      <td>5.882353</td>\n",
       "    </tr>\n",
       "    <tr>\n",
       "      <th>8</th>\n",
       "      <td>Team 9</td>\n",
       "      <td>58</td>\n",
       "      <td>2109</td>\n",
       "      <td>1986</td>\n",
       "      <td>2</td>\n",
       "      <td>1939</td>\n",
       "      <td>82</td>\n",
       "      <td>-0.082578</td>\n",
       "      <td>35.146022</td>\n",
       "      <td>1.724138</td>\n",
       "    </tr>\n",
       "    <tr>\n",
       "      <th>10</th>\n",
       "      <td>Team 11</td>\n",
       "      <td>45</td>\n",
       "      <td>1814</td>\n",
       "      <td>1530</td>\n",
       "      <td>1</td>\n",
       "      <td>1941</td>\n",
       "      <td>80</td>\n",
       "      <td>-0.088889</td>\n",
       "      <td>36.797386</td>\n",
       "      <td>13.333333</td>\n",
       "    </tr>\n",
       "    <tr>\n",
       "      <th>18</th>\n",
       "      <td>Team 19</td>\n",
       "      <td>27</td>\n",
       "      <td>1148</td>\n",
       "      <td>988</td>\n",
       "      <td>3</td>\n",
       "      <td>1960</td>\n",
       "      <td>61</td>\n",
       "      <td>-0.191296</td>\n",
       "      <td>33.704453</td>\n",
       "      <td>0.000000</td>\n",
       "    </tr>\n",
       "    <tr>\n",
       "      <th>11</th>\n",
       "      <td>Team 12</td>\n",
       "      <td>51</td>\n",
       "      <td>1789</td>\n",
       "      <td>1698</td>\n",
       "      <td>4</td>\n",
       "      <td>1939</td>\n",
       "      <td>82</td>\n",
       "      <td>-0.203769</td>\n",
       "      <td>34.511190</td>\n",
       "      <td>0.000000</td>\n",
       "    </tr>\n",
       "  </tbody>\n",
       "</table>\n",
       "</div>"
      ],
      "text/plain": [
       "       Team  Tournament  Score  PlayedGames  HighestPositionHeld  YearLaunch  \\\n",
       "20  Team 21          17    970          646                    2        1998   \n",
       "8    Team 9          58   2109         1986                    2        1939   \n",
       "10  Team 11          45   1814         1530                    1        1941   \n",
       "18  Team 19          27   1148          988                    3        1960   \n",
       "11  Team 12          51   1789         1698                    4        1939   \n",
       "\n",
       "    Age  BasketDiff  Win_Percent  Podium_Fin  \n",
       "20   23    0.159443    41.176471    5.882353  \n",
       "8    82   -0.082578    35.146022    1.724138  \n",
       "10   80   -0.088889    36.797386   13.333333  \n",
       "18   61   -0.191296    33.704453    0.000000  \n",
       "11   82   -0.203769    34.511190    0.000000  "
      ]
     },
     "execution_count": 52,
     "metadata": {},
     "output_type": "execute_result"
    }
   ],
   "source": [
    "df2.sort_values(by='BasketDiff',ascending=False).head()"
   ]
  },
  {
   "cell_type": "code",
   "execution_count": 53,
   "id": "ed1fccea",
   "metadata": {},
   "outputs": [],
   "source": [
    "candidates.update(df2.sort_values(by='BasketDiff',ascending=False).head()['Team'])"
   ]
  },
  {
   "cell_type": "code",
   "execution_count": 54,
   "id": "e968a4ee",
   "metadata": {},
   "outputs": [
    {
     "data": {
      "text/html": [
       "<div>\n",
       "<style scoped>\n",
       "    .dataframe tbody tr th:only-of-type {\n",
       "        vertical-align: middle;\n",
       "    }\n",
       "\n",
       "    .dataframe tbody tr th {\n",
       "        vertical-align: top;\n",
       "    }\n",
       "\n",
       "    .dataframe thead th {\n",
       "        text-align: right;\n",
       "    }\n",
       "</style>\n",
       "<table border=\"1\" class=\"dataframe\">\n",
       "  <thead>\n",
       "    <tr style=\"text-align: right;\">\n",
       "      <th></th>\n",
       "      <th>Team</th>\n",
       "      <th>Tournament</th>\n",
       "      <th>Score</th>\n",
       "      <th>PlayedGames</th>\n",
       "      <th>HighestPositionHeld</th>\n",
       "      <th>YearLaunch</th>\n",
       "      <th>Age</th>\n",
       "      <th>BasketDiff</th>\n",
       "      <th>Win_Percent</th>\n",
       "      <th>Podium_Fin</th>\n",
       "    </tr>\n",
       "  </thead>\n",
       "  <tbody>\n",
       "    <tr>\n",
       "      <th>10</th>\n",
       "      <td>Team 11</td>\n",
       "      <td>45</td>\n",
       "      <td>1814</td>\n",
       "      <td>1530</td>\n",
       "      <td>1</td>\n",
       "      <td>1941</td>\n",
       "      <td>80</td>\n",
       "      <td>-0.088889</td>\n",
       "      <td>36.797386</td>\n",
       "      <td>13.333333</td>\n",
       "    </tr>\n",
       "    <tr>\n",
       "      <th>20</th>\n",
       "      <td>Team 21</td>\n",
       "      <td>17</td>\n",
       "      <td>970</td>\n",
       "      <td>646</td>\n",
       "      <td>2</td>\n",
       "      <td>1998</td>\n",
       "      <td>23</td>\n",
       "      <td>0.159443</td>\n",
       "      <td>41.176471</td>\n",
       "      <td>5.882353</td>\n",
       "    </tr>\n",
       "    <tr>\n",
       "      <th>19</th>\n",
       "      <td>Team 20</td>\n",
       "      <td>33</td>\n",
       "      <td>1020</td>\n",
       "      <td>1096</td>\n",
       "      <td>2</td>\n",
       "      <td>1951</td>\n",
       "      <td>70</td>\n",
       "      <td>-0.364051</td>\n",
       "      <td>33.485401</td>\n",
       "      <td>3.030303</td>\n",
       "    </tr>\n",
       "    <tr>\n",
       "      <th>14</th>\n",
       "      <td>Team 15</td>\n",
       "      <td>43</td>\n",
       "      <td>1389</td>\n",
       "      <td>1458</td>\n",
       "      <td>2</td>\n",
       "      <td>1944</td>\n",
       "      <td>77</td>\n",
       "      <td>-0.273663</td>\n",
       "      <td>32.304527</td>\n",
       "      <td>2.325581</td>\n",
       "    </tr>\n",
       "    <tr>\n",
       "      <th>8</th>\n",
       "      <td>Team 9</td>\n",
       "      <td>58</td>\n",
       "      <td>2109</td>\n",
       "      <td>1986</td>\n",
       "      <td>2</td>\n",
       "      <td>1939</td>\n",
       "      <td>82</td>\n",
       "      <td>-0.082578</td>\n",
       "      <td>35.146022</td>\n",
       "      <td>1.724138</td>\n",
       "    </tr>\n",
       "  </tbody>\n",
       "</table>\n",
       "</div>"
      ],
      "text/plain": [
       "       Team  Tournament  Score  PlayedGames  HighestPositionHeld  YearLaunch  \\\n",
       "10  Team 11          45   1814         1530                    1        1941   \n",
       "20  Team 21          17    970          646                    2        1998   \n",
       "19  Team 20          33   1020         1096                    2        1951   \n",
       "14  Team 15          43   1389         1458                    2        1944   \n",
       "8    Team 9          58   2109         1986                    2        1939   \n",
       "\n",
       "    Age  BasketDiff  Win_Percent  Podium_Fin  \n",
       "10   80   -0.088889    36.797386   13.333333  \n",
       "20   23    0.159443    41.176471    5.882353  \n",
       "19   70   -0.364051    33.485401    3.030303  \n",
       "14   77   -0.273663    32.304527    2.325581  \n",
       "8    82   -0.082578    35.146022    1.724138  "
      ]
     },
     "execution_count": 54,
     "metadata": {},
     "output_type": "execute_result"
    }
   ],
   "source": [
    "df2.sort_values(by='Podium_Fin',ascending=False).head()"
   ]
  },
  {
   "cell_type": "code",
   "execution_count": 55,
   "id": "214f9776",
   "metadata": {},
   "outputs": [],
   "source": [
    "candidates.update(df2.sort_values(by='Podium_Fin',ascending=False).head()['Team'])"
   ]
  },
  {
   "cell_type": "code",
   "execution_count": 56,
   "id": "9db1705e",
   "metadata": {},
   "outputs": [
    {
     "data": {
      "text/plain": [
       "{'Team 11',\n",
       " 'Team 12',\n",
       " 'Team 13',\n",
       " 'Team 15',\n",
       " 'Team 19',\n",
       " 'Team 20',\n",
       " 'Team 21',\n",
       " 'Team 4',\n",
       " 'Team 9'}"
      ]
     },
     "execution_count": 56,
     "metadata": {},
     "output_type": "execute_result"
    }
   ],
   "source": [
    "# Who are the candidaes at the moment?\n",
    "candidates"
   ]
  },
  {
   "cell_type": "markdown",
   "id": "684c15c8",
   "metadata": {},
   "source": [
    "Now, let's check the highest position held by these teams"
   ]
  },
  {
   "cell_type": "code",
   "execution_count": 57,
   "id": "2702e0df",
   "metadata": {},
   "outputs": [
    {
     "data": {
      "text/html": [
       "<div>\n",
       "<style scoped>\n",
       "    .dataframe tbody tr th:only-of-type {\n",
       "        vertical-align: middle;\n",
       "    }\n",
       "\n",
       "    .dataframe tbody tr th {\n",
       "        vertical-align: top;\n",
       "    }\n",
       "\n",
       "    .dataframe thead th {\n",
       "        text-align: right;\n",
       "    }\n",
       "</style>\n",
       "<table border=\"1\" class=\"dataframe\">\n",
       "  <thead>\n",
       "    <tr style=\"text-align: right;\">\n",
       "      <th></th>\n",
       "      <th>Team</th>\n",
       "      <th>Tournament</th>\n",
       "      <th>Score</th>\n",
       "      <th>PlayedGames</th>\n",
       "      <th>HighestPositionHeld</th>\n",
       "      <th>YearLaunch</th>\n",
       "      <th>Age</th>\n",
       "      <th>BasketDiff</th>\n",
       "      <th>Win_Percent</th>\n",
       "      <th>Podium_Fin</th>\n",
       "    </tr>\n",
       "  </thead>\n",
       "  <tbody>\n",
       "    <tr>\n",
       "      <th>10</th>\n",
       "      <td>Team 11</td>\n",
       "      <td>45</td>\n",
       "      <td>1814</td>\n",
       "      <td>1530</td>\n",
       "      <td>1</td>\n",
       "      <td>1941</td>\n",
       "      <td>80</td>\n",
       "      <td>-0.088889</td>\n",
       "      <td>36.797386</td>\n",
       "      <td>13.333333</td>\n",
       "    </tr>\n",
       "  </tbody>\n",
       "</table>\n",
       "</div>"
      ],
      "text/plain": [
       "       Team  Tournament  Score  PlayedGames  HighestPositionHeld  YearLaunch  \\\n",
       "10  Team 11          45   1814         1530                    1        1941   \n",
       "\n",
       "    Age  BasketDiff  Win_Percent  Podium_Fin  \n",
       "10   80   -0.088889    36.797386   13.333333  "
      ]
     },
     "metadata": {},
     "output_type": "display_data"
    },
    {
     "data": {
      "text/html": [
       "<div>\n",
       "<style scoped>\n",
       "    .dataframe tbody tr th:only-of-type {\n",
       "        vertical-align: middle;\n",
       "    }\n",
       "\n",
       "    .dataframe tbody tr th {\n",
       "        vertical-align: top;\n",
       "    }\n",
       "\n",
       "    .dataframe thead th {\n",
       "        text-align: right;\n",
       "    }\n",
       "</style>\n",
       "<table border=\"1\" class=\"dataframe\">\n",
       "  <thead>\n",
       "    <tr style=\"text-align: right;\">\n",
       "      <th></th>\n",
       "      <th>Team</th>\n",
       "      <th>Tournament</th>\n",
       "      <th>Score</th>\n",
       "      <th>PlayedGames</th>\n",
       "      <th>HighestPositionHeld</th>\n",
       "      <th>YearLaunch</th>\n",
       "      <th>Age</th>\n",
       "      <th>BasketDiff</th>\n",
       "      <th>Win_Percent</th>\n",
       "      <th>Podium_Fin</th>\n",
       "    </tr>\n",
       "  </thead>\n",
       "  <tbody>\n",
       "    <tr>\n",
       "      <th>8</th>\n",
       "      <td>Team 9</td>\n",
       "      <td>58</td>\n",
       "      <td>2109</td>\n",
       "      <td>1986</td>\n",
       "      <td>2</td>\n",
       "      <td>1939</td>\n",
       "      <td>82</td>\n",
       "      <td>-0.082578</td>\n",
       "      <td>35.146022</td>\n",
       "      <td>1.724138</td>\n",
       "    </tr>\n",
       "    <tr>\n",
       "      <th>14</th>\n",
       "      <td>Team 15</td>\n",
       "      <td>43</td>\n",
       "      <td>1389</td>\n",
       "      <td>1458</td>\n",
       "      <td>2</td>\n",
       "      <td>1944</td>\n",
       "      <td>77</td>\n",
       "      <td>-0.273663</td>\n",
       "      <td>32.304527</td>\n",
       "      <td>2.325581</td>\n",
       "    </tr>\n",
       "    <tr>\n",
       "      <th>19</th>\n",
       "      <td>Team 20</td>\n",
       "      <td>33</td>\n",
       "      <td>1020</td>\n",
       "      <td>1096</td>\n",
       "      <td>2</td>\n",
       "      <td>1951</td>\n",
       "      <td>70</td>\n",
       "      <td>-0.364051</td>\n",
       "      <td>33.485401</td>\n",
       "      <td>3.030303</td>\n",
       "    </tr>\n",
       "    <tr>\n",
       "      <th>20</th>\n",
       "      <td>Team 21</td>\n",
       "      <td>17</td>\n",
       "      <td>970</td>\n",
       "      <td>646</td>\n",
       "      <td>2</td>\n",
       "      <td>1998</td>\n",
       "      <td>23</td>\n",
       "      <td>0.159443</td>\n",
       "      <td>41.176471</td>\n",
       "      <td>5.882353</td>\n",
       "    </tr>\n",
       "  </tbody>\n",
       "</table>\n",
       "</div>"
      ],
      "text/plain": [
       "       Team  Tournament  Score  PlayedGames  HighestPositionHeld  YearLaunch  \\\n",
       "8    Team 9          58   2109         1986                    2        1939   \n",
       "14  Team 15          43   1389         1458                    2        1944   \n",
       "19  Team 20          33   1020         1096                    2        1951   \n",
       "20  Team 21          17    970          646                    2        1998   \n",
       "\n",
       "    Age  BasketDiff  Win_Percent  Podium_Fin  \n",
       "8    82   -0.082578    35.146022    1.724138  \n",
       "14   77   -0.273663    32.304527    2.325581  \n",
       "19   70   -0.364051    33.485401    3.030303  \n",
       "20   23    0.159443    41.176471    5.882353  "
      ]
     },
     "metadata": {},
     "output_type": "display_data"
    },
    {
     "data": {
      "text/html": [
       "<div>\n",
       "<style scoped>\n",
       "    .dataframe tbody tr th:only-of-type {\n",
       "        vertical-align: middle;\n",
       "    }\n",
       "\n",
       "    .dataframe tbody tr th {\n",
       "        vertical-align: top;\n",
       "    }\n",
       "\n",
       "    .dataframe thead th {\n",
       "        text-align: right;\n",
       "    }\n",
       "</style>\n",
       "<table border=\"1\" class=\"dataframe\">\n",
       "  <thead>\n",
       "    <tr style=\"text-align: right;\">\n",
       "      <th></th>\n",
       "      <th>Team</th>\n",
       "      <th>Tournament</th>\n",
       "      <th>Score</th>\n",
       "      <th>PlayedGames</th>\n",
       "      <th>HighestPositionHeld</th>\n",
       "      <th>YearLaunch</th>\n",
       "      <th>Age</th>\n",
       "      <th>BasketDiff</th>\n",
       "      <th>Win_Percent</th>\n",
       "      <th>Podium_Fin</th>\n",
       "    </tr>\n",
       "  </thead>\n",
       "  <tbody>\n",
       "    <tr>\n",
       "      <th>18</th>\n",
       "      <td>Team 19</td>\n",
       "      <td>27</td>\n",
       "      <td>1148</td>\n",
       "      <td>988</td>\n",
       "      <td>3</td>\n",
       "      <td>1960</td>\n",
       "      <td>61</td>\n",
       "      <td>-0.191296</td>\n",
       "      <td>33.704453</td>\n",
       "      <td>0.0</td>\n",
       "    </tr>\n",
       "  </tbody>\n",
       "</table>\n",
       "</div>"
      ],
      "text/plain": [
       "       Team  Tournament  Score  PlayedGames  HighestPositionHeld  YearLaunch  \\\n",
       "18  Team 19          27   1148          988                    3        1960   \n",
       "\n",
       "    Age  BasketDiff  Win_Percent  Podium_Fin  \n",
       "18   61   -0.191296    33.704453         0.0  "
      ]
     },
     "metadata": {},
     "output_type": "display_data"
    },
    {
     "data": {
      "text/html": [
       "<div>\n",
       "<style scoped>\n",
       "    .dataframe tbody tr th:only-of-type {\n",
       "        vertical-align: middle;\n",
       "    }\n",
       "\n",
       "    .dataframe tbody tr th {\n",
       "        vertical-align: top;\n",
       "    }\n",
       "\n",
       "    .dataframe thead th {\n",
       "        text-align: right;\n",
       "    }\n",
       "</style>\n",
       "<table border=\"1\" class=\"dataframe\">\n",
       "  <thead>\n",
       "    <tr style=\"text-align: right;\">\n",
       "      <th></th>\n",
       "      <th>Team</th>\n",
       "      <th>Tournament</th>\n",
       "      <th>Score</th>\n",
       "      <th>PlayedGames</th>\n",
       "      <th>HighestPositionHeld</th>\n",
       "      <th>YearLaunch</th>\n",
       "      <th>Age</th>\n",
       "      <th>BasketDiff</th>\n",
       "      <th>Win_Percent</th>\n",
       "      <th>Podium_Fin</th>\n",
       "    </tr>\n",
       "  </thead>\n",
       "  <tbody>\n",
       "    <tr>\n",
       "      <th>11</th>\n",
       "      <td>Team 12</td>\n",
       "      <td>51</td>\n",
       "      <td>1789</td>\n",
       "      <td>1698</td>\n",
       "      <td>4</td>\n",
       "      <td>1939</td>\n",
       "      <td>82</td>\n",
       "      <td>-0.203769</td>\n",
       "      <td>34.511190</td>\n",
       "      <td>0.0</td>\n",
       "    </tr>\n",
       "    <tr>\n",
       "      <th>12</th>\n",
       "      <td>Team 13</td>\n",
       "      <td>42</td>\n",
       "      <td>1471</td>\n",
       "      <td>1466</td>\n",
       "      <td>4</td>\n",
       "      <td>1948</td>\n",
       "      <td>73</td>\n",
       "      <td>-0.281719</td>\n",
       "      <td>31.582538</td>\n",
       "      <td>0.0</td>\n",
       "    </tr>\n",
       "    <tr>\n",
       "      <th>16</th>\n",
       "      <td>Team 17</td>\n",
       "      <td>36</td>\n",
       "      <td>1314</td>\n",
       "      <td>1255</td>\n",
       "      <td>4</td>\n",
       "      <td>1949</td>\n",
       "      <td>72</td>\n",
       "      <td>-0.272510</td>\n",
       "      <td>31.075697</td>\n",
       "      <td>0.0</td>\n",
       "    </tr>\n",
       "  </tbody>\n",
       "</table>\n",
       "</div>"
      ],
      "text/plain": [
       "       Team  Tournament  Score  PlayedGames  HighestPositionHeld  YearLaunch  \\\n",
       "11  Team 12          51   1789         1698                    4        1939   \n",
       "12  Team 13          42   1471         1466                    4        1948   \n",
       "16  Team 17          36   1314         1255                    4        1949   \n",
       "\n",
       "    Age  BasketDiff  Win_Percent  Podium_Fin  \n",
       "11   82   -0.203769    34.511190         0.0  \n",
       "12   73   -0.281719    31.582538         0.0  \n",
       "16   72   -0.272510    31.075697         0.0  "
      ]
     },
     "metadata": {},
     "output_type": "display_data"
    },
    {
     "data": {
      "text/html": [
       "<div>\n",
       "<style scoped>\n",
       "    .dataframe tbody tr th:only-of-type {\n",
       "        vertical-align: middle;\n",
       "    }\n",
       "\n",
       "    .dataframe tbody tr th {\n",
       "        vertical-align: top;\n",
       "    }\n",
       "\n",
       "    .dataframe thead th {\n",
       "        text-align: right;\n",
       "    }\n",
       "</style>\n",
       "<table border=\"1\" class=\"dataframe\">\n",
       "  <thead>\n",
       "    <tr style=\"text-align: right;\">\n",
       "      <th></th>\n",
       "      <th>Team</th>\n",
       "      <th>Tournament</th>\n",
       "      <th>Score</th>\n",
       "      <th>PlayedGames</th>\n",
       "      <th>HighestPositionHeld</th>\n",
       "      <th>YearLaunch</th>\n",
       "      <th>Age</th>\n",
       "      <th>BasketDiff</th>\n",
       "      <th>Win_Percent</th>\n",
       "      <th>Podium_Fin</th>\n",
       "    </tr>\n",
       "  </thead>\n",
       "  <tbody>\n",
       "    <tr>\n",
       "      <th>23</th>\n",
       "      <td>Team 24</td>\n",
       "      <td>21</td>\n",
       "      <td>606</td>\n",
       "      <td>678</td>\n",
       "      <td>5</td>\n",
       "      <td>1959</td>\n",
       "      <td>62</td>\n",
       "      <td>-0.40118</td>\n",
       "      <td>29.941003</td>\n",
       "      <td>0.0</td>\n",
       "    </tr>\n",
       "  </tbody>\n",
       "</table>\n",
       "</div>"
      ],
      "text/plain": [
       "       Team  Tournament  Score  PlayedGames  HighestPositionHeld  YearLaunch  \\\n",
       "23  Team 24          21    606          678                    5        1959   \n",
       "\n",
       "    Age  BasketDiff  Win_Percent  Podium_Fin  \n",
       "23   62    -0.40118    29.941003         0.0  "
      ]
     },
     "metadata": {},
     "output_type": "display_data"
    },
    {
     "data": {
      "text/html": [
       "<div>\n",
       "<style scoped>\n",
       "    .dataframe tbody tr th:only-of-type {\n",
       "        vertical-align: middle;\n",
       "    }\n",
       "\n",
       "    .dataframe tbody tr th {\n",
       "        vertical-align: top;\n",
       "    }\n",
       "\n",
       "    .dataframe thead th {\n",
       "        text-align: right;\n",
       "    }\n",
       "</style>\n",
       "<table border=\"1\" class=\"dataframe\">\n",
       "  <thead>\n",
       "    <tr style=\"text-align: right;\">\n",
       "      <th></th>\n",
       "      <th>Team</th>\n",
       "      <th>Tournament</th>\n",
       "      <th>Score</th>\n",
       "      <th>PlayedGames</th>\n",
       "      <th>HighestPositionHeld</th>\n",
       "      <th>YearLaunch</th>\n",
       "      <th>Age</th>\n",
       "      <th>BasketDiff</th>\n",
       "      <th>Win_Percent</th>\n",
       "      <th>Podium_Fin</th>\n",
       "    </tr>\n",
       "  </thead>\n",
       "  <tbody>\n",
       "    <tr>\n",
       "      <th>21</th>\n",
       "      <td>Team 22</td>\n",
       "      <td>23</td>\n",
       "      <td>667</td>\n",
       "      <td>742</td>\n",
       "      <td>6</td>\n",
       "      <td>1941</td>\n",
       "      <td>80</td>\n",
       "      <td>-0.455526</td>\n",
       "      <td>29.380054</td>\n",
       "      <td>0.0</td>\n",
       "    </tr>\n",
       "  </tbody>\n",
       "</table>\n",
       "</div>"
      ],
      "text/plain": [
       "       Team  Tournament  Score  PlayedGames  HighestPositionHeld  YearLaunch  \\\n",
       "21  Team 22          23    667          742                    6        1941   \n",
       "\n",
       "    Age  BasketDiff  Win_Percent  Podium_Fin  \n",
       "21   80   -0.455526    29.380054         0.0  "
      ]
     },
     "metadata": {},
     "output_type": "display_data"
    },
    {
     "data": {
      "text/html": [
       "<div>\n",
       "<style scoped>\n",
       "    .dataframe tbody tr th:only-of-type {\n",
       "        vertical-align: middle;\n",
       "    }\n",
       "\n",
       "    .dataframe tbody tr th {\n",
       "        vertical-align: top;\n",
       "    }\n",
       "\n",
       "    .dataframe thead th {\n",
       "        text-align: right;\n",
       "    }\n",
       "</style>\n",
       "<table border=\"1\" class=\"dataframe\">\n",
       "  <thead>\n",
       "    <tr style=\"text-align: right;\">\n",
       "      <th></th>\n",
       "      <th>Team</th>\n",
       "      <th>Tournament</th>\n",
       "      <th>Score</th>\n",
       "      <th>PlayedGames</th>\n",
       "      <th>HighestPositionHeld</th>\n",
       "      <th>YearLaunch</th>\n",
       "      <th>Age</th>\n",
       "      <th>BasketDiff</th>\n",
       "      <th>Win_Percent</th>\n",
       "      <th>Podium_Fin</th>\n",
       "    </tr>\n",
       "  </thead>\n",
       "  <tbody>\n",
       "    <tr>\n",
       "      <th>27</th>\n",
       "      <td>Team 28</td>\n",
       "      <td>18</td>\n",
       "      <td>445</td>\n",
       "      <td>586</td>\n",
       "      <td>11</td>\n",
       "      <td>1940</td>\n",
       "      <td>81</td>\n",
       "      <td>-0.656997</td>\n",
       "      <td>24.744027</td>\n",
       "      <td>0.0</td>\n",
       "    </tr>\n",
       "  </tbody>\n",
       "</table>\n",
       "</div>"
      ],
      "text/plain": [
       "       Team  Tournament  Score  PlayedGames  HighestPositionHeld  YearLaunch  \\\n",
       "27  Team 28          18    445          586                   11        1940   \n",
       "\n",
       "    Age  BasketDiff  Win_Percent  Podium_Fin  \n",
       "27   81   -0.656997    24.744027         0.0  "
      ]
     },
     "metadata": {},
     "output_type": "display_data"
    },
    {
     "data": {
      "text/html": [
       "<div>\n",
       "<style scoped>\n",
       "    .dataframe tbody tr th:only-of-type {\n",
       "        vertical-align: middle;\n",
       "    }\n",
       "\n",
       "    .dataframe tbody tr th {\n",
       "        vertical-align: top;\n",
       "    }\n",
       "\n",
       "    .dataframe thead th {\n",
       "        text-align: right;\n",
       "    }\n",
       "</style>\n",
       "<table border=\"1\" class=\"dataframe\">\n",
       "  <thead>\n",
       "    <tr style=\"text-align: right;\">\n",
       "      <th></th>\n",
       "    </tr>\n",
       "  </thead>\n",
       "  <tbody>\n",
       "  </tbody>\n",
       "</table>\n",
       "</div>"
      ],
      "text/plain": [
       "Empty DataFrame\n",
       "Columns: []\n",
       "Index: []"
      ]
     },
     "execution_count": 57,
     "metadata": {},
     "output_type": "execute_result"
    }
   ],
   "source": [
    "df2.groupby(by='HighestPositionHeld').apply(display)"
   ]
  },
  {
   "cell_type": "markdown",
   "id": "76a1fadf",
   "metadata": {},
   "source": [
    "Let us look at the date once again for our candidate teams"
   ]
  },
  {
   "cell_type": "code",
   "execution_count": 58,
   "id": "78043373",
   "metadata": {},
   "outputs": [
    {
     "data": {
      "text/html": [
       "<div>\n",
       "<style scoped>\n",
       "    .dataframe tbody tr th:only-of-type {\n",
       "        vertical-align: middle;\n",
       "    }\n",
       "\n",
       "    .dataframe tbody tr th {\n",
       "        vertical-align: top;\n",
       "    }\n",
       "\n",
       "    .dataframe thead th {\n",
       "        text-align: right;\n",
       "    }\n",
       "</style>\n",
       "<table border=\"1\" class=\"dataframe\">\n",
       "  <thead>\n",
       "    <tr style=\"text-align: right;\">\n",
       "      <th></th>\n",
       "      <th>Team</th>\n",
       "      <th>Tournament</th>\n",
       "      <th>Score</th>\n",
       "      <th>PlayedGames</th>\n",
       "      <th>HighestPositionHeld</th>\n",
       "      <th>YearLaunch</th>\n",
       "      <th>Age</th>\n",
       "      <th>BasketDiff</th>\n",
       "      <th>Win_Percent</th>\n",
       "      <th>Podium_Fin</th>\n",
       "    </tr>\n",
       "  </thead>\n",
       "  <tbody>\n",
       "    <tr>\n",
       "      <th>8</th>\n",
       "      <td>Team 9</td>\n",
       "      <td>58</td>\n",
       "      <td>2109</td>\n",
       "      <td>1986</td>\n",
       "      <td>2</td>\n",
       "      <td>1939</td>\n",
       "      <td>82</td>\n",
       "      <td>-0.082578</td>\n",
       "      <td>35.146022</td>\n",
       "      <td>1.724138</td>\n",
       "    </tr>\n",
       "    <tr>\n",
       "      <th>10</th>\n",
       "      <td>Team 11</td>\n",
       "      <td>45</td>\n",
       "      <td>1814</td>\n",
       "      <td>1530</td>\n",
       "      <td>1</td>\n",
       "      <td>1941</td>\n",
       "      <td>80</td>\n",
       "      <td>-0.088889</td>\n",
       "      <td>36.797386</td>\n",
       "      <td>13.333333</td>\n",
       "    </tr>\n",
       "    <tr>\n",
       "      <th>11</th>\n",
       "      <td>Team 12</td>\n",
       "      <td>51</td>\n",
       "      <td>1789</td>\n",
       "      <td>1698</td>\n",
       "      <td>4</td>\n",
       "      <td>1939</td>\n",
       "      <td>82</td>\n",
       "      <td>-0.203769</td>\n",
       "      <td>34.511190</td>\n",
       "      <td>0.000000</td>\n",
       "    </tr>\n",
       "    <tr>\n",
       "      <th>12</th>\n",
       "      <td>Team 13</td>\n",
       "      <td>42</td>\n",
       "      <td>1471</td>\n",
       "      <td>1466</td>\n",
       "      <td>4</td>\n",
       "      <td>1948</td>\n",
       "      <td>73</td>\n",
       "      <td>-0.281719</td>\n",
       "      <td>31.582538</td>\n",
       "      <td>0.000000</td>\n",
       "    </tr>\n",
       "    <tr>\n",
       "      <th>14</th>\n",
       "      <td>Team 15</td>\n",
       "      <td>43</td>\n",
       "      <td>1389</td>\n",
       "      <td>1458</td>\n",
       "      <td>2</td>\n",
       "      <td>1944</td>\n",
       "      <td>77</td>\n",
       "      <td>-0.273663</td>\n",
       "      <td>32.304527</td>\n",
       "      <td>2.325581</td>\n",
       "    </tr>\n",
       "    <tr>\n",
       "      <th>18</th>\n",
       "      <td>Team 19</td>\n",
       "      <td>27</td>\n",
       "      <td>1148</td>\n",
       "      <td>988</td>\n",
       "      <td>3</td>\n",
       "      <td>1960</td>\n",
       "      <td>61</td>\n",
       "      <td>-0.191296</td>\n",
       "      <td>33.704453</td>\n",
       "      <td>0.000000</td>\n",
       "    </tr>\n",
       "    <tr>\n",
       "      <th>19</th>\n",
       "      <td>Team 20</td>\n",
       "      <td>33</td>\n",
       "      <td>1020</td>\n",
       "      <td>1096</td>\n",
       "      <td>2</td>\n",
       "      <td>1951</td>\n",
       "      <td>70</td>\n",
       "      <td>-0.364051</td>\n",
       "      <td>33.485401</td>\n",
       "      <td>3.030303</td>\n",
       "    </tr>\n",
       "    <tr>\n",
       "      <th>20</th>\n",
       "      <td>Team 21</td>\n",
       "      <td>17</td>\n",
       "      <td>970</td>\n",
       "      <td>646</td>\n",
       "      <td>2</td>\n",
       "      <td>1998</td>\n",
       "      <td>23</td>\n",
       "      <td>0.159443</td>\n",
       "      <td>41.176471</td>\n",
       "      <td>5.882353</td>\n",
       "    </tr>\n",
       "  </tbody>\n",
       "</table>\n",
       "</div>"
      ],
      "text/plain": [
       "       Team  Tournament  Score  PlayedGames  HighestPositionHeld  YearLaunch  \\\n",
       "8    Team 9          58   2109         1986                    2        1939   \n",
       "10  Team 11          45   1814         1530                    1        1941   \n",
       "11  Team 12          51   1789         1698                    4        1939   \n",
       "12  Team 13          42   1471         1466                    4        1948   \n",
       "14  Team 15          43   1389         1458                    2        1944   \n",
       "18  Team 19          27   1148          988                    3        1960   \n",
       "19  Team 20          33   1020         1096                    2        1951   \n",
       "20  Team 21          17    970          646                    2        1998   \n",
       "\n",
       "    Age  BasketDiff  Win_Percent  Podium_Fin  \n",
       "8    82   -0.082578    35.146022    1.724138  \n",
       "10   80   -0.088889    36.797386   13.333333  \n",
       "11   82   -0.203769    34.511190    0.000000  \n",
       "12   73   -0.281719    31.582538    0.000000  \n",
       "14   77   -0.273663    32.304527    2.325581  \n",
       "18   61   -0.191296    33.704453    0.000000  \n",
       "19   70   -0.364051    33.485401    3.030303  \n",
       "20   23    0.159443    41.176471    5.882353  "
      ]
     },
     "execution_count": 58,
     "metadata": {},
     "output_type": "execute_result"
    }
   ],
   "source": [
    "df2_temp=df2[df2['Team'].isin(candidates)]\n",
    "df2_temp"
   ]
  },
  {
   "cell_type": "markdown",
   "id": "be1a6e6b",
   "metadata": {},
   "source": [
    "We have 7 shortlisted candidates. To trim down this list further to 5 recommendations by dropping the teams with lowest BasketDiff & Win_Percent, which would be Team 10 and Team 20."
   ]
  },
  {
   "cell_type": "code",
   "execution_count": 59,
   "id": "8f0bb238",
   "metadata": {},
   "outputs": [
    {
     "data": {
      "text/plain": [
       "{'Team 11',\n",
       " 'Team 12',\n",
       " 'Team 13',\n",
       " 'Team 15',\n",
       " 'Team 19',\n",
       " 'Team 21',\n",
       " 'Team 4',\n",
       " 'Team 9'}"
      ]
     },
     "execution_count": 59,
     "metadata": {},
     "output_type": "execute_result"
    }
   ],
   "source": [
    "candidates.difference_update({'Team 10','Team 20'})\n",
    "candidates"
   ]
  },
  {
   "cell_type": "markdown",
   "id": "7adae924",
   "metadata": {},
   "source": [
    "Our recommendation to Company X is to invest in any team out of the below:\n",
    "- Team 4\n",
    "- Team 6\n",
    "- Team 9\n",
    "- Team 11\n",
    "- Team 21    "
   ]
  },
  {
   "cell_type": "code",
   "execution_count": null,
   "id": "7d608d9f",
   "metadata": {},
   "outputs": [],
   "source": []
  },
  {
   "cell_type": "code",
   "execution_count": null,
   "id": "25e94947",
   "metadata": {},
   "outputs": [],
   "source": []
  },
  {
   "cell_type": "code",
   "execution_count": null,
   "id": "f8271fe0",
   "metadata": {},
   "outputs": [],
   "source": []
  },
  {
   "cell_type": "code",
   "execution_count": null,
   "id": "c51a23dc",
   "metadata": {},
   "outputs": [],
   "source": []
  },
  {
   "cell_type": "code",
   "execution_count": null,
   "id": "dbf2c4b9",
   "metadata": {},
   "outputs": [],
   "source": []
  },
  {
   "cell_type": "code",
   "execution_count": null,
   "id": "4f51cf44",
   "metadata": {},
   "outputs": [],
   "source": []
  },
  {
   "cell_type": "code",
   "execution_count": null,
   "id": "76150a43",
   "metadata": {},
   "outputs": [],
   "source": []
  },
  {
   "cell_type": "code",
   "execution_count": null,
   "id": "e7661aaf",
   "metadata": {},
   "outputs": [],
   "source": []
  },
  {
   "cell_type": "code",
   "execution_count": null,
   "id": "ed22bcf4",
   "metadata": {},
   "outputs": [],
   "source": []
  },
  {
   "cell_type": "code",
   "execution_count": null,
   "id": "575cf8b4",
   "metadata": {},
   "outputs": [],
   "source": []
  },
  {
   "cell_type": "code",
   "execution_count": null,
   "id": "aec0f0c6",
   "metadata": {},
   "outputs": [],
   "source": []
  },
  {
   "cell_type": "code",
   "execution_count": null,
   "id": "fdfa3312",
   "metadata": {},
   "outputs": [],
   "source": []
  },
  {
   "cell_type": "code",
   "execution_count": null,
   "id": "6fb22843",
   "metadata": {},
   "outputs": [],
   "source": []
  },
  {
   "cell_type": "markdown",
   "id": "f123989c",
   "metadata": {},
   "source": [
    "### Observations on the datapoints collected to perform a better data analysis"
   ]
  },
  {
   "cell_type": "markdown",
   "id": "9371c0f9",
   "metadata": {},
   "source": [
    "**Quality**:\n",
    "- We had to discard 216 entries due to unavailable data, resulting in a reduced usable data set. \n",
    "- Pre-processed data will help save time for analysis (such as capturing Event location, Year, and Funds in separate columns and in the right format\n",
    "- There are 6 event entries still missing which cannot be filled because the year or type of events are not deductible\n",
    "- Hence, complete data sets would be beneficial to perform statistical analyses\n",
    "- Trend data would be useful\n",
    "- Head to Head"
   ]
  },
  {
   "cell_type": "markdown",
   "id": "3f0352f2",
   "metadata": {},
   "source": [
    "**Quantity**:\n",
    "- The overall usable data is very low. Hypothesis testing is effective with higher sample sizes. When we apply filtered cuts on the data, the sample size tends to go close to the 30 cut-off, thereby affecting our normality assumptions. Hence, we shoud try to collect more data amongst each cut that we want to analyse that is representative of the population\n",
    "- In fact, if we want to test our hypothesis on individual Winner classes, it won't be possible since a few have < 30 samples"
   ]
  },
  {
   "cell_type": "markdown",
   "id": "e94fb231",
   "metadata": {},
   "source": [
    "**Variety**:\n",
    "- Data from a variety of sources such as blog aritcles, press releases, etc could be tracked to update our database\n",
    "- Specifically data on P&L statements, Social Media activity/posts from the company, Press Releases and its contents could provide added information on the company's health and funding"
   ]
  },
  {
   "cell_type": "markdown",
   "id": "f362f1d1",
   "metadata": {},
   "source": [
    "**Velocity**:\n",
    "- The data could be updated every 3 months to ensure the 'OperationsState' and 'Funding' attributes are mapped accurately\n",
    "- Capture it every tournament level"
   ]
  },
  {
   "cell_type": "markdown",
   "id": "c0e38df4",
   "metadata": {},
   "source": [
    "**Veracity**: \n",
    "- The funding values are skewed and abnormal to another 60 outliers which could not be used for analysis. Hence, we should double-check the funding values to ensure the data is truthful and without error"
   ]
  },
  {
   "cell_type": "markdown",
   "id": "2e459c64",
   "metadata": {},
   "source": [
    "**Value:**\n",
    "- If we are able to implement the above successfully, we can then add value by being able to predict if a company was about to Close down. \n",
    "- Basis their P&L statements and press releases we could also predict their performance in upcoming events "
   ]
  },
  {
   "cell_type": "markdown",
   "id": "fa94281d",
   "metadata": {},
   "source": [
    "## Part 3: Project Based"
   ]
  },
  {
   "cell_type": "markdown",
   "id": "cf7d968a",
   "metadata": {},
   "source": [
    "<b>Domain:</b> Startup Ecosystem <br>\n",
    "\n",
    "<b>Context:</b> Company X is a EU online publisher focusing on the startups industry. The company specifically reports on the business related to\n",
    "technology news, analysis of emerging trends and profiling of new tech businesses and products. Their event i.e. Startup Battlefield is the\n",
    "world’s pre-eminent startup competition. Startup Battlefield features 15-30 top early stage startups pitching top judges in front of a vast live\n",
    "audience, present in person and online.\n",
    "\n",
    "<b>Data Description:</b> CompanyX_EU.csv - Each row in the dataset is a Start-up company and the columns describe the company.\n",
    "\n",
    "**Attribute Information:** \n",
    "1. **Startup:** Name of the company\n",
    "2. **Product:** Actual product\n",
    "3. **Funding:** Funds raised by the company in USD\n",
    "4. **Event:** The event the company participated in\n",
    "5. **Result:** Described by Contestant, Finalist, Audience choice, Winner or Runner up\n",
    "6. **OperatingState:** Current status of the company, Operating ,Closed, Acquired or IPO\n",
    "\n",
    "**Project Objective:** Analyse the data of the various companies from the given dataset and perform the tasks that are specified in the\n",
    "below steps. Draw insights from the various attributes that are present in the dataset, plot distributions, state hypotheses and draw\n",
    "conclusions from the dataset."
   ]
  },
  {
   "cell_type": "markdown",
   "id": "407196b8",
   "metadata": {},
   "source": [
    "### Data Warehouse"
   ]
  },
  {
   "cell_type": "code",
   "execution_count": 109,
   "id": "1d9b3aaa",
   "metadata": {},
   "outputs": [],
   "source": [
    "# read the csv file and check the top entries\n",
    "startup = pd.read_csv(\"DS - Part3 - CompanyX_EU.csv\")"
   ]
  },
  {
   "cell_type": "markdown",
   "id": "471b7566",
   "metadata": {},
   "source": [
    "### Data Exploration"
   ]
  },
  {
   "cell_type": "code",
   "execution_count": 110,
   "id": "d68b3a9e",
   "metadata": {},
   "outputs": [
    {
     "data": {
      "text/html": [
       "<div>\n",
       "<style scoped>\n",
       "    .dataframe tbody tr th:only-of-type {\n",
       "        vertical-align: middle;\n",
       "    }\n",
       "\n",
       "    .dataframe tbody tr th {\n",
       "        vertical-align: top;\n",
       "    }\n",
       "\n",
       "    .dataframe thead th {\n",
       "        text-align: right;\n",
       "    }\n",
       "</style>\n",
       "<table border=\"1\" class=\"dataframe\">\n",
       "  <thead>\n",
       "    <tr style=\"text-align: right;\">\n",
       "      <th></th>\n",
       "      <th>Startup</th>\n",
       "      <th>Product</th>\n",
       "      <th>Funding</th>\n",
       "      <th>Event</th>\n",
       "      <th>Result</th>\n",
       "      <th>OperatingState</th>\n",
       "    </tr>\n",
       "  </thead>\n",
       "  <tbody>\n",
       "    <tr>\n",
       "      <th>0</th>\n",
       "      <td>2600Hz</td>\n",
       "      <td>2600hz.com</td>\n",
       "      <td>NaN</td>\n",
       "      <td>Disrupt SF 2013</td>\n",
       "      <td>Contestant</td>\n",
       "      <td>Operating</td>\n",
       "    </tr>\n",
       "    <tr>\n",
       "      <th>1</th>\n",
       "      <td>3DLT</td>\n",
       "      <td>3dlt.com</td>\n",
       "      <td>$630K</td>\n",
       "      <td>Disrupt NYC 2013</td>\n",
       "      <td>Contestant</td>\n",
       "      <td>Closed</td>\n",
       "    </tr>\n",
       "    <tr>\n",
       "      <th>2</th>\n",
       "      <td>3DPrinterOS</td>\n",
       "      <td>3dprinteros.com</td>\n",
       "      <td>NaN</td>\n",
       "      <td>Disrupt SF 2016</td>\n",
       "      <td>Contestant</td>\n",
       "      <td>Operating</td>\n",
       "    </tr>\n",
       "    <tr>\n",
       "      <th>3</th>\n",
       "      <td>3Dprintler</td>\n",
       "      <td>3dprintler.com</td>\n",
       "      <td>$1M</td>\n",
       "      <td>Disrupt NY 2016</td>\n",
       "      <td>Audience choice</td>\n",
       "      <td>Operating</td>\n",
       "    </tr>\n",
       "    <tr>\n",
       "      <th>4</th>\n",
       "      <td>42 Technologies</td>\n",
       "      <td>42technologies.com</td>\n",
       "      <td>NaN</td>\n",
       "      <td>Disrupt NYC 2013</td>\n",
       "      <td>Contestant</td>\n",
       "      <td>Operating</td>\n",
       "    </tr>\n",
       "  </tbody>\n",
       "</table>\n",
       "</div>"
      ],
      "text/plain": [
       "           Startup             Product Funding             Event  \\\n",
       "0           2600Hz          2600hz.com     NaN   Disrupt SF 2013   \n",
       "1             3DLT            3dlt.com   $630K  Disrupt NYC 2013   \n",
       "2      3DPrinterOS     3dprinteros.com     NaN   Disrupt SF 2016   \n",
       "3       3Dprintler      3dprintler.com     $1M   Disrupt NY 2016   \n",
       "4  42 Technologies  42technologies.com     NaN  Disrupt NYC 2013   \n",
       "\n",
       "            Result OperatingState  \n",
       "0       Contestant      Operating  \n",
       "1       Contestant         Closed  \n",
       "2       Contestant      Operating  \n",
       "3  Audience choice      Operating  \n",
       "4       Contestant      Operating  "
      ]
     },
     "execution_count": 110,
     "metadata": {},
     "output_type": "execute_result"
    }
   ],
   "source": [
    "startup.head(5)"
   ]
  },
  {
   "cell_type": "code",
   "execution_count": 111,
   "id": "f15056d4",
   "metadata": {},
   "outputs": [
    {
     "data": {
      "text/plain": [
       "(662, 6)"
      ]
     },
     "execution_count": 111,
     "metadata": {},
     "output_type": "execute_result"
    }
   ],
   "source": [
    "# check the number of entries in dataset\n",
    "startup.shape"
   ]
  },
  {
   "cell_type": "code",
   "execution_count": 112,
   "id": "72e16c62",
   "metadata": {},
   "outputs": [
    {
     "data": {
      "text/plain": [
       "Startup           object\n",
       "Product           object\n",
       "Funding           object\n",
       "Event             object\n",
       "Result            object\n",
       "OperatingState    object\n",
       "dtype: object"
      ]
     },
     "execution_count": 112,
     "metadata": {},
     "output_type": "execute_result"
    }
   ],
   "source": [
    "# Data type of each attribute\n",
    "startup.dtypes"
   ]
  },
  {
   "cell_type": "markdown",
   "id": "06d02fff",
   "metadata": {},
   "source": [
    "All the attributs are of object datatypes. We will need to convert the Funding attribute to numeric value"
   ]
  },
  {
   "cell_type": "code",
   "execution_count": 113,
   "id": "376fb007",
   "metadata": {},
   "outputs": [
    {
     "data": {
      "text/plain": [
       "Startup             0\n",
       "Product             6\n",
       "Funding           214\n",
       "Event               0\n",
       "Result              0\n",
       "OperatingState      0\n",
       "dtype: int64"
      ]
     },
     "execution_count": 113,
     "metadata": {},
     "output_type": "execute_result"
    }
   ],
   "source": [
    "# Checking for missing values\n",
    "startup.isna().sum()"
   ]
  },
  {
   "cell_type": "markdown",
   "id": "5cc7bc9d",
   "metadata": {},
   "source": [
    "There are 6 entries missing under Product attribute and 214 entries missing under Funding"
   ]
  },
  {
   "cell_type": "markdown",
   "id": "c9d9c2e9",
   "metadata": {},
   "source": [
    "### Data Preprocessing & Visualization"
   ]
  },
  {
   "cell_type": "code",
   "execution_count": 114,
   "id": "b310da4c",
   "metadata": {},
   "outputs": [
    {
     "data": {
      "text/plain": [
       "(446, 6)"
      ]
     },
     "execution_count": 114,
     "metadata": {},
     "output_type": "execute_result"
    }
   ],
   "source": [
    "# Dropping the rows which have no data\n",
    "startup1 = startup.dropna().copy(deep=True)\n",
    "startup1.shape"
   ]
  },
  {
   "cell_type": "markdown",
   "id": "23fc1cd3",
   "metadata": {},
   "source": [
    "The entries in the Funding attribute are of 3 types - a) in \\\\$M b) in \\\\$K c) in \\\\$B. We need to convert these to a standard scale in \\\\$M with only numeric value stored in the column"
   ]
  },
  {
   "cell_type": "code",
   "execution_count": 115,
   "id": "388785df",
   "metadata": {},
   "outputs": [],
   "source": [
    "startup1['Funds_in_million'] = startup1['Funding'].apply(lambda x: float(x[1:-1])/1000 if x[-1] == 'K' else (float(x[1:-1])*1000 if x[-1] == 'B' else float(x[1:-1])))"
   ]
  },
  {
   "cell_type": "code",
   "execution_count": 116,
   "id": "6be191e8",
   "metadata": {},
   "outputs": [
    {
     "data": {
      "text/html": [
       "<div>\n",
       "<style scoped>\n",
       "    .dataframe tbody tr th:only-of-type {\n",
       "        vertical-align: middle;\n",
       "    }\n",
       "\n",
       "    .dataframe tbody tr th {\n",
       "        vertical-align: top;\n",
       "    }\n",
       "\n",
       "    .dataframe thead th {\n",
       "        text-align: right;\n",
       "    }\n",
       "</style>\n",
       "<table border=\"1\" class=\"dataframe\">\n",
       "  <thead>\n",
       "    <tr style=\"text-align: right;\">\n",
       "      <th></th>\n",
       "      <th>Startup</th>\n",
       "      <th>Product</th>\n",
       "      <th>Funding</th>\n",
       "      <th>Event</th>\n",
       "      <th>Result</th>\n",
       "      <th>OperatingState</th>\n",
       "      <th>Funds_in_million</th>\n",
       "    </tr>\n",
       "  </thead>\n",
       "  <tbody>\n",
       "    <tr>\n",
       "      <th>1</th>\n",
       "      <td>3DLT</td>\n",
       "      <td>3dlt.com</td>\n",
       "      <td>$630K</td>\n",
       "      <td>Disrupt NYC 2013</td>\n",
       "      <td>Contestant</td>\n",
       "      <td>Closed</td>\n",
       "      <td>0.63</td>\n",
       "    </tr>\n",
       "    <tr>\n",
       "      <th>3</th>\n",
       "      <td>3Dprintler</td>\n",
       "      <td>3dprintler.com</td>\n",
       "      <td>$1M</td>\n",
       "      <td>Disrupt NY 2016</td>\n",
       "      <td>Audience choice</td>\n",
       "      <td>Operating</td>\n",
       "      <td>1.00</td>\n",
       "    </tr>\n",
       "    <tr>\n",
       "      <th>5</th>\n",
       "      <td>5to1</td>\n",
       "      <td>5to1.com</td>\n",
       "      <td>$19.3M</td>\n",
       "      <td>TC50 2009</td>\n",
       "      <td>Contestant</td>\n",
       "      <td>Acquired</td>\n",
       "      <td>19.30</td>\n",
       "    </tr>\n",
       "    <tr>\n",
       "      <th>6</th>\n",
       "      <td>8 Securities</td>\n",
       "      <td>8securities.com</td>\n",
       "      <td>$29M</td>\n",
       "      <td>Disrupt Beijing 2011</td>\n",
       "      <td>Finalist</td>\n",
       "      <td>Operating</td>\n",
       "      <td>29.00</td>\n",
       "    </tr>\n",
       "    <tr>\n",
       "      <th>10</th>\n",
       "      <td>AdhereTech</td>\n",
       "      <td>adheretech.com</td>\n",
       "      <td>$1.8M</td>\n",
       "      <td>Hardware Battlefield 2014</td>\n",
       "      <td>Contestant</td>\n",
       "      <td>Operating</td>\n",
       "      <td>1.80</td>\n",
       "    </tr>\n",
       "  </tbody>\n",
       "</table>\n",
       "</div>"
      ],
      "text/plain": [
       "         Startup          Product Funding                      Event  \\\n",
       "1           3DLT         3dlt.com   $630K           Disrupt NYC 2013   \n",
       "3     3Dprintler   3dprintler.com     $1M            Disrupt NY 2016   \n",
       "5           5to1         5to1.com  $19.3M                  TC50 2009   \n",
       "6   8 Securities  8securities.com    $29M       Disrupt Beijing 2011   \n",
       "10    AdhereTech   adheretech.com   $1.8M  Hardware Battlefield 2014   \n",
       "\n",
       "             Result OperatingState  Funds_in_million  \n",
       "1        Contestant         Closed              0.63  \n",
       "3   Audience choice      Operating              1.00  \n",
       "5        Contestant       Acquired             19.30  \n",
       "6          Finalist      Operating             29.00  \n",
       "10       Contestant      Operating              1.80  "
      ]
     },
     "execution_count": 116,
     "metadata": {},
     "output_type": "execute_result"
    }
   ],
   "source": [
    "startup1.head(5)"
   ]
  },
  {
   "cell_type": "code",
   "execution_count": 117,
   "id": "a987c826",
   "metadata": {},
   "outputs": [
    {
     "data": {
      "image/png": "[encoded data removed]",
      "text/plain": [
       "<Figure size 432x288 with 1 Axes>"
      ]
     },
     "metadata": {
      "needs_background": "light"
     },
     "output_type": "display_data"
    }
   ],
   "source": [
    "# Boxplot for Funds in Mn\n",
    "#sns.set_theme(style =\"whitegrid\")\n",
    "#plt.figure(figsize=(12,6))\n",
    "#sns.boxplot(x=startup1['Funds_in_million'],palette=\"Oranges\")\n",
    "plot = plt.boxplot(startup1.Funds_in_million)\n",
    "plt.title('Boxplot of the funds')\n",
    "plt.ylabel(\"Funds raised (in Million)\")\n",
    "\n",
    "plt.show()"
   ]
  },
  {
   "cell_type": "markdown",
   "id": "5a6cf39c",
   "metadata": {},
   "source": [
    "The Lower Fence here is \\\\$0.005M. We can also obtain it through the below:"
   ]
  },
  {
   "cell_type": "code",
   "execution_count": 118,
   "id": "2d552352",
   "metadata": {},
   "outputs": [
    {
     "data": {
      "text/plain": [
       "0.005"
      ]
     },
     "execution_count": 118,
     "metadata": {},
     "output_type": "execute_result"
    }
   ],
   "source": [
    "lower_fence = plot['caps'][0].get_data()[1][1]   # we can use the values from the box plot itself to get the lower fence\n",
    "lower_fence"
   ]
  },
  {
   "cell_type": "code",
   "execution_count": 119,
   "id": "29bb9471",
   "metadata": {},
   "outputs": [
    {
     "data": {
      "text/plain": [
       "22.0"
      ]
     },
     "execution_count": 119,
     "metadata": {},
     "output_type": "execute_result"
    }
   ],
   "source": [
    "upper_fence = plot['caps'][1].get_data()[1][1]   # we can use the values from the box plot itself to get the upper fence\n",
    "upper_fence"
   ]
  },
  {
   "cell_type": "code",
   "execution_count": 120,
   "id": "78f0e069",
   "metadata": {},
   "outputs": [
    {
     "name": "stdout",
     "output_type": "stream",
     "text": [
      "Number of outliers = 60\n"
     ]
    }
   ],
   "source": [
    "# Finding the number of outliers beyond the upper fence\n",
    "print(f'Number of outliers = {len(startup1[startup1.Funds_in_million > upper_fence])}')"
   ]
  },
  {
   "cell_type": "code",
   "execution_count": 121,
   "id": "6e9f0849",
   "metadata": {},
   "outputs": [],
   "source": [
    "# Dropping the entries where Funds_in_million is higher than upper_fence\n",
    "startup1.drop(startup1[startup1['Funds_in_million']>upper_fence].index, inplace=True)"
   ]
  },
  {
   "cell_type": "code",
   "execution_count": 122,
   "id": "ea04825a",
   "metadata": {},
   "outputs": [
    {
     "data": {
      "image/png": "[encoded data removed]",
      "text/plain": [
       "<Figure size 432x288 with 1 Axes>"
      ]
     },
     "metadata": {
      "needs_background": "light"
     },
     "output_type": "display_data"
    }
   ],
   "source": [
    "plot = plt.boxplot(startup1['Funds_in_million'])\n",
    "plt.title('Boxplot of funds without the original outliers')\n",
    "plt.ylabel(\"Funds raised (in Million)\")\n",
    "plt.show()"
   ]
  },
  {
   "cell_type": "code",
   "execution_count": 123,
   "id": "e386289b",
   "metadata": {},
   "outputs": [
    {
     "data": {
      "text/plain": [
       "Operating    275\n",
       "Closed        56\n",
       "Acquired      55\n",
       "Name: OperatingState, dtype: int64"
      ]
     },
     "execution_count": 123,
     "metadata": {},
     "output_type": "execute_result"
    }
   ],
   "source": [
    "# Checking the frequency of OperatingState features\n",
    "startup1['OperatingState'].value_counts()"
   ]
  },
  {
   "cell_type": "code",
   "execution_count": 124,
   "id": "71916ce9",
   "metadata": {},
   "outputs": [
    {
     "name": "stderr",
     "output_type": "stream",
     "text": [
      "C:\\Program Files\\Anaconda3\\lib\\site-packages\\seaborn\\distributions.py:2557: FutureWarning: `distplot` is a deprecated function and will be removed in a future version. Please adapt your code to use either `displot` (a figure-level function with similar flexibility) or `histplot` (an axes-level function for histograms).\n",
      "  warnings.warn(msg, FutureWarning)\n"
     ]
    },
    {
     "data": {
      "text/plain": [
       "Text(0, 0.5, 'Frequency')"
      ]
     },
     "execution_count": 124,
     "metadata": {},
     "output_type": "execute_result"
    },
    {
     "data": {
      "image/png": "[encoded data removed]",
      "text/plain": [
       "<Figure size 432x288 with 1 Axes>"
      ]
     },
     "metadata": {
      "needs_background": "light"
     },
     "output_type": "display_data"
    }
   ],
   "source": [
    "# Plotting a distribution of Funds_in_million\n",
    "sns.distplot(startup1['Funds_in_million'],bins=30,kde=True)\n",
    "plt.title('Distribution of Funds_in_milion')\n",
    "plt.xlabel('Funds_in_million')\n",
    "plt.ylabel('Frequency')"
   ]
  },
  {
   "cell_type": "markdown",
   "id": "1ebc55ad",
   "metadata": {},
   "source": [
    "### Statistical Analysis"
   ]
  },
  {
   "cell_type": "code",
   "execution_count": 125,
   "id": "f8f6dd31",
   "metadata": {},
   "outputs": [
    {
     "data": {
      "text/plain": [
       "count    386.00000\n",
       "mean       3.72514\n",
       "std        4.73236\n",
       "min        0.00500\n",
       "25%        0.60000\n",
       "50%        1.70000\n",
       "75%        5.00000\n",
       "max       22.00000\n",
       "Name: Funds_in_million, dtype: float64"
      ]
     },
     "execution_count": 125,
     "metadata": {},
     "output_type": "execute_result"
    }
   ],
   "source": [
    "startup1['Funds_in_million'].describe()"
   ]
  },
  {
   "cell_type": "markdown",
   "id": "725bc153",
   "metadata": {},
   "source": [
    "Although the range of values for Funds_in_million are from \\\\$0.005Mn to \\\\$22.0Mn, 75% of the startups have funding < \\\\$5.0Mn. The data remains skewed despite removing outliers"
   ]
  },
  {
   "cell_type": "code",
   "execution_count": 126,
   "id": "88b60b2d",
   "metadata": {},
   "outputs": [
    {
     "name": "stderr",
     "output_type": "stream",
     "text": [
      "C:\\Program Files\\Anaconda3\\lib\\site-packages\\seaborn\\distributions.py:2557: FutureWarning: `distplot` is a deprecated function and will be removed in a future version. Please adapt your code to use either `displot` (a figure-level function with similar flexibility) or `histplot` (an axes-level function for histograms).\n",
      "  warnings.warn(msg, FutureWarning)\n",
      "C:\\Program Files\\Anaconda3\\lib\\site-packages\\seaborn\\distributions.py:2557: FutureWarning: `distplot` is a deprecated function and will be removed in a future version. Please adapt your code to use either `displot` (a figure-level function with similar flexibility) or `histplot` (an axes-level function for histograms).\n",
      "  warnings.warn(msg, FutureWarning)\n"
     ]
    },
    {
     "data": {
      "image/png": "[encoded data removed]",
      "text/plain": [
       "<Figure size 1440x720 with 2 Axes>"
      ]
     },
     "metadata": {
      "needs_background": "light"
     },
     "output_type": "display_data"
    }
   ],
   "source": [
    "fig,ax = plt.subplots(1,2)\n",
    "\n",
    "fig.set_figheight(10)\n",
    "fig.set_figwidth(20)\n",
    "sns.distplot(x=startup1[startup1['OperatingState']=='Operating']['Funds_in_million'],ax=ax[0])\n",
    "sns.distplot(x=startup1[startup1['OperatingState']=='Closed']['Funds_in_million'],ax=ax[1])\n",
    "ax[0].set_title(\"Funding for companies Operating\")\n",
    "ax[1].set_title(\"Funding for companies Closed\")\n",
    "plt.show()\n"
   ]
  },
  {
   "cell_type": "markdown",
   "id": "15476443",
   "metadata": {},
   "source": [
    "The distributions look very similar on the plot. However, to test the statistical significance, we will do a significance test. We can perform z or t test here. Also, though the distributions are not normal, since our sample size > 30 we can perform the z-test or t-test."
   ]
  },
  {
   "cell_type": "markdown",
   "id": "03367310",
   "metadata": {},
   "source": [
    "<b>Ho = </b>Null Hypothesis = There is no difference between the two means <br>\n",
    "<b>Ha = </b>Alternate Hypothesis = There is significant difference between the two means"
   ]
  },
  {
   "cell_type": "markdown",
   "id": "4c8c7e31",
   "metadata": {},
   "source": [
    "Now, let us perform the z-test on this sample at 0.05 significance level"
   ]
  },
  {
   "cell_type": "code",
   "execution_count": 127,
   "id": "493c51dc",
   "metadata": {},
   "outputs": [
    {
     "name": "stdout",
     "output_type": "stream",
     "text": [
      "Since p_val = 0.192 is greater than the significance level (0.05), the difference between the means is not significant \n",
      "and we fail to reject Ho\n"
     ]
    }
   ],
   "source": [
    "from statsmodels.stats.weightstats import ztest\n",
    "alpha = 0.05 # defining the significance level\n",
    "operating = startup1[startup1['OperatingState']=='Operating']['Funds_in_million']\n",
    "closed = startup1[startup1['OperatingState']=='Closed']['Funds_in_million']\n",
    "z_stat, p_val = ztest(operating, closed)\n",
    "\n",
    "if p_val > alpha:\n",
    "    print(\"Since p_val = %.3f is greater than the significance level (0.05), the difference between the means is not significant \\nand we fail to reject Ho\" %p_val)\n",
    "else:\n",
    "    print(\"Since p_val = %.3f is less than the significance level (0.05), the difference between the means is significant \\nand we reject reject Ho\" %p_val)"
   ]
  },
  {
   "cell_type": "code",
   "execution_count": 128,
   "id": "bb3c56e1",
   "metadata": {},
   "outputs": [
    {
     "data": {
      "text/html": [
       "<div>\n",
       "<style scoped>\n",
       "    .dataframe tbody tr th:only-of-type {\n",
       "        vertical-align: middle;\n",
       "    }\n",
       "\n",
       "    .dataframe tbody tr th {\n",
       "        vertical-align: top;\n",
       "    }\n",
       "\n",
       "    .dataframe thead th {\n",
       "        text-align: right;\n",
       "    }\n",
       "</style>\n",
       "<table border=\"1\" class=\"dataframe\">\n",
       "  <thead>\n",
       "    <tr style=\"text-align: right;\">\n",
       "      <th></th>\n",
       "      <th>Startup</th>\n",
       "      <th>Product</th>\n",
       "      <th>Funding</th>\n",
       "      <th>Event</th>\n",
       "      <th>Result</th>\n",
       "      <th>OperatingState</th>\n",
       "    </tr>\n",
       "  </thead>\n",
       "  <tbody>\n",
       "    <tr>\n",
       "      <th>0</th>\n",
       "      <td>2600Hz</td>\n",
       "      <td>2600hz.com</td>\n",
       "      <td>NaN</td>\n",
       "      <td>Disrupt SF 2013</td>\n",
       "      <td>Contestant</td>\n",
       "      <td>Operating</td>\n",
       "    </tr>\n",
       "    <tr>\n",
       "      <th>1</th>\n",
       "      <td>3DLT</td>\n",
       "      <td>3dlt.com</td>\n",
       "      <td>$630K</td>\n",
       "      <td>Disrupt NYC 2013</td>\n",
       "      <td>Contestant</td>\n",
       "      <td>Closed</td>\n",
       "    </tr>\n",
       "    <tr>\n",
       "      <th>2</th>\n",
       "      <td>3DPrinterOS</td>\n",
       "      <td>3dprinteros.com</td>\n",
       "      <td>NaN</td>\n",
       "      <td>Disrupt SF 2016</td>\n",
       "      <td>Contestant</td>\n",
       "      <td>Operating</td>\n",
       "    </tr>\n",
       "    <tr>\n",
       "      <th>3</th>\n",
       "      <td>3Dprintler</td>\n",
       "      <td>3dprintler.com</td>\n",
       "      <td>$1M</td>\n",
       "      <td>Disrupt NY 2016</td>\n",
       "      <td>Audience choice</td>\n",
       "      <td>Operating</td>\n",
       "    </tr>\n",
       "    <tr>\n",
       "      <th>4</th>\n",
       "      <td>42 Technologies</td>\n",
       "      <td>42technologies.com</td>\n",
       "      <td>NaN</td>\n",
       "      <td>Disrupt NYC 2013</td>\n",
       "      <td>Contestant</td>\n",
       "      <td>Operating</td>\n",
       "    </tr>\n",
       "  </tbody>\n",
       "</table>\n",
       "</div>"
      ],
      "text/plain": [
       "           Startup             Product Funding             Event  \\\n",
       "0           2600Hz          2600hz.com     NaN   Disrupt SF 2013   \n",
       "1             3DLT            3dlt.com   $630K  Disrupt NYC 2013   \n",
       "2      3DPrinterOS     3dprinteros.com     NaN   Disrupt SF 2016   \n",
       "3       3Dprintler      3dprintler.com     $1M   Disrupt NY 2016   \n",
       "4  42 Technologies  42technologies.com     NaN  Disrupt NYC 2013   \n",
       "\n",
       "            Result OperatingState  \n",
       "0       Contestant      Operating  \n",
       "1       Contestant         Closed  \n",
       "2       Contestant      Operating  \n",
       "3  Audience choice      Operating  \n",
       "4       Contestant      Operating  "
      ]
     },
     "execution_count": 128,
     "metadata": {},
     "output_type": "execute_result"
    }
   ],
   "source": [
    "#make a copy of the dataframe\n",
    "startup2 = startup.copy(deep=True)\n",
    "startup2.head()"
   ]
  },
  {
   "cell_type": "code",
   "execution_count": 129,
   "id": "e1f8d502",
   "metadata": {},
   "outputs": [
    {
     "data": {
      "text/plain": [
       "Contestant         488\n",
       "Finalist            84\n",
       "Audience choice     41\n",
       "Winner              26\n",
       "Runner up           23\n",
       "Name: Result, dtype: int64"
      ]
     },
     "execution_count": 129,
     "metadata": {},
     "output_type": "execute_result"
    }
   ],
   "source": [
    "#Check the frequency distribution of the Result variable\n",
    "startup2.Result.value_counts()"
   ]
  },
  {
   "cell_type": "markdown",
   "id": "a8cbf37e",
   "metadata": {},
   "source": [
    "There are total 488 firms which were Contestants whie the rest were either Finalists, Audience Choice winners or podium finishers (Winner/Runner up)"
   ]
  },
  {
   "cell_type": "code",
   "execution_count": 130,
   "id": "4bcd59f8",
   "metadata": {},
   "outputs": [
    {
     "name": "stdout",
     "output_type": "stream",
     "text": [
      "Proportion of Winners that are Operating is 0.764\n",
      "Proporation of Contestants that are Operating is 0.680\n"
     ]
    }
   ],
   "source": [
    "# Finding proportion of winners and contestants that are in 'Operating' state\n",
    "n_winners = startup2['Result'].value_counts()[1:].sum() # total number of winners \n",
    "n_contestants = startup2['Result'].value_counts()[0] # total number of contestants\n",
    "\n",
    "#startup2.value_counts([\"Result\", \"OperatingState\"])\n",
    "n_w_o = startup2['OperatingState'][startup2['Result']!='Contestant'].value_counts()[0] # total number of winners that are operating\n",
    "n_c_o = startup2['OperatingState'][startup2['Result']=='Contestant'].value_counts()[0] # total number of contestants that are operating\n",
    "\n",
    "print (\"Proportion of Winners that are Operating is %.3f\" %(n_w_o/n_winners))\n",
    "print (\"Proporation of Contestants that are Operating is %.3f\" %(n_c_o/n_contestants))"
   ]
  },
  {
   "cell_type": "markdown",
   "id": "3b46b419",
   "metadata": {},
   "source": [
    "We see that the proportions are different but to determine if they are statistically significantly different, we will do a test of proportions via the z-test. Again, we can perform this test as the sample size in each option is > 30"
   ]
  },
  {
   "cell_type": "markdown",
   "id": "aad42a51",
   "metadata": {},
   "source": [
    "<b>Ho =</b> Null Hypothesis = The proportion of companies that are operating is the same in both winners and contestants <br>\n",
    "<b>Ha =</b> Alternate Hypothesis = The proportion of companies that are operating are statisticaly siginificantly different between winners and contestants"
   ]
  },
  {
   "cell_type": "markdown",
   "id": "ccd773e7",
   "metadata": {},
   "source": [
    "Now, let us perform the z-test on this sample at 0.05 significance level"
   ]
  },
  {
   "cell_type": "code",
   "execution_count": 131,
   "id": "47657ec1",
   "metadata": {},
   "outputs": [
    {
     "name": "stdout",
     "output_type": "stream",
     "text": [
      "Since p_val = 0.037 is less than the significance level (0.05), the difference between the proportions is significant \n",
      "and we reject reject Ho\n"
     ]
    }
   ],
   "source": [
    "from statsmodels.stats.proportion import proportions_ztest\n",
    "\n",
    "z_stat, p_val = proportions_ztest([n_w_o,n_c_o],[n_winners,n_contestants])\n",
    "\n",
    "if p_val > alpha:\n",
    "    print(\"Since p_val = %.3f is greater than the significance level (0.05), the difference between the proportions is not significant \\nand we fail to reject Ho\" %p_val)\n",
    "else:\n",
    "    print(\"Since p_val = %.3f is less than the significance level (0.05), the difference between the proportions is significant \\nand we reject reject Ho\" %p_val)\n",
    "\n"
   ]
  },
  {
   "cell_type": "code",
   "execution_count": 132,
   "id": "ec3a8068",
   "metadata": {},
   "outputs": [
    {
     "data": {
      "text/plain": [
       "TC50 2008                    25\n",
       "TC40 2007                    22\n",
       "Disrupt NY 2015              21\n",
       "Disrupt SF 2015              19\n",
       "Disrupt NYC 2013             19\n",
       "Disrupt SF 2013              19\n",
       "Disrupt SF 2011              19\n",
       "TC50 2009                    19\n",
       "Disrupt NYC 2012             19\n",
       "Disrupt SF 2014              19\n",
       "Disrupt SF 2016              17\n",
       "Disrupt NY 2016              16\n",
       "Disrupt NYC 2011             15\n",
       "Disrupt SF 2012              15\n",
       "Disrupt NYC 2014             15\n",
       "Disrupt SF 2010              13\n",
       "Hardware Battlefield 2014    12\n",
       "Hardware Battlefield 2016    12\n",
       "Disrupt London 2015          11\n",
       "Disrupt EU 2014              10\n",
       "Hardware Battlefield 2015    10\n",
       "Disrupt NYC 2010             10\n",
       "Disrupt London 2016          10\n",
       "Disrupt EU 2013               9\n",
       "-                             6\n",
       "Disrupt Beijing 2011          4\n",
       "Name: Event, dtype: int64"
      ]
     },
     "execution_count": 132,
     "metadata": {},
     "output_type": "execute_result"
    }
   ],
   "source": [
    "# Checking Distribution of Event variable\n",
    "startup1['Event'].value_counts()"
   ]
  },
  {
   "cell_type": "code",
   "execution_count": 164,
   "id": "1caa126a",
   "metadata": {},
   "outputs": [
    {
     "data": {
      "text/plain": [
       "2016"
      ]
     },
     "execution_count": 164,
     "metadata": {},
     "output_type": "execute_result"
    }
   ],
   "source": [
    "# Picking only the entries with Disrupt keyword in Event and conducted from 2013 onwards\n",
    "events = startup1[startup1['Event'].apply( lambda x: 'Disrupt' in x and int(x[-4:]) > 2012)]['Event']\n",
    "year = events.apply(lambda x: int(x[-4:]))"
   ]
  },
  {
   "cell_type": "code",
   "execution_count": 161,
   "id": "80618ec8",
   "metadata": {},
   "outputs": [],
   "source": [
    "NY_eve = startup1.loc[events[events.apply(lambda x: 'NY' in x)].index, 'Funds_in_million']\n",
    "SF_eve = startup1.loc[events[events.apply(lambda x: 'SF' in x)].index, 'Funds_in_million']\n",
    "EU_eve = startup1.loc[events[events.apply(lambda x: 'EU' in x or 'London' in x)].index, 'Funds_in_million'] #Assuming London is in EU since the events listed are from a period where UK was still in EU (last year in data is 2016)"
   ]
  },
  {
   "cell_type": "code",
   "execution_count": 167,
   "id": "647c41a9",
   "metadata": {},
   "outputs": [
    {
     "name": "stderr",
     "output_type": "stream",
     "text": [
      "C:\\Program Files\\Anaconda3\\lib\\site-packages\\seaborn\\distributions.py:2557: FutureWarning: `distplot` is a deprecated function and will be removed in a future version. Please adapt your code to use either `displot` (a figure-level function with similar flexibility) or `histplot` (an axes-level function for histograms).\n",
      "  warnings.warn(msg, FutureWarning)\n",
      "C:\\Program Files\\Anaconda3\\lib\\site-packages\\seaborn\\distributions.py:2557: FutureWarning: `distplot` is a deprecated function and will be removed in a future version. Please adapt your code to use either `displot` (a figure-level function with similar flexibility) or `histplot` (an axes-level function for histograms).\n",
      "  warnings.warn(msg, FutureWarning)\n",
      "C:\\Program Files\\Anaconda3\\lib\\site-packages\\seaborn\\distributions.py:2557: FutureWarning: `distplot` is a deprecated function and will be removed in a future version. Please adapt your code to use either `displot` (a figure-level function with similar flexibility) or `histplot` (an axes-level function for histograms).\n",
      "  warnings.warn(msg, FutureWarning)\n"
     ]
    },
    {
     "data": {
      "image/png": "[encoded data removed]",
      "text/plain": [
       "<Figure size 1080x432 with 1 Axes>"
      ]
     },
     "metadata": {
      "needs_background": "light"
     },
     "output_type": "display_data"
    }
   ],
   "source": [
    "plt.figure(figsize =(15,6))\n",
    "sns.distplot(NY_eve, color ='purple',label ='NY')\n",
    "sns.distplot(SF_eve, color ='orange',label ='SF')\n",
    "sns.distplot(EU_eve, color ='green',label ='EU')\n",
    "plt.legend()\n",
    "plt.show()"
   ]
  },
  {
   "cell_type": "markdown",
   "id": "017e6eef",
   "metadata": {},
   "source": [
    "The distributions look quite similar. The mode occurs at pretty much the same spot for all 3 locations. The spread for NY is more than that of SF and EU"
   ]
  },
  {
   "cell_type": "code",
   "execution_count": 172,
   "id": "6bfaab3d",
   "metadata": {},
   "outputs": [
    {
     "name": "stdout",
     "output_type": "stream",
     "text": [
      "NY events: 71  SF events: 74  EU events: 40\n"
     ]
    }
   ],
   "source": [
    "print(\"NY events: %i  SF events: %i  EU events: %i\" %(len(NY_eve),len(SF_eve),len(EU_eve)))"
   ]
  },
  {
   "cell_type": "markdown",
   "id": "92024953",
   "metadata": {},
   "source": [
    "We see that there are > 30 samples in each set and hence we can meaningfully perform any statistical tests assuming normal distribution.\n",
    "\n",
    "**Ho =** Null Hypothesis = Mean of funds raised by companies is same across the 3 locations <br>\n",
    "**Ha =** Aternate Hypothesis = Mean of funds raised by companies are different across the 3 locations (atleast one mean is different)"
   ]
  },
  {
   "cell_type": "markdown",
   "id": "e33c39c8",
   "metadata": {},
   "source": [
    "Now, let us perform a One-way ANOVA on this data at 0.05 significance level"
   ]
  },
  {
   "cell_type": "code",
   "execution_count": 173,
   "id": "6a297a25",
   "metadata": {},
   "outputs": [
    {
     "name": "stdout",
     "output_type": "stream",
     "text": [
      "Since p_val = 0.628 is greater than the significance level (0.05), the difference between the means is not significant \n",
      "and we fail to reject Ho\n"
     ]
    }
   ],
   "source": [
    "from scipy.stats import f_oneway\n",
    "\n",
    "F_Stat, p_val = f_oneway(NY_eve, SF_eve, EU_eve)\n",
    "\n",
    "if p_val > alpha:\n",
    "    print(\"Since p_val = %.3f is greater than the significance level (0.05), the difference between the means is not significant \\nand we fail to reject Ho\" %p_val)\n",
    "else:\n",
    "    print(\"Since p_val = %.3f is less than the significance level (0.05), the difference between the means is significant \\nand we reject reject Ho\" %p_val)\n",
    "    "
   ]
  },
  {
   "cell_type": "markdown",
   "id": "a008d6db",
   "metadata": {},
   "source": [
    "The distribution of funds raised by the companies across the three regions is the same. We found no evidence to say companies participating in certain regions have funds either significantly on the higher side or on the lower side."
   ]
  },
  {
   "cell_type": "markdown",
   "id": "cbd6d9e0",
   "metadata": {},
   "source": [
    "### Observations on the datapoints collected to perform a better data analysis"
   ]
  },
  {
   "cell_type": "markdown",
   "id": "c4ab59ec",
   "metadata": {},
   "source": [
    "**Quality**:\n",
    "- We had to discard 216 entries due to unavailable data, resulting in a reduced usable data set. \n",
    "- Pre-processed data will help save time for analysis (such as capturing Event location, Year, and Funds in separate columns and in the right format\n",
    "- There are 6 event entries still missing which cannot be filled because the year or type of events are not deductible\n",
    "- Hence, complete data sets would be beneficial to perform statistical analyses"
   ]
  },
  {
   "cell_type": "markdown",
   "id": "e16445c9",
   "metadata": {},
   "source": [
    "**Quantity**:\n",
    "- The overall usable data is very low. Hypothesis testing is effective with higher sample sizes. When we apply filtered cuts on the data, the sample size tends to go close to the 30 cut-off, thereby affecting our normality assumptions. Hence, we shoud try to collect more data amongst each cut that we want to analyse that is representative of the population\n",
    "- In fact, if we want to test our hypothesis on individual Winner classes, it won't be possible since a few have < 30 samples"
   ]
  },
  {
   "cell_type": "markdown",
   "id": "4a846c97",
   "metadata": {},
   "source": [
    "**Variety**:\n",
    "- Data from a variety of sources such as blog aritcles, press releases, etc could be tracked to update our database\n",
    "- Specifically data on P&L statements, Social Media activity/posts from the company, Press Releases and its contents could provide added information on the company's health and funding"
   ]
  },
  {
   "cell_type": "markdown",
   "id": "e67e3eb6",
   "metadata": {},
   "source": [
    "**Velocity**:\n",
    "- The data could be updated every 3 months to ensure the 'OperationsState' and 'Funding' attributes are mapped accurately"
   ]
  },
  {
   "cell_type": "markdown",
   "id": "ff725a2a",
   "metadata": {},
   "source": [
    "**Veracity**: \n",
    "- The funding values are skewed and abnormal to another 60 outliers which could not be used for analysis. Hence, we should double-check the funding values to ensure the data is truthful and without error"
   ]
  },
  {
   "cell_type": "markdown",
   "id": "8102e1c8",
   "metadata": {},
   "source": [
    "**Value:**\n",
    "- If we are able to implement the above successfully, we can then add value by being able to predict if a company was about to Close down. \n",
    "- Basis their P&L statements and press releases we could also predict their performance in upcoming events "
   ]
  },
  {
   "cell_type": "code",
   "execution_count": null,
   "id": "990b964e",
   "metadata": {},
   "outputs": [],
   "source": []
  }
 ],
 "metadata": {
  "kernelspec": {
   "display_name": "Python 3",
   "language": "python",
   "name": "python3"
  },
  "language_info": {
   "codemirror_mode": {
    "name": "ipython",
    "version": 3
   },
   "file_extension": ".py",
   "mimetype": "text/x-python",
   "name": "python",
   "nbconvert_exporter": "python",
   "pygments_lexer": "ipython3",
   "version": "3.8.3"
  }
 },
 "nbformat": 4,
 "nbformat_minor": 5
}
